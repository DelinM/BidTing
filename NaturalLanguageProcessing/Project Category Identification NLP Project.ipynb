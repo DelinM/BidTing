{
 "cells": [
  {
   "cell_type": "markdown",
   "id": "edaa51b5",
   "metadata": {},
   "source": [
    "# Project Category Identification NLP Project <a id='Data Overview'></a>"
   ]
  },
  {
   "cell_type": "markdown",
   "id": "ed2fc34f",
   "metadata": {},
   "source": [
    "## Table of Contents <a id='2.1_Contents'></a>\n",
    "* [0. Background](#0)\n",
    "* [1. Data Import - Building Dataset](#1)\n",
    "* [2. Target Location Selection](#2)\n",
    "* [3. Data Understanding](#3)\n",
    "    * [3.1 Missing Values](#3.1)\n",
    "    * [3.2 Meter Type Observation](#3.2)\n",
    "    * [3.3 Building Area Observation](#3.3)\n",
    "    * [3.4 Building Category Observation](#3.4)\n",
    "    * [3.5 Building Energy Use Intensity](#3.5)\n",
    "    * [3.6 Other Building Parameters](#3.6)\n",
    "* [4.0 Save Data](#4.0)"
   ]
  },
  {
   "cell_type": "markdown",
   "id": "0e7fb739",
   "metadata": {},
   "source": [
    "## 0. Background"
   ]
  },
  {
   "cell_type": "markdown",
   "id": "4a53e29d",
   "metadata": {},
   "source": [
    "I built a web scrapping tool that scraps biding and tendering information from public sectors in Ontario. The public sectors includes regions such as York Region, Peel Region, Halton Region, and cities such as City of Mississauga.\n",
    "\n",
    "The intend of the project is to use DATA to tell a story about the Competitiveness of the public sector. The collected information are used to conduct the following analysis:\n",
    "\n",
    "* **Public Sector Market Understanding**: an overview of the public sector markets (services, construction, and goods), how the market changes over time.\n",
    "\n",
    "* **Competitive Information**: an overview of the performance of private companies in different public sectors. What is their wining rate comparing with their competitors. The private companies includes construction companies such as Maple Reinders Constructors Ltd. and Kenaidan Contracting Ltd., consulting companies such WSP Canada Inc., Hatch Ltd., and good supplying companies.\n",
    "\n",
    "* **Competitiveness by Category** Different private companies in the public sectors have overlapping skill sets in the public sectors, they may also specialize a niche that company leaders and strategist may not be aware off. The tool intends to use DATA to show competitiveness of each companies in different sectors such as consulting in water & wastewater, construction in civil engineering works, etc.\n",
    "\n",
    "The collected information includes project names and a generic category information. In order to understand \"Competitiveness by Category\", the original \"generic category\" needs to further broken down into detailed categories. There are almost 10k project collected, it is not practical to provide a detailed category to each of the project,. Further more, as more projects be collected, manual tagging the category is timing consuming.\n",
    "\n",
    "Therefore, Natural Language Processing (NLP) is used to do the category task for current projects and any future projects."
   ]
  },
  {
   "cell_type": "markdown",
   "id": "acf449cf",
   "metadata": {},
   "source": [
    "## 0.1 Import Libraries"
   ]
  },
  {
   "cell_type": "code",
   "execution_count": 190,
   "id": "064e029c",
   "metadata": {},
   "outputs": [],
   "source": [
    "import pandas as pd\n",
    "import numpy as np\n",
    "import dataresource as dr"
   ]
  },
  {
   "cell_type": "markdown",
   "id": "b98a791e",
   "metadata": {},
   "source": [
    "## 0.2 Import Original Dataset"
   ]
  },
  {
   "cell_type": "code",
   "execution_count": 191,
   "id": "09dd0fec",
   "metadata": {},
   "outputs": [],
   "source": [
    "path = \"../NaturalLanguageProcessing/Data.csv\"\n",
    "df = pd.read_csv(path)\n",
    "df.drop_duplicates(inplace=True)"
   ]
  },
  {
   "cell_type": "markdown",
   "id": "99c5cfea",
   "metadata": {},
   "source": [
    "## 1. Data Wrangling"
   ]
  },
  {
   "cell_type": "code",
   "execution_count": 192,
   "id": "069f6fe6",
   "metadata": {},
   "outputs": [
    {
     "name": "stdout",
     "output_type": "stream",
     "text": [
      "<class 'pandas.core.frame.DataFrame'>\n",
      "Int64Index: 9126 entries, 0 to 48198\n",
      "Data columns (total 7 columns):\n",
      " #   Column              Non-Null Count  Dtype  \n",
      "---  ------              --------------  -----  \n",
      " 0   client_name         9126 non-null   object \n",
      " 1   project_name        9126 non-null   object \n",
      " 2   bid_classification  7275 non-null   object \n",
      " 3   bid_type            9101 non-null   object \n",
      " 4   bid_ID              9126 non-null   object \n",
      " 5   awarded_date        9124 non-null   object \n",
      " 6   awarded_year        9124 non-null   float64\n",
      "dtypes: float64(1), object(6)\n",
      "memory usage: 570.4+ KB\n"
     ]
    }
   ],
   "source": [
    "df.info()"
   ]
  },
  {
   "cell_type": "code",
   "execution_count": 193,
   "id": "bf996b86",
   "metadata": {},
   "outputs": [
    {
     "data": {
      "text/html": [
       "<div>\n",
       "<style scoped>\n",
       "    .dataframe tbody tr th:only-of-type {\n",
       "        vertical-align: middle;\n",
       "    }\n",
       "\n",
       "    .dataframe tbody tr th {\n",
       "        vertical-align: top;\n",
       "    }\n",
       "\n",
       "    .dataframe thead th {\n",
       "        text-align: right;\n",
       "    }\n",
       "</style>\n",
       "<table border=\"1\" class=\"dataframe\">\n",
       "  <thead>\n",
       "    <tr style=\"text-align: right;\">\n",
       "      <th></th>\n",
       "      <th>client_name</th>\n",
       "      <th>project_name</th>\n",
       "      <th>bid_classification</th>\n",
       "      <th>bid_type</th>\n",
       "      <th>bid_ID</th>\n",
       "      <th>awarded_date</th>\n",
       "      <th>awarded_year</th>\n",
       "    </tr>\n",
       "  </thead>\n",
       "  <tbody>\n",
       "    <tr>\n",
       "      <th>0</th>\n",
       "      <td>York Region</td>\n",
       "      <td>General Contractors And Subcontractors For Sen...</td>\n",
       "      <td>Services</td>\n",
       "      <td>Pre-Qualification</td>\n",
       "      <td>PQ-20-156</td>\n",
       "      <td>05-Mar</td>\n",
       "      <td>2021.0</td>\n",
       "    </tr>\n",
       "    <tr>\n",
       "      <th>9</th>\n",
       "      <td>York Region</td>\n",
       "      <td>Supply And Delivery Of As-Required Spill Respo...</td>\n",
       "      <td>Services</td>\n",
       "      <td>Tender</td>\n",
       "      <td>T-20-204</td>\n",
       "      <td>16-Feb</td>\n",
       "      <td>2021.0</td>\n",
       "    </tr>\n",
       "    <tr>\n",
       "      <th>13</th>\n",
       "      <td>York Region</td>\n",
       "      <td>Prequalification Of Consultants For The Feasib...</td>\n",
       "      <td>Services</td>\n",
       "      <td>Pre-Qualification</td>\n",
       "      <td>PQ-20-247</td>\n",
       "      <td>25-Jan</td>\n",
       "      <td>2021.0</td>\n",
       "    </tr>\n",
       "    <tr>\n",
       "      <th>20</th>\n",
       "      <td>York Region</td>\n",
       "      <td>Detailed Design And Engineering Services For 1...</td>\n",
       "      <td>Services</td>\n",
       "      <td>RFP</td>\n",
       "      <td>P-20-46</td>\n",
       "      <td>11-Feb</td>\n",
       "      <td>2021.0</td>\n",
       "    </tr>\n",
       "    <tr>\n",
       "      <th>25</th>\n",
       "      <td>York Region</td>\n",
       "      <td>Waste Electrical And Electronic Equipment (Wee...</td>\n",
       "      <td>Services</td>\n",
       "      <td>Tender</td>\n",
       "      <td>T-20-260</td>\n",
       "      <td>18-Dec</td>\n",
       "      <td>2020.0</td>\n",
       "    </tr>\n",
       "  </tbody>\n",
       "</table>\n",
       "</div>"
      ],
      "text/plain": [
       "    client_name                                       project_name  \\\n",
       "0   York Region  General Contractors And Subcontractors For Sen...   \n",
       "9   York Region  Supply And Delivery Of As-Required Spill Respo...   \n",
       "13  York Region  Prequalification Of Consultants For The Feasib...   \n",
       "20  York Region  Detailed Design And Engineering Services For 1...   \n",
       "25  York Region  Waste Electrical And Electronic Equipment (Wee...   \n",
       "\n",
       "   bid_classification           bid_type     bid_ID awarded_date  awarded_year  \n",
       "0            Services  Pre-Qualification  PQ-20-156       05-Mar        2021.0  \n",
       "9            Services             Tender   T-20-204       16-Feb        2021.0  \n",
       "13           Services  Pre-Qualification  PQ-20-247       25-Jan        2021.0  \n",
       "20           Services                RFP    P-20-46       11-Feb        2021.0  \n",
       "25           Services             Tender   T-20-260       18-Dec        2020.0  "
      ]
     },
     "execution_count": 193,
     "metadata": {},
     "output_type": "execute_result"
    }
   ],
   "source": [
    "df.head()"
   ]
  },
  {
   "cell_type": "markdown",
   "id": "bcc8a272",
   "metadata": {},
   "source": [
    "## 1.1 Data Exploration"
   ]
  },
  {
   "cell_type": "markdown",
   "id": "b4b80f43",
   "metadata": {},
   "source": [
    "### 1.1.1 Data Exploration - client_name"
   ]
  },
  {
   "cell_type": "code",
   "execution_count": 194,
   "id": "f82004eb",
   "metadata": {},
   "outputs": [
    {
     "data": {
      "text/plain": [
       "19"
      ]
     },
     "execution_count": 194,
     "metadata": {},
     "output_type": "execute_result"
    }
   ],
   "source": [
    "client_list = df.client_name.unique().tolist()\n",
    "len(client_list)"
   ]
  },
  {
   "cell_type": "code",
   "execution_count": 195,
   "id": "0e3f2339",
   "metadata": {},
   "outputs": [
    {
     "data": {
      "text/plain": [
       "['York Region',\n",
       " 'Waterloo Region',\n",
       " 'Simcoe County',\n",
       " 'Peterborough County',\n",
       " 'Niagara Region',\n",
       " 'Halton Region',\n",
       " 'Haldimand County',\n",
       " 'Durham Region',\n",
       " 'Dufferin County',\n",
       " 'City Of Peterborough',\n",
       " 'City of Orillia',\n",
       " 'City of London',\n",
       " 'City of Kawartha Lakes',\n",
       " 'City of Hamilton',\n",
       " 'City of Guelph',\n",
       " 'City of Brantford',\n",
       " 'City of Barrie',\n",
       " 'Brant County',\n",
       " 'Peel Region']"
      ]
     },
     "execution_count": 195,
     "metadata": {},
     "output_type": "execute_result"
    }
   ],
   "source": [
    "client_list"
   ]
  },
  {
   "cell_type": "code",
   "execution_count": 196,
   "id": "6ba877b0",
   "metadata": {},
   "outputs": [
    {
     "data": {
      "text/plain": [
       "client_name   awarded_year\n",
       "Brant County  2015.0            4\n",
       "              2016.0           27\n",
       "              2017.0           58\n",
       "              2018.0           33\n",
       "              2019.0           31\n",
       "                             ... \n",
       "York Region   2017.0          253\n",
       "              2018.0          261\n",
       "              2019.0          243\n",
       "              2020.0          203\n",
       "              2021.0           14\n",
       "Name: client_name, Length: 101, dtype: int64"
      ]
     },
     "execution_count": 196,
     "metadata": {},
     "output_type": "execute_result"
    }
   ],
   "source": [
    "df.groupby(['client_name', 'awarded_year'])['client_name'].count()"
   ]
  },
  {
   "cell_type": "markdown",
   "id": "4b67f66b",
   "metadata": {},
   "source": [
    "There are 19 clients included in the dataset. The client name will not be used as an input for NLP because the client name does not have any affect on the project name and project category."
   ]
  },
  {
   "cell_type": "markdown",
   "id": "7657f516",
   "metadata": {},
   "source": [
    "### 1.1.2 Data Exploration - bid_type"
   ]
  },
  {
   "cell_type": "markdown",
   "id": "d7b13302",
   "metadata": {},
   "source": [
    "There are a couple of bid types in the business of the public sector: Request for Tender(RFT), Request for Proposal(RFP), Request for Quotation(RFQ), Request for Information (RFI), and Request for Pre-Qualification(RFPQ)."
   ]
  },
  {
   "cell_type": "code",
   "execution_count": 197,
   "id": "852e87ae",
   "metadata": {},
   "outputs": [
    {
     "data": {
      "text/plain": [
       "count       9101\n",
       "unique        58\n",
       "top       Tender\n",
       "freq        1939\n",
       "Name: bid_type, dtype: object"
      ]
     },
     "execution_count": 197,
     "metadata": {},
     "output_type": "execute_result"
    }
   ],
   "source": [
    "df.bid_type.describe()"
   ]
  },
  {
   "cell_type": "code",
   "execution_count": 198,
   "id": "673209dd",
   "metadata": {
    "scrolled": false
   },
   "outputs": [
    {
     "data": {
      "text/plain": [
       "['Pre-Qualification',\n",
       " 'Tender',\n",
       " 'RFP',\n",
       " 'Notice of Contract Award',\n",
       " 'RFI',\n",
       " 'EOI',\n",
       " 'RFQ',\n",
       " 'Request for Tender',\n",
       " 'Request for Proposal',\n",
       " 'Consultant Selection',\n",
       " 'Consultant Selection Stage 1',\n",
       " 'Expression of Interest',\n",
       " 'Request for Quote',\n",
       " 'Consultant Selection Stage 2',\n",
       " 'Cooperative Tender',\n",
       " 'Request for Tender (Carpentry)',\n",
       " 'Request For Proposal',\n",
       " 'Request For PreQualification',\n",
       " 'Request for Quotation',\n",
       " 'RFT',\n",
       " 'Request for Offer',\n",
       " 'Request For Tender',\n",
       " 'Request For Quotation',\n",
       " 'Request for Proposal(N)',\n",
       " 'RFPQ',\n",
       " nan,\n",
       " 'N',\n",
       " 'NRFP',\n",
       " 'Request For Quotations',\n",
       " 'Request for Supplier Pre-qualification',\n",
       " 'ITT',\n",
       " 'RFSQ',\n",
       " 'RFEOI',\n",
       " 'Request for Qualifications',\n",
       " 'Request for Quotation (Formal)',\n",
       " 'Informal Request for Quotation',\n",
       " 'Request for Information',\n",
       " 'Request For Supplier Qualification',\n",
       " 'RFT - Public Works',\n",
       " 'RFT - Construction - Stipulated Price - CCDC',\n",
       " 'RFT - Construction - Unit Price',\n",
       " 'RFT - Goods and Services',\n",
       " 'RFP - Goods and Services',\n",
       " 'RFT - Vehicle',\n",
       " 'RFRC',\n",
       " 'RFT - Revenue Generating',\n",
       " 'RFP - Prime Consultant',\n",
       " 'RFP - Revenue Generating',\n",
       " 'RFQ (<)',\n",
       " 'RFD (Disposal)',\n",
       " 'Notice',\n",
       " 'Non-Standard Procurement',\n",
       " 'RFQ – Low Bid',\n",
       " 'RFQ – High Score',\n",
       " 'RFP – Consecutive Negotiation',\n",
       " 'RFSQ – Prequalification',\n",
       " 'DN',\n",
       " 'VOR',\n",
       " 'RFO']"
      ]
     },
     "execution_count": 198,
     "metadata": {},
     "output_type": "execute_result"
    }
   ],
   "source": [
    "df.bid_type.unique().tolist()"
   ]
  },
  {
   "cell_type": "code",
   "execution_count": 199,
   "id": "460f86ba",
   "metadata": {},
   "outputs": [
    {
     "data": {
      "text/plain": [
       "Tender                                          1939\n",
       "RFP                                             1529\n",
       "RFT                                             1258\n",
       "Request for Tender                               929\n",
       "RFQ                                              425\n",
       "Pre-Qualification                                317\n",
       "Request For Proposal                             297\n",
       "Request for Proposal                             237\n",
       "Request For Quotation                            195\n",
       "Request For Tender                               176\n",
       "RFT - Goods and Services                         157\n",
       "RFPQ                                             154\n",
       "RFT - Public Works                               152\n",
       "Consultant Selection                             134\n",
       "RFP - Goods and Services                         104\n",
       "RFQ – Low Bid                                    101\n",
       "ITT                                               97\n",
       "RFT - Construction - Stipulated Price - CCDC      91\n",
       "Request for Quotation (Formal)                    85\n",
       "RFQ (<)                                           85\n",
       "RFP – Consecutive Negotiation                     77\n",
       "RFI                                               60\n",
       "RFQ – High Score                                  57\n",
       "RFT - Construction - Unit Price                   52\n",
       "RFRC                                              40\n",
       "Request for Qualifications                        36\n",
       "Request for Quote                                 33\n",
       "Consultant Selection Stage 1                      32\n",
       "DN                                                31\n",
       "Request for Tender (Carpentry)                    31\n",
       "Request For PreQualification                      28\n",
       "NaN                                               25\n",
       "RFSQ                                              22\n",
       "RFT - Vehicle                                     19\n",
       "Request for Quotation                             17\n",
       "Non-Standard Procurement                          14\n",
       "N                                                 14\n",
       "RFSQ – Prequalification                           11\n",
       "Request For Supplier Qualification                 9\n",
       "Cooperative Tender                                 8\n",
       "Informal Request for Quotation                     7\n",
       "RFP - Prime Consultant                             4\n",
       "Notice                                             4\n",
       "RFD (Disposal)                                     4\n",
       "Expression of Interest                             4\n",
       "Notice of Contract Award                           3\n",
       "VOR                                                3\n",
       "NRFP                                               3\n",
       "Request for Supplier Pre-qualification             2\n",
       "RFP - Revenue Generating                           2\n",
       "Request for Proposal(N)                            2\n",
       "Consultant Selection Stage 2                       2\n",
       "EOI                                                2\n",
       "RFT - Revenue Generating                           1\n",
       "Request for Information                            1\n",
       "RFEOI                                              1\n",
       "Request For Quotations                             1\n",
       "Request for Offer                                  1\n",
       "RFO                                                1\n",
       "Name: bid_type, dtype: int64"
      ]
     },
     "execution_count": 199,
     "metadata": {},
     "output_type": "execute_result"
    }
   ],
   "source": [
    "df.bid_type.value_counts(dropna = False)"
   ]
  },
  {
   "cell_type": "markdown",
   "id": "9844af25",
   "metadata": {},
   "source": [
    "As we can see the bid types are not unified across different regions/cities, a hashmap is developed to revise values."
   ]
  },
  {
   "cell_type": "code",
   "execution_count": 200,
   "id": "f4946fd9",
   "metadata": {},
   "outputs": [],
   "source": [
    "df.bid_type = df.bid_type.apply(lambda x : dr.bid_type_Standard.get(x))"
   ]
  },
  {
   "cell_type": "code",
   "execution_count": 201,
   "id": "4b742168",
   "metadata": {},
   "outputs": [
    {
     "data": {
      "text/plain": [
       "Request for Tender(RFT)                5014\n",
       "Request for Proposal(RFP)              2194\n",
       "Request for Quotation(RFQ)             1037\n",
       "Request for Pre-Qualification(RFPQ)     747\n",
       "Request for Information (RFI)            61\n",
       "Others                                   48\n",
       "Name: bid_type, dtype: int64"
      ]
     },
     "execution_count": 201,
     "metadata": {},
     "output_type": "execute_result"
    }
   ],
   "source": [
    "df.bid_type.value_counts()"
   ]
  },
  {
   "cell_type": "code",
   "execution_count": 202,
   "id": "04bb89b3",
   "metadata": {},
   "outputs": [],
   "source": [
    "df.dropna(subset=[\"bid_type\"], inplace=True)"
   ]
  },
  {
   "cell_type": "markdown",
   "id": "7ee0cc62",
   "metadata": {},
   "source": [
    "### 1.1.3 Data Explanation - bid_classification"
   ]
  },
  {
   "cell_type": "code",
   "execution_count": 203,
   "id": "fc60d6e0",
   "metadata": {},
   "outputs": [
    {
     "data": {
      "text/plain": [
       "array(['Services', 'Construction', 'Goods', nan], dtype=object)"
      ]
     },
     "execution_count": 203,
     "metadata": {},
     "output_type": "execute_result"
    }
   ],
   "source": [
    "df.bid_classification.unique()"
   ]
  },
  {
   "cell_type": "code",
   "execution_count": 204,
   "id": "b309462d",
   "metadata": {},
   "outputs": [
    {
     "data": {
      "text/plain": [
       "Services        3384\n",
       "Construction    2673\n",
       "NaN             1851\n",
       "Goods           1193\n",
       "Name: bid_classification, dtype: int64"
      ]
     },
     "execution_count": 204,
     "metadata": {},
     "output_type": "execute_result"
    }
   ],
   "source": [
    "df.bid_classification.value_counts(dropna = False)"
   ]
  },
  {
   "cell_type": "code",
   "execution_count": 205,
   "id": "d2a6ec93",
   "metadata": {
    "scrolled": true
   },
   "outputs": [
    {
     "data": {
      "text/plain": [
       "0        2021\n",
       "9        2021\n",
       "13       2021\n",
       "20       2021\n",
       "25       2020\n",
       "         ... \n",
       "48183    2018\n",
       "48189    2017\n",
       "48192    2018\n",
       "48193    2018\n",
       "48198    2018\n",
       "Name: awarded_year, Length: 9099, dtype: int64"
      ]
     },
     "execution_count": 205,
     "metadata": {},
     "output_type": "execute_result"
    }
   ],
   "source": [
    "df = df.dropna(subset=['awarded_year'])\n",
    "df.awarded_year.astype('int')"
   ]
  },
  {
   "cell_type": "code",
   "execution_count": 206,
   "id": "33b202a0",
   "metadata": {},
   "outputs": [
    {
     "data": {
      "text/plain": [
       "<AxesSubplot:>"
      ]
     },
     "execution_count": 206,
     "metadata": {},
     "output_type": "execute_result"
    },
    {
     "data": {
      "image/png": "[encoded data removed]",
      "text/plain": [
       "<Figure size 432x288 with 1 Axes>"
      ]
     },
     "metadata": {
      "needs_background": "light"
     },
     "output_type": "display_data"
    }
   ],
   "source": [
    "df[df.bid_classification.isnull()].awarded_year.value_counts().sort_values().plot(kind = 'barh')"
   ]
  },
  {
   "cell_type": "code",
   "execution_count": 207,
   "id": "7d431bb2",
   "metadata": {},
   "outputs": [
    {
     "data": {
      "text/plain": [
       "1851"
      ]
     },
     "execution_count": 207,
     "metadata": {},
     "output_type": "execute_result"
    }
   ],
   "source": [
    "df[df.bid_classification.isnull()].awarded_year.value_counts().sum()"
   ]
  },
  {
   "cell_type": "code",
   "execution_count": 208,
   "id": "696c13c7",
   "metadata": {},
   "outputs": [
    {
     "data": {
      "text/plain": [
       "9099"
      ]
     },
     "execution_count": 208,
     "metadata": {},
     "output_type": "execute_result"
    }
   ],
   "source": [
    "df.awarded_year.value_counts().sum()"
   ]
  },
  {
   "cell_type": "markdown",
   "id": "142f81ec",
   "metadata": {},
   "source": [
    "Note that majority of the projects that miss bid classification are the projects from 5 years ago and more. The projects that missing the bid classification accounts for approximately 21% of the data. Our goal of the project is to identify project category for the projects using project name and possibly the bid classification and bid type. We will drop the 21% of the data that does not the bid classification information."
   ]
  },
  {
   "cell_type": "code",
   "execution_count": 209,
   "id": "eaa2cbd5",
   "metadata": {},
   "outputs": [],
   "source": [
    "df.dropna(subset=[\"bid_classification\"], inplace=True)"
   ]
  },
  {
   "cell_type": "code",
   "execution_count": 210,
   "id": "db0a1c97",
   "metadata": {},
   "outputs": [
    {
     "name": "stdout",
     "output_type": "stream",
     "text": [
      "<class 'pandas.core.frame.DataFrame'>\n",
      "Int64Index: 7248 entries, 0 to 48198\n",
      "Data columns (total 7 columns):\n",
      " #   Column              Non-Null Count  Dtype  \n",
      "---  ------              --------------  -----  \n",
      " 0   client_name         7248 non-null   object \n",
      " 1   project_name        7248 non-null   object \n",
      " 2   bid_classification  7248 non-null   object \n",
      " 3   bid_type            7248 non-null   object \n",
      " 4   bid_ID              7248 non-null   object \n",
      " 5   awarded_date        7248 non-null   object \n",
      " 6   awarded_year        7248 non-null   float64\n",
      "dtypes: float64(1), object(6)\n",
      "memory usage: 453.0+ KB\n"
     ]
    }
   ],
   "source": [
    "df.info()"
   ]
  },
  {
   "cell_type": "markdown",
   "id": "bfd374f5",
   "metadata": {},
   "source": [
    "### 1.1.4 Data Explanation - bid_ID"
   ]
  },
  {
   "cell_type": "code",
   "execution_count": 211,
   "id": "a8889f74",
   "metadata": {},
   "outputs": [
    {
     "data": {
      "text/plain": [
       "C12-06-18    39\n",
       "17-151        3\n",
       "17-126        3\n",
       "17-123        2\n",
       "17-142        2\n",
       "             ..\n",
       "2017-423O     1\n",
       "2017-631P     1\n",
       "2017-665T     1\n",
       "2017-764T     1\n",
       "2017-464T     1\n",
       "Name: bid_ID, Length: 7140, dtype: int64"
      ]
     },
     "execution_count": 211,
     "metadata": {},
     "output_type": "execute_result"
    }
   ],
   "source": [
    "df.bid_ID.value_counts().sort_values(ascending=False)"
   ]
  },
  {
   "cell_type": "code",
   "execution_count": 212,
   "id": "62f58914",
   "metadata": {},
   "outputs": [
    {
     "data": {
      "text/plain": [
       "7140"
      ]
     },
     "execution_count": 212,
     "metadata": {},
     "output_type": "execute_result"
    }
   ],
   "source": [
    "df.bid_ID.unique().size"
   ]
  },
  {
   "cell_type": "markdown",
   "id": "da379db7",
   "metadata": {},
   "source": [
    "Note that there are bid that have duplicates IDs."
   ]
  },
  {
   "cell_type": "markdown",
   "id": "37f558fd",
   "metadata": {},
   "source": [
    "### 1.1.5 Remove Columns"
   ]
  },
  {
   "cell_type": "code",
   "execution_count": 214,
   "id": "dec951b8",
   "metadata": {},
   "outputs": [
    {
     "name": "stdout",
     "output_type": "stream",
     "text": [
      "<class 'pandas.core.frame.DataFrame'>\n",
      "Int64Index: 7248 entries, 0 to 48198\n",
      "Data columns (total 7 columns):\n",
      " #   Column              Non-Null Count  Dtype  \n",
      "---  ------              --------------  -----  \n",
      " 0   client_name         7248 non-null   object \n",
      " 1   project_name        7248 non-null   object \n",
      " 2   bid_classification  7248 non-null   object \n",
      " 3   bid_type            7248 non-null   object \n",
      " 4   bid_ID              7248 non-null   object \n",
      " 5   awarded_date        7248 non-null   object \n",
      " 6   awarded_year        7248 non-null   float64\n",
      "dtypes: float64(1), object(6)\n",
      "memory usage: 453.0+ KB\n"
     ]
    }
   ],
   "source": [
    "df.info()"
   ]
  },
  {
   "cell_type": "code",
   "execution_count": 215,
   "id": "f4c51165",
   "metadata": {
    "scrolled": true
   },
   "outputs": [
    {
     "data": {
      "text/html": [
       "<div>\n",
       "<style scoped>\n",
       "    .dataframe tbody tr th:only-of-type {\n",
       "        vertical-align: middle;\n",
       "    }\n",
       "\n",
       "    .dataframe tbody tr th {\n",
       "        vertical-align: top;\n",
       "    }\n",
       "\n",
       "    .dataframe thead th {\n",
       "        text-align: right;\n",
       "    }\n",
       "</style>\n",
       "<table border=\"1\" class=\"dataframe\">\n",
       "  <thead>\n",
       "    <tr style=\"text-align: right;\">\n",
       "      <th></th>\n",
       "      <th>project_name</th>\n",
       "      <th>bid_classification</th>\n",
       "      <th>bid_type</th>\n",
       "    </tr>\n",
       "  </thead>\n",
       "  <tbody>\n",
       "    <tr>\n",
       "      <th>0</th>\n",
       "      <td>General Contractors And Subcontractors For Sen...</td>\n",
       "      <td>Services</td>\n",
       "      <td>Request for Pre-Qualification(RFPQ)</td>\n",
       "    </tr>\n",
       "    <tr>\n",
       "      <th>9</th>\n",
       "      <td>Supply And Delivery Of As-Required Spill Respo...</td>\n",
       "      <td>Services</td>\n",
       "      <td>Request for Tender(RFT)</td>\n",
       "    </tr>\n",
       "    <tr>\n",
       "      <th>13</th>\n",
       "      <td>Prequalification Of Consultants For The Feasib...</td>\n",
       "      <td>Services</td>\n",
       "      <td>Request for Pre-Qualification(RFPQ)</td>\n",
       "    </tr>\n",
       "    <tr>\n",
       "      <th>20</th>\n",
       "      <td>Detailed Design And Engineering Services For 1...</td>\n",
       "      <td>Services</td>\n",
       "      <td>Request for Proposal(RFP)</td>\n",
       "    </tr>\n",
       "    <tr>\n",
       "      <th>25</th>\n",
       "      <td>Waste Electrical And Electronic Equipment (Wee...</td>\n",
       "      <td>Services</td>\n",
       "      <td>Request for Tender(RFT)</td>\n",
       "    </tr>\n",
       "    <tr>\n",
       "      <th>...</th>\n",
       "      <td>...</td>\n",
       "      <td>...</td>\n",
       "      <td>...</td>\n",
       "    </tr>\n",
       "    <tr>\n",
       "      <th>48183</th>\n",
       "      <td>Lawn And Boulevard Maintenance At Various Loca...</td>\n",
       "      <td>Services</td>\n",
       "      <td>Request for Tender(RFT)</td>\n",
       "    </tr>\n",
       "    <tr>\n",
       "      <th>48189</th>\n",
       "      <td>Supply Of Network Cabling Services For Peel Re...</td>\n",
       "      <td>Services</td>\n",
       "      <td>Request for Tender(RFT)</td>\n",
       "    </tr>\n",
       "    <tr>\n",
       "      <th>48192</th>\n",
       "      <td>Supply And Delivery Of Commercial Off-The-Shel...</td>\n",
       "      <td>Goods</td>\n",
       "      <td>Request for Tender(RFT)</td>\n",
       "    </tr>\n",
       "    <tr>\n",
       "      <th>48193</th>\n",
       "      <td>Supply And Delivery Of One Agricultural Tracto...</td>\n",
       "      <td>Goods</td>\n",
       "      <td>Request for Tender(RFT)</td>\n",
       "    </tr>\n",
       "    <tr>\n",
       "      <th>48198</th>\n",
       "      <td>Watermain Replacements On Various Streets, Ass...</td>\n",
       "      <td>Construction</td>\n",
       "      <td>Request for Tender(RFT)</td>\n",
       "    </tr>\n",
       "  </tbody>\n",
       "</table>\n",
       "<p>7248 rows × 3 columns</p>\n",
       "</div>"
      ],
      "text/plain": [
       "                                            project_name bid_classification  \\\n",
       "0      General Contractors And Subcontractors For Sen...           Services   \n",
       "9      Supply And Delivery Of As-Required Spill Respo...           Services   \n",
       "13     Prequalification Of Consultants For The Feasib...           Services   \n",
       "20     Detailed Design And Engineering Services For 1...           Services   \n",
       "25     Waste Electrical And Electronic Equipment (Wee...           Services   \n",
       "...                                                  ...                ...   \n",
       "48183  Lawn And Boulevard Maintenance At Various Loca...           Services   \n",
       "48189  Supply Of Network Cabling Services For Peel Re...           Services   \n",
       "48192  Supply And Delivery Of Commercial Off-The-Shel...              Goods   \n",
       "48193  Supply And Delivery Of One Agricultural Tracto...              Goods   \n",
       "48198  Watermain Replacements On Various Streets, Ass...       Construction   \n",
       "\n",
       "                                  bid_type  \n",
       "0      Request for Pre-Qualification(RFPQ)  \n",
       "9                  Request for Tender(RFT)  \n",
       "13     Request for Pre-Qualification(RFPQ)  \n",
       "20               Request for Proposal(RFP)  \n",
       "25                 Request for Tender(RFT)  \n",
       "...                                    ...  \n",
       "48183              Request for Tender(RFT)  \n",
       "48189              Request for Tender(RFT)  \n",
       "48192              Request for Tender(RFT)  \n",
       "48193              Request for Tender(RFT)  \n",
       "48198              Request for Tender(RFT)  \n",
       "\n",
       "[7248 rows x 3 columns]"
      ]
     },
     "execution_count": 215,
     "metadata": {},
     "output_type": "execute_result"
    }
   ],
   "source": [
    "# columns to be removed, as they are not contribute to the category results\n",
    "columns = ['client_name', 'bid_ID', 'awarded_date', 'awarded_year']\n",
    "df = df.drop(columns=columns)\n",
    "df"
   ]
  },
  {
   "cell_type": "code",
   "execution_count": 216,
   "id": "957a8db7",
   "metadata": {},
   "outputs": [],
   "source": [
    "df.to_csv(\"data_cleaned.csv\")"
   ]
  },
  {
   "cell_type": "markdown",
   "id": "1cea9e9f",
   "metadata": {},
   "source": [
    "## 3.0 Data Observation"
   ]
  },
  {
   "cell_type": "markdown",
   "id": "d7ab8afb",
   "metadata": {},
   "source": [
    "### 3.1 Obtain data\n",
    "Use pandas to read the data I scrapped."
   ]
  },
  {
   "cell_type": "code",
   "execution_count": 84,
   "id": "1d573063",
   "metadata": {},
   "outputs": [
    {
     "ename": "FileNotFoundError",
     "evalue": "[Errno 2] No such file or directory: '/Users/delinmu/Documents/GitHub/BidTing/result/data.xlsx'",
     "output_type": "error",
     "traceback": [
      "\u001b[0;31m---------------------------------------------------------------------------\u001b[0m",
      "\u001b[0;31mFileNotFoundError\u001b[0m                         Traceback (most recent call last)",
      "\u001b[0;32m/var/folders/q6/qwt53f_919g5hmzw0039h9100000gn/T/ipykernel_10887/4138431175.py\u001b[0m in \u001b[0;36m<module>\u001b[0;34m\u001b[0m\n\u001b[1;32m      1\u001b[0m \u001b[0mexcel_path\u001b[0m \u001b[0;34m=\u001b[0m \u001b[0;34m'/Users/delinmu/Documents/GitHub/BidTing/result/data.xlsx'\u001b[0m\u001b[0;34m\u001b[0m\u001b[0;34m\u001b[0m\u001b[0m\n\u001b[0;32m----> 2\u001b[0;31m \u001b[0mbidding_info\u001b[0m \u001b[0;34m=\u001b[0m \u001b[0mpd\u001b[0m\u001b[0;34m.\u001b[0m\u001b[0mread_excel\u001b[0m\u001b[0;34m(\u001b[0m\u001b[0mexcel_path\u001b[0m\u001b[0;34m,\u001b[0m \u001b[0msheet_name\u001b[0m\u001b[0;34m=\u001b[0m\u001b[0;34m'Ori'\u001b[0m\u001b[0;34m)\u001b[0m\u001b[0;34m\u001b[0m\u001b[0;34m\u001b[0m\u001b[0m\n\u001b[0m",
      "\u001b[0;32m~/opt/anaconda3/lib/python3.9/site-packages/pandas/util/_decorators.py\u001b[0m in \u001b[0;36mwrapper\u001b[0;34m(*args, **kwargs)\u001b[0m\n\u001b[1;32m    309\u001b[0m                     \u001b[0mstacklevel\u001b[0m\u001b[0;34m=\u001b[0m\u001b[0mstacklevel\u001b[0m\u001b[0;34m,\u001b[0m\u001b[0;34m\u001b[0m\u001b[0;34m\u001b[0m\u001b[0m\n\u001b[1;32m    310\u001b[0m                 )\n\u001b[0;32m--> 311\u001b[0;31m             \u001b[0;32mreturn\u001b[0m \u001b[0mfunc\u001b[0m\u001b[0;34m(\u001b[0m\u001b[0;34m*\u001b[0m\u001b[0margs\u001b[0m\u001b[0;34m,\u001b[0m \u001b[0;34m**\u001b[0m\u001b[0mkwargs\u001b[0m\u001b[0;34m)\u001b[0m\u001b[0;34m\u001b[0m\u001b[0;34m\u001b[0m\u001b[0m\n\u001b[0m\u001b[1;32m    312\u001b[0m \u001b[0;34m\u001b[0m\u001b[0m\n\u001b[1;32m    313\u001b[0m         \u001b[0;32mreturn\u001b[0m \u001b[0mwrapper\u001b[0m\u001b[0;34m\u001b[0m\u001b[0;34m\u001b[0m\u001b[0m\n",
      "\u001b[0;32m~/opt/anaconda3/lib/python3.9/site-packages/pandas/io/excel/_base.py\u001b[0m in \u001b[0;36mread_excel\u001b[0;34m(io, sheet_name, header, names, index_col, usecols, squeeze, dtype, engine, converters, true_values, false_values, skiprows, nrows, na_values, keep_default_na, na_filter, verbose, parse_dates, date_parser, thousands, comment, skipfooter, convert_float, mangle_dupe_cols, storage_options)\u001b[0m\n\u001b[1;32m    362\u001b[0m     \u001b[0;32mif\u001b[0m \u001b[0;32mnot\u001b[0m \u001b[0misinstance\u001b[0m\u001b[0;34m(\u001b[0m\u001b[0mio\u001b[0m\u001b[0;34m,\u001b[0m \u001b[0mExcelFile\u001b[0m\u001b[0;34m)\u001b[0m\u001b[0;34m:\u001b[0m\u001b[0;34m\u001b[0m\u001b[0;34m\u001b[0m\u001b[0m\n\u001b[1;32m    363\u001b[0m         \u001b[0mshould_close\u001b[0m \u001b[0;34m=\u001b[0m \u001b[0;32mTrue\u001b[0m\u001b[0;34m\u001b[0m\u001b[0;34m\u001b[0m\u001b[0m\n\u001b[0;32m--> 364\u001b[0;31m         \u001b[0mio\u001b[0m \u001b[0;34m=\u001b[0m \u001b[0mExcelFile\u001b[0m\u001b[0;34m(\u001b[0m\u001b[0mio\u001b[0m\u001b[0;34m,\u001b[0m \u001b[0mstorage_options\u001b[0m\u001b[0;34m=\u001b[0m\u001b[0mstorage_options\u001b[0m\u001b[0;34m,\u001b[0m \u001b[0mengine\u001b[0m\u001b[0;34m=\u001b[0m\u001b[0mengine\u001b[0m\u001b[0;34m)\u001b[0m\u001b[0;34m\u001b[0m\u001b[0;34m\u001b[0m\u001b[0m\n\u001b[0m\u001b[1;32m    365\u001b[0m     \u001b[0;32melif\u001b[0m \u001b[0mengine\u001b[0m \u001b[0;32mand\u001b[0m \u001b[0mengine\u001b[0m \u001b[0;34m!=\u001b[0m \u001b[0mio\u001b[0m\u001b[0;34m.\u001b[0m\u001b[0mengine\u001b[0m\u001b[0;34m:\u001b[0m\u001b[0;34m\u001b[0m\u001b[0;34m\u001b[0m\u001b[0m\n\u001b[1;32m    366\u001b[0m         raise ValueError(\n",
      "\u001b[0;32m~/opt/anaconda3/lib/python3.9/site-packages/pandas/io/excel/_base.py\u001b[0m in \u001b[0;36m__init__\u001b[0;34m(self, path_or_buffer, engine, storage_options)\u001b[0m\n\u001b[1;32m   1189\u001b[0m                 \u001b[0mext\u001b[0m \u001b[0;34m=\u001b[0m \u001b[0;34m\"xls\"\u001b[0m\u001b[0;34m\u001b[0m\u001b[0;34m\u001b[0m\u001b[0m\n\u001b[1;32m   1190\u001b[0m             \u001b[0;32melse\u001b[0m\u001b[0;34m:\u001b[0m\u001b[0;34m\u001b[0m\u001b[0;34m\u001b[0m\u001b[0m\n\u001b[0;32m-> 1191\u001b[0;31m                 ext = inspect_excel_format(\n\u001b[0m\u001b[1;32m   1192\u001b[0m                     \u001b[0mcontent_or_path\u001b[0m\u001b[0;34m=\u001b[0m\u001b[0mpath_or_buffer\u001b[0m\u001b[0;34m,\u001b[0m \u001b[0mstorage_options\u001b[0m\u001b[0;34m=\u001b[0m\u001b[0mstorage_options\u001b[0m\u001b[0;34m\u001b[0m\u001b[0;34m\u001b[0m\u001b[0m\n\u001b[1;32m   1193\u001b[0m                 )\n",
      "\u001b[0;32m~/opt/anaconda3/lib/python3.9/site-packages/pandas/io/excel/_base.py\u001b[0m in \u001b[0;36minspect_excel_format\u001b[0;34m(content_or_path, storage_options)\u001b[0m\n\u001b[1;32m   1068\u001b[0m         \u001b[0mcontent_or_path\u001b[0m \u001b[0;34m=\u001b[0m \u001b[0mBytesIO\u001b[0m\u001b[0;34m(\u001b[0m\u001b[0mcontent_or_path\u001b[0m\u001b[0;34m)\u001b[0m\u001b[0;34m\u001b[0m\u001b[0;34m\u001b[0m\u001b[0m\n\u001b[1;32m   1069\u001b[0m \u001b[0;34m\u001b[0m\u001b[0m\n\u001b[0;32m-> 1070\u001b[0;31m     with get_handle(\n\u001b[0m\u001b[1;32m   1071\u001b[0m         \u001b[0mcontent_or_path\u001b[0m\u001b[0;34m,\u001b[0m \u001b[0;34m\"rb\"\u001b[0m\u001b[0;34m,\u001b[0m \u001b[0mstorage_options\u001b[0m\u001b[0;34m=\u001b[0m\u001b[0mstorage_options\u001b[0m\u001b[0;34m,\u001b[0m \u001b[0mis_text\u001b[0m\u001b[0;34m=\u001b[0m\u001b[0;32mFalse\u001b[0m\u001b[0;34m\u001b[0m\u001b[0;34m\u001b[0m\u001b[0m\n\u001b[1;32m   1072\u001b[0m     ) as handle:\n",
      "\u001b[0;32m~/opt/anaconda3/lib/python3.9/site-packages/pandas/io/common.py\u001b[0m in \u001b[0;36mget_handle\u001b[0;34m(path_or_buf, mode, encoding, compression, memory_map, is_text, errors, storage_options)\u001b[0m\n\u001b[1;32m    709\u001b[0m         \u001b[0;32melse\u001b[0m\u001b[0;34m:\u001b[0m\u001b[0;34m\u001b[0m\u001b[0;34m\u001b[0m\u001b[0m\n\u001b[1;32m    710\u001b[0m             \u001b[0;31m# Binary mode\u001b[0m\u001b[0;34m\u001b[0m\u001b[0;34m\u001b[0m\u001b[0m\n\u001b[0;32m--> 711\u001b[0;31m             \u001b[0mhandle\u001b[0m \u001b[0;34m=\u001b[0m \u001b[0mopen\u001b[0m\u001b[0;34m(\u001b[0m\u001b[0mhandle\u001b[0m\u001b[0;34m,\u001b[0m \u001b[0mioargs\u001b[0m\u001b[0;34m.\u001b[0m\u001b[0mmode\u001b[0m\u001b[0;34m)\u001b[0m\u001b[0;34m\u001b[0m\u001b[0;34m\u001b[0m\u001b[0m\n\u001b[0m\u001b[1;32m    712\u001b[0m         \u001b[0mhandles\u001b[0m\u001b[0;34m.\u001b[0m\u001b[0mappend\u001b[0m\u001b[0;34m(\u001b[0m\u001b[0mhandle\u001b[0m\u001b[0;34m)\u001b[0m\u001b[0;34m\u001b[0m\u001b[0;34m\u001b[0m\u001b[0m\n\u001b[1;32m    713\u001b[0m \u001b[0;34m\u001b[0m\u001b[0m\n",
      "\u001b[0;31mFileNotFoundError\u001b[0m: [Errno 2] No such file or directory: '/Users/delinmu/Documents/GitHub/BidTing/result/data.xlsx'"
     ]
    }
   ],
   "source": [
    "excel_path = '/Users/delinmu/Documents/GitHub/BidTing/result/data.xlsx'\n",
    "bidding_info = pd.read_excel(excel_path, sheet_name='Ori')"
   ]
  },
  {
   "cell_type": "code",
   "execution_count": null,
   "id": "20196bdc",
   "metadata": {
    "pycharm": {
     "is_executing": true
    }
   },
   "outputs": [],
   "source": [
    "# a quick view of bidding_info dataframe\n",
    "bidding_info.head()"
   ]
  },
  {
   "cell_type": "markdown",
   "id": "2c711b2b",
   "metadata": {},
   "source": [
    "### 3.2 Dataframe Observation\n",
    "A couple of questions I want to know here. \n",
    "1. How many unique clients in the dataframe?\n",
    "2. How many unique projects in the dataframe?\n",
    "3. A table includes 3 columns: client_name, bid_id, project_name, and awarded_year for me to tell how many projects were on the project over the time span"
   ]
  },
  {
   "cell_type": "markdown",
   "id": "475de5e0",
   "metadata": {},
   "source": [
    "### 3.2.1 Unique Clients\n",
    "A simple value_counts() method is used to reveal the information. Alternatively, nunique() can also reveal the information."
   ]
  },
  {
   "cell_type": "code",
   "execution_count": null,
   "id": "28c82a66",
   "metadata": {},
   "outputs": [],
   "source": [
    "# view of the data type of my dataframe\n",
    "bidding_info.client_name.value_counts()"
   ]
  },
  {
   "cell_type": "markdown",
   "id": "638d91c7",
   "metadata": {},
   "source": [
    "Note that value count for each client does not represent number of unique projects."
   ]
  },
  {
   "cell_type": "code",
   "execution_count": null,
   "id": "267eb0f4",
   "metadata": {},
   "outputs": [],
   "source": [
    "len(bidding_info.client_name.value_counts())"
   ]
  },
  {
   "cell_type": "markdown",
   "id": "99af72d9",
   "metadata": {},
   "source": [
    "In total, we have 19 clients collected in the dataframe. This is good to know how many geographical segementtation  we "
   ]
  },
  {
   "cell_type": "code",
   "execution_count": null,
   "id": "f1235214",
   "metadata": {},
   "outputs": [],
   "source": []
  }
 ],
 "metadata": {
  "kernelspec": {
   "display_name": "Python 3 (ipykernel)",
   "language": "python",
   "name": "python3"
  },
  "language_info": {
   "codemirror_mode": {
    "name": "ipython",
    "version": 3
   },
   "file_extension": ".py",
   "mimetype": "text/x-python",
   "name": "python",
   "nbconvert_exporter": "python",
   "pygments_lexer": "ipython3",
   "version": "3.9.7"
  }
 },
 "nbformat": 4,
 "nbformat_minor": 5
}
