{
 "cells": [
  {
   "cell_type": "markdown",
   "id": "edaa51b5",
   "metadata": {},
   "source": [
    "# Project Category Identification NLP Project <a id='Data Overview'></a>"
   ]
  },
  {
   "cell_type": "markdown",
   "id": "ed2fc34f",
   "metadata": {},
   "source": [
    "## Table of Contents <a id='2.1_Contents'></a>\n",
    "* [0. Background](#0)\n",
    "* [1. Data Import - Building Dataset](#1)\n",
    "* [2. Target Location Selection](#2)\n",
    "* [3. Data Understanding](#3)\n",
    "    * [3.1 Missing Values](#3.1)\n",
    "    * [3.2 Meter Type Observation](#3.2)\n",
    "    * [3.3 Building Area Observation](#3.3)\n",
    "    * [3.4 Building Category Observation](#3.4)\n",
    "    * [3.5 Building Energy Use Intensity](#3.5)\n",
    "    * [3.6 Other Building Parameters](#3.6)\n",
    "* [4.0 Save Data](#4.0)"
   ]
  },
  {
   "cell_type": "markdown",
   "id": "0e7fb739",
   "metadata": {},
   "source": [
    "## 0. Background"
   ]
  },
  {
   "cell_type": "markdown",
   "id": "4a53e29d",
   "metadata": {},
   "source": [
    "I built a web scrapping tool that scraps biding and tendering information from public sectors in Ontario. The public sectors includes regions such as York Region, Peel Region, Halton Region, and cities such as City of Mississauga.\n",
    "\n",
    "The intend of the project is to use DATA to tell a story about the Competitiveness of the public sector. The collected information are used to conduct the following analysis:\n",
    "\n",
    "* **Public Sector Market Understanding**: an overview of the public sector markets (services, construction, and goods), how the market changes over time.\n",
    "\n",
    "* **Competitive Information**: an overview of the performance of private companies in different public sectors. What is their wining rate comparing with their competitors. The private companies includes construction companies such as Maple Reinders Constructors Ltd. and Kenaidan Contracting Ltd., consulting companies such WSP Canada Inc., Hatch Ltd., and good supplying companies.\n",
    "\n",
    "* **Competitiveness by Category** Different private companies in the public sectors have overlapping skill sets in the public sectors, they may also specialize a niche that company leaders and strategist may not be aware off. The tool intends to use DATA to show competitiveness of each companies in different sectors such as consulting in water & wastewater, construction in civil engineering works, etc.\n",
    "\n",
    "The collected information includes project names and a generic category information. In order to understand \"Competitiveness by Category\", the original \"generic category\" needs to further broken down into detailed categories. There are almost 10k project collected, it is not practical to provide a detailed category to each of the project,. Further more, as more projects be collected, manual tagging the category is timing consuming.\n",
    "\n",
    "Therefore, Natural Language Processing (NLP) is used to do the category task for current projects and any future projects."
   ]
  },
  {
   "cell_type": "markdown",
   "id": "acf449cf",
   "metadata": {},
   "source": [
    "## 0.1 Import Libraries"
   ]
  },
  {
   "cell_type": "code",
   "execution_count": 22,
   "id": "064e029c",
   "metadata": {},
   "outputs": [],
   "source": [
    "import pandas as pd\n",
    "import numpy as np\n",
    "import dataresource as dr"
   ]
  },
  {
   "cell_type": "markdown",
   "id": "b98a791e",
   "metadata": {},
   "source": [
    "## 0.2 Import Original Dataset"
   ]
  },
  {
   "cell_type": "code",
   "execution_count": 23,
   "id": "09dd0fec",
   "metadata": {},
   "outputs": [],
   "source": [
    "path = \"../NaturalLanguageProcessing/DataUpdate.csv\"\n",
    "df = pd.read_csv(path)\n",
    "df.drop_duplicates(inplace=True)"
   ]
  },
  {
   "cell_type": "markdown",
   "id": "99c5cfea",
   "metadata": {},
   "source": [
    "## 1. Data Wrangling"
   ]
  },
  {
   "cell_type": "code",
   "execution_count": 24,
   "id": "069f6fe6",
   "metadata": {},
   "outputs": [
    {
     "name": "stdout",
     "output_type": "stream",
     "text": [
      "<class 'pandas.core.frame.DataFrame'>\n",
      "Int64Index: 7246 entries, 0 to 7245\n",
      "Data columns (total 10 columns):\n",
      " #   Column              Non-Null Count  Dtype \n",
      "---  ------              --------------  ----- \n",
      " 0   Unnamed: 0          7246 non-null   int64 \n",
      " 1   client_name         7246 non-null   object\n",
      " 2   project_name        7246 non-null   object\n",
      " 3   Category            2591 non-null   object\n",
      " 4   bid_classification  7246 non-null   object\n",
      " 5   bid_type            7246 non-null   object\n",
      " 6   bid_ID              7246 non-null   object\n",
      " 7   awarded_date        7246 non-null   object\n",
      " 8   awarded_year        7246 non-null   int64 \n",
      " 9   company_name        7246 non-null   object\n",
      "dtypes: int64(2), object(8)\n",
      "memory usage: 622.7+ KB\n"
     ]
    }
   ],
   "source": [
    "df.info()"
   ]
  },
  {
   "cell_type": "code",
   "execution_count": 25,
   "id": "bf996b86",
   "metadata": {},
   "outputs": [
    {
     "data": {
      "text/html": [
       "<div>\n",
       "<style scoped>\n",
       "    .dataframe tbody tr th:only-of-type {\n",
       "        vertical-align: middle;\n",
       "    }\n",
       "\n",
       "    .dataframe tbody tr th {\n",
       "        vertical-align: top;\n",
       "    }\n",
       "\n",
       "    .dataframe thead th {\n",
       "        text-align: right;\n",
       "    }\n",
       "</style>\n",
       "<table border=\"1\" class=\"dataframe\">\n",
       "  <thead>\n",
       "    <tr style=\"text-align: right;\">\n",
       "      <th></th>\n",
       "      <th>client_name</th>\n",
       "      <th>project_name</th>\n",
       "      <th>Category</th>\n",
       "      <th>bid_classification</th>\n",
       "      <th>bid_type</th>\n",
       "      <th>bid_ID</th>\n",
       "      <th>awarded_date</th>\n",
       "      <th>awarded_year</th>\n",
       "      <th>company_name</th>\n",
       "    </tr>\n",
       "  </thead>\n",
       "  <tbody>\n",
       "    <tr>\n",
       "      <th>0</th>\n",
       "      <td>Brant County</td>\n",
       "      <td>1 (One) 1 Ton Heavy Duty 4Wd, Cab And Chassis ...</td>\n",
       "      <td>Producer/Supplier</td>\n",
       "      <td>Goods</td>\n",
       "      <td>RFQ</td>\n",
       "      <td>OPS-RFQ-20-07</td>\n",
       "      <td>2021-03-26 0:00</td>\n",
       "      <td>2020</td>\n",
       "      <td>Finch Auto Group       GORD ANDERSON AUTOMOTIV...</td>\n",
       "    </tr>\n",
       "    <tr>\n",
       "      <th>1</th>\n",
       "      <td>Brant County</td>\n",
       "      <td>1 (One) Seven (7) Passenger Mini-Van</td>\n",
       "      <td>Producer/Supplier</td>\n",
       "      <td>Goods</td>\n",
       "      <td>RFQ</td>\n",
       "      <td>OPS-RFQ-20-04</td>\n",
       "      <td>2021-03-26 0:00</td>\n",
       "      <td>2020</td>\n",
       "      <td>Oxford Dodge Chrysler (1992) LTD</td>\n",
       "    </tr>\n",
       "    <tr>\n",
       "      <th>2</th>\n",
       "      <td>Brant County</td>\n",
       "      <td>1 (One) Seven (7) Passenger Van / Wagon</td>\n",
       "      <td>Producer/Supplier</td>\n",
       "      <td>Goods</td>\n",
       "      <td>RFQ</td>\n",
       "      <td>OPS-RFQ-20-10</td>\n",
       "      <td>2021-03-26 0:00</td>\n",
       "      <td>2020</td>\n",
       "      <td>East Court Ford Lincoln       Oxford Dodge Chr...</td>\n",
       "    </tr>\n",
       "    <tr>\n",
       "      <th>3</th>\n",
       "      <td>Brant County</td>\n",
       "      <td>1 (One) ½ Ton 8 Cyl Standard Cab 2Wd Pickup Truck</td>\n",
       "      <td>Producer/Supplier</td>\n",
       "      <td>Goods</td>\n",
       "      <td>RFQ</td>\n",
       "      <td>OPS-RFQ-20-08</td>\n",
       "      <td>2021-03-26 0:00</td>\n",
       "      <td>2020</td>\n",
       "      <td>Finch Auto Group       GORD ANDERSON AUTOMOTIV...</td>\n",
       "    </tr>\n",
       "    <tr>\n",
       "      <th>4</th>\n",
       "      <td>Brant County</td>\n",
       "      <td>1 (One) ¾ Ton 4Wd Standard Cab Pickup Truck</td>\n",
       "      <td>Producer/Supplier</td>\n",
       "      <td>Goods</td>\n",
       "      <td>RFQ</td>\n",
       "      <td>OPS-RFQ-20-09</td>\n",
       "      <td>2021-03-26 0:00</td>\n",
       "      <td>2020</td>\n",
       "      <td>East Court Ford Lincoln       Finch Auto Group...</td>\n",
       "    </tr>\n",
       "  </tbody>\n",
       "</table>\n",
       "</div>"
      ],
      "text/plain": [
       "    client_name                                       project_name  \\\n",
       "0  Brant County  1 (One) 1 Ton Heavy Duty 4Wd, Cab And Chassis ...   \n",
       "1  Brant County               1 (One) Seven (7) Passenger Mini-Van   \n",
       "2  Brant County            1 (One) Seven (7) Passenger Van / Wagon   \n",
       "3  Brant County  1 (One) ½ Ton 8 Cyl Standard Cab 2Wd Pickup Truck   \n",
       "4  Brant County        1 (One) ¾ Ton 4Wd Standard Cab Pickup Truck   \n",
       "\n",
       "            Category bid_classification bid_type         bid_ID  \\\n",
       "0  Producer/Supplier              Goods      RFQ  OPS-RFQ-20-07   \n",
       "1  Producer/Supplier              Goods      RFQ  OPS-RFQ-20-04   \n",
       "2  Producer/Supplier              Goods      RFQ  OPS-RFQ-20-10   \n",
       "3  Producer/Supplier              Goods      RFQ  OPS-RFQ-20-08   \n",
       "4  Producer/Supplier              Goods      RFQ  OPS-RFQ-20-09   \n",
       "\n",
       "      awarded_date  awarded_year  \\\n",
       "0  2021-03-26 0:00          2020   \n",
       "1  2021-03-26 0:00          2020   \n",
       "2  2021-03-26 0:00          2020   \n",
       "3  2021-03-26 0:00          2020   \n",
       "4  2021-03-26 0:00          2020   \n",
       "\n",
       "                                        company_name  \n",
       "0  Finch Auto Group       GORD ANDERSON AUTOMOTIV...  \n",
       "1            Oxford Dodge Chrysler (1992) LTD         \n",
       "2  East Court Ford Lincoln       Oxford Dodge Chr...  \n",
       "3  Finch Auto Group       GORD ANDERSON AUTOMOTIV...  \n",
       "4  East Court Ford Lincoln       Finch Auto Group...  "
      ]
     },
     "execution_count": 25,
     "metadata": {},
     "output_type": "execute_result"
    }
   ],
   "source": [
    "df.drop(columns='Unnamed: 0', inplace=True)\n",
    "df.head()"
   ]
  },
  {
   "cell_type": "markdown",
   "id": "bcc8a272",
   "metadata": {},
   "source": [
    "## 1.1 Data Exploration"
   ]
  },
  {
   "cell_type": "markdown",
   "id": "b4b80f43",
   "metadata": {},
   "source": [
    "### 1.1.1 Data Exploration - client_name"
   ]
  },
  {
   "cell_type": "code",
   "execution_count": 26,
   "id": "f82004eb",
   "metadata": {},
   "outputs": [
    {
     "data": {
      "text/plain": [
       "19"
      ]
     },
     "execution_count": 26,
     "metadata": {},
     "output_type": "execute_result"
    }
   ],
   "source": [
    "client_list = df.client_name.unique().tolist()\n",
    "len(client_list)"
   ]
  },
  {
   "cell_type": "code",
   "execution_count": 27,
   "id": "0e3f2339",
   "metadata": {},
   "outputs": [
    {
     "data": {
      "text/plain": [
       "['Brant County',\n",
       " 'City Of Peterborough',\n",
       " 'City of Barrie',\n",
       " 'City of Brantford',\n",
       " 'City of Guelph',\n",
       " 'City of Hamilton',\n",
       " 'City of Kawartha Lakes',\n",
       " 'City of London',\n",
       " 'City of Orillia',\n",
       " 'Dufferin County',\n",
       " 'Durham Region',\n",
       " 'Haldimand County',\n",
       " 'Halton Region',\n",
       " 'Niagara Region',\n",
       " 'Peel Region',\n",
       " 'Peterborough County',\n",
       " 'Simcoe County',\n",
       " 'Waterloo Region',\n",
       " 'York Region']"
      ]
     },
     "execution_count": 27,
     "metadata": {},
     "output_type": "execute_result"
    }
   ],
   "source": [
    "client_list"
   ]
  },
  {
   "cell_type": "code",
   "execution_count": 28,
   "id": "6ba877b0",
   "metadata": {},
   "outputs": [
    {
     "data": {
      "text/plain": [
       "<AxesSubplot:>"
      ]
     },
     "execution_count": 28,
     "metadata": {},
     "output_type": "execute_result"
    },
    {
     "data": {
      "image/png": "[encoded data removed]",
      "text/plain": [
       "<Figure size 432x288 with 1 Axes>"
      ]
     },
     "metadata": {
      "needs_background": "light"
     },
     "output_type": "display_data"
    }
   ],
   "source": [
    "df.client_name.value_counts().plot.bar()"
   ]
  },
  {
   "cell_type": "markdown",
   "id": "4b67f66b",
   "metadata": {},
   "source": [
    "There are 19 clients included in the dataset. The client name will not be used as an input for NLP because the client name does not have any affect on the project name and project category.York Region has a good record of their public projects online."
   ]
  },
  {
   "cell_type": "markdown",
   "id": "7657f516",
   "metadata": {},
   "source": [
    "### 1.1.2 Data Exploration - bid_type"
   ]
  },
  {
   "cell_type": "markdown",
   "id": "d7b13302",
   "metadata": {},
   "source": [
    "There are a couple of bid types in the business of the public sector: Request for Tender(RFT), Request for Proposal(RFP), Request for Quotation(RFQ), Request for Information (RFI), and Request for Pre-Qualification(RFPQ)."
   ]
  },
  {
   "cell_type": "code",
   "execution_count": 29,
   "id": "852e87ae",
   "metadata": {},
   "outputs": [
    {
     "data": {
      "text/plain": [
       "count     7246\n",
       "unique      58\n",
       "top        RFT\n",
       "freq      1207\n",
       "Name: bid_type, dtype: object"
      ]
     },
     "execution_count": 29,
     "metadata": {},
     "output_type": "execute_result"
    }
   ],
   "source": [
    "df.bid_type.describe()"
   ]
  },
  {
   "cell_type": "code",
   "execution_count": 30,
   "id": "673209dd",
   "metadata": {
    "scrolled": false
   },
   "outputs": [
    {
     "data": {
      "text/plain": [
       "['RFQ',\n",
       " 'Tender',\n",
       " 'RFP',\n",
       " 'ITT',\n",
       " 'RFSQ',\n",
       " 'RFQ – High Score',\n",
       " 'RFQ – Low Bid',\n",
       " 'RFP – Consecutive Negotiation',\n",
       " 'Non-Standard Procurement',\n",
       " 'RFSQ – Prequalification',\n",
       " 'Notice',\n",
       " 'RFT',\n",
       " 'RFQ (<)',\n",
       " 'RFD (Disposal)',\n",
       " 'RFPQ',\n",
       " 'RFRC',\n",
       " 'RFP - Revenue Generating',\n",
       " 'RFP - Goods and Services',\n",
       " 'RFP - Prime Consultant',\n",
       " 'RFT - Construction - Stipulated Price - CCDC',\n",
       " 'RFT - Public Works',\n",
       " 'RFT - Construction - Unit Price',\n",
       " 'RFT - Goods and Services',\n",
       " 'RFT - Revenue Generating',\n",
       " 'RFT - Vehicle',\n",
       " 'Request For Quotation',\n",
       " 'Request For Proposal',\n",
       " 'Request For Supplier Qualification',\n",
       " 'Request for Tender',\n",
       " 'Request for Proposal',\n",
       " 'Request for Qualifications',\n",
       " 'Request for Quotation (Formal)',\n",
       " 'Request for Information',\n",
       " 'Informal Request for Quotation',\n",
       " 'RFEOI',\n",
       " 'Request for Supplier Pre-qualification',\n",
       " 'Request For Quotations',\n",
       " 'N',\n",
       " 'NRFP',\n",
       " 'Request For Tender',\n",
       " 'Request For PreQualification',\n",
       " 'Request for Proposal(N)',\n",
       " 'DN',\n",
       " 'VOR',\n",
       " 'RFO',\n",
       " 'Request for Offer',\n",
       " 'Request for Quotation',\n",
       " 'Request for Quote',\n",
       " 'Pre-Qualification',\n",
       " 'Consultant Selection Stage 1',\n",
       " 'Consultant Selection',\n",
       " 'Request for Tender (Carpentry)',\n",
       " 'Cooperative Tender',\n",
       " 'Consultant Selection Stage 2',\n",
       " 'Expression of Interest',\n",
       " 'RFI',\n",
       " 'EOI',\n",
       " 'Notice of Contract Award']"
      ]
     },
     "execution_count": 30,
     "metadata": {},
     "output_type": "execute_result"
    }
   ],
   "source": [
    "df.bid_type.unique().tolist()"
   ]
  },
  {
   "cell_type": "code",
   "execution_count": 31,
   "id": "460f86ba",
   "metadata": {},
   "outputs": [
    {
     "data": {
      "text/plain": [
       "RFT                                             1207\n",
       "Tender                                          1200\n",
       "RFP                                             1188\n",
       "Request for Tender                               671\n",
       "RFQ                                              332\n",
       "Request For Proposal                             295\n",
       "Pre-Qualification                                223\n",
       "Request For Quotation                            195\n",
       "Request For Tender                               176\n",
       "Request for Proposal                             176\n",
       "RFT - Goods and Services                         157\n",
       "RFT - Public Works                               152\n",
       "RFPQ                                             123\n",
       "RFP - Goods and Services                         104\n",
       "RFQ – Low Bid                                    101\n",
       "ITT                                               97\n",
       "RFT - Construction - Stipulated Price - CCDC      91\n",
       "Request for Quotation (Formal)                    85\n",
       "RFP – Consecutive Negotiation                     77\n",
       "Consultant Selection                              76\n",
       "RFQ – High Score                                  57\n",
       "RFT - Construction - Unit Price                   52\n",
       "RFI                                               51\n",
       "RFRC                                              40\n",
       "Request for Qualifications                        36\n",
       "DN                                                31\n",
       "RFQ (<)                                           31\n",
       "Request For PreQualification                      28\n",
       "RFT - Vehicle                                     19\n",
       "Request for Tender (Carpentry)                    19\n",
       "Consultant Selection Stage 1                      18\n",
       "Request for Quotation                             17\n",
       "N                                                 14\n",
       "Non-Standard Procurement                          13\n",
       "RFSQ                                              13\n",
       "Request for Quote                                 11\n",
       "RFSQ – Prequalification                           11\n",
       "Request For Supplier Qualification                 9\n",
       "Informal Request for Quotation                     7\n",
       "Cooperative Tender                                 5\n",
       "RFD (Disposal)                                     4\n",
       "RFP - Prime Consultant                             4\n",
       "Notice                                             4\n",
       "Notice of Contract Award                           3\n",
       "VOR                                                3\n",
       "NRFP                                               3\n",
       "Request for Proposal(N)                            2\n",
       "Request for Supplier Pre-qualification             2\n",
       "Expression of Interest                             2\n",
       "RFP - Revenue Generating                           2\n",
       "EOI                                                2\n",
       "RFO                                                1\n",
       "Request for Offer                                  1\n",
       "Request For Quotations                             1\n",
       "Request for Information                            1\n",
       "RFT - Revenue Generating                           1\n",
       "Consultant Selection Stage 2                       1\n",
       "RFEOI                                              1\n",
       "Name: bid_type, dtype: int64"
      ]
     },
     "execution_count": 31,
     "metadata": {},
     "output_type": "execute_result"
    }
   ],
   "source": [
    "df.bid_type.value_counts(dropna = False)"
   ]
  },
  {
   "cell_type": "markdown",
   "id": "9844af25",
   "metadata": {},
   "source": [
    "As we can see the bid types are not unified across different regions/cities, a hashmap is developed to revise values."
   ]
  },
  {
   "cell_type": "code",
   "execution_count": 32,
   "id": "f4946fd9",
   "metadata": {},
   "outputs": [],
   "source": [
    "df.bid_type = df.bid_type.apply(lambda x : dr.bid_type_Standard.get(x))"
   ]
  },
  {
   "cell_type": "code",
   "execution_count": 33,
   "id": "4b742168",
   "metadata": {
    "scrolled": true
   },
   "outputs": [
    {
     "data": {
      "text/html": [
       "<div>\n",
       "<style scoped>\n",
       "    .dataframe tbody tr th:only-of-type {\n",
       "        vertical-align: middle;\n",
       "    }\n",
       "\n",
       "    .dataframe tbody tr th {\n",
       "        vertical-align: top;\n",
       "    }\n",
       "\n",
       "    .dataframe thead th {\n",
       "        text-align: right;\n",
       "    }\n",
       "</style>\n",
       "<table border=\"1\" class=\"dataframe\">\n",
       "  <thead>\n",
       "    <tr style=\"text-align: right;\">\n",
       "      <th></th>\n",
       "      <th>client_name</th>\n",
       "      <th>project_name</th>\n",
       "      <th>Category</th>\n",
       "      <th>bid_classification</th>\n",
       "      <th>bid_type</th>\n",
       "      <th>bid_ID</th>\n",
       "      <th>awarded_date</th>\n",
       "      <th>awarded_year</th>\n",
       "      <th>company_name</th>\n",
       "    </tr>\n",
       "  </thead>\n",
       "  <tbody>\n",
       "    <tr>\n",
       "      <th>0</th>\n",
       "      <td>Brant County</td>\n",
       "      <td>1 (One) 1 Ton Heavy Duty 4Wd, Cab And Chassis ...</td>\n",
       "      <td>Producer/Supplier</td>\n",
       "      <td>Goods</td>\n",
       "      <td>Request for Quotation(RFQ)</td>\n",
       "      <td>OPS-RFQ-20-07</td>\n",
       "      <td>2021-03-26 0:00</td>\n",
       "      <td>2020</td>\n",
       "      <td>Finch Auto Group       GORD ANDERSON AUTOMOTIV...</td>\n",
       "    </tr>\n",
       "    <tr>\n",
       "      <th>1</th>\n",
       "      <td>Brant County</td>\n",
       "      <td>1 (One) Seven (7) Passenger Mini-Van</td>\n",
       "      <td>Producer/Supplier</td>\n",
       "      <td>Goods</td>\n",
       "      <td>Request for Quotation(RFQ)</td>\n",
       "      <td>OPS-RFQ-20-04</td>\n",
       "      <td>2021-03-26 0:00</td>\n",
       "      <td>2020</td>\n",
       "      <td>Oxford Dodge Chrysler (1992) LTD</td>\n",
       "    </tr>\n",
       "    <tr>\n",
       "      <th>2</th>\n",
       "      <td>Brant County</td>\n",
       "      <td>1 (One) Seven (7) Passenger Van / Wagon</td>\n",
       "      <td>Producer/Supplier</td>\n",
       "      <td>Goods</td>\n",
       "      <td>Request for Quotation(RFQ)</td>\n",
       "      <td>OPS-RFQ-20-10</td>\n",
       "      <td>2021-03-26 0:00</td>\n",
       "      <td>2020</td>\n",
       "      <td>East Court Ford Lincoln       Oxford Dodge Chr...</td>\n",
       "    </tr>\n",
       "    <tr>\n",
       "      <th>3</th>\n",
       "      <td>Brant County</td>\n",
       "      <td>1 (One) ½ Ton 8 Cyl Standard Cab 2Wd Pickup Truck</td>\n",
       "      <td>Producer/Supplier</td>\n",
       "      <td>Goods</td>\n",
       "      <td>Request for Quotation(RFQ)</td>\n",
       "      <td>OPS-RFQ-20-08</td>\n",
       "      <td>2021-03-26 0:00</td>\n",
       "      <td>2020</td>\n",
       "      <td>Finch Auto Group       GORD ANDERSON AUTOMOTIV...</td>\n",
       "    </tr>\n",
       "    <tr>\n",
       "      <th>4</th>\n",
       "      <td>Brant County</td>\n",
       "      <td>1 (One) ¾ Ton 4Wd Standard Cab Pickup Truck</td>\n",
       "      <td>Producer/Supplier</td>\n",
       "      <td>Goods</td>\n",
       "      <td>Request for Quotation(RFQ)</td>\n",
       "      <td>OPS-RFQ-20-09</td>\n",
       "      <td>2021-03-26 0:00</td>\n",
       "      <td>2020</td>\n",
       "      <td>East Court Ford Lincoln       Finch Auto Group...</td>\n",
       "    </tr>\n",
       "    <tr>\n",
       "      <th>...</th>\n",
       "      <td>...</td>\n",
       "      <td>...</td>\n",
       "      <td>...</td>\n",
       "      <td>...</td>\n",
       "      <td>...</td>\n",
       "      <td>...</td>\n",
       "      <td>...</td>\n",
       "      <td>...</td>\n",
       "      <td>...</td>\n",
       "    </tr>\n",
       "    <tr>\n",
       "      <th>7241</th>\n",
       "      <td>York Region</td>\n",
       "      <td>York Telecom Network Construction And Maintena...</td>\n",
       "      <td>Construction - Fibre Optic Cable</td>\n",
       "      <td>Goods</td>\n",
       "      <td>Request for Tender(RFT)</td>\n",
       "      <td>T-16-118</td>\n",
       "      <td>08-May</td>\n",
       "      <td>2017</td>\n",
       "      <td>Aecon Utilities       Black &amp; McDonald Limited...</td>\n",
       "    </tr>\n",
       "    <tr>\n",
       "      <th>7242</th>\n",
       "      <td>York Region</td>\n",
       "      <td>York-Durham Line Concrete Box Culvert Replacem...</td>\n",
       "      <td>NaN</td>\n",
       "      <td>Construction</td>\n",
       "      <td>Request for Tender(RFT)</td>\n",
       "      <td>16-122</td>\n",
       "      <td>19-Aug</td>\n",
       "      <td>2016</td>\n",
       "      <td>Primrose Contracting (Ont.) Inc.       Everstr...</td>\n",
       "    </tr>\n",
       "    <tr>\n",
       "      <th>7243</th>\n",
       "      <td>York Region</td>\n",
       "      <td>York-Peel 900Mm Twin Forcemains Combined Air R...</td>\n",
       "      <td>Construction - Water Wastewater Linear</td>\n",
       "      <td>Construction</td>\n",
       "      <td>Request for Tender(RFT)</td>\n",
       "      <td>T-19-129</td>\n",
       "      <td>08-Jul</td>\n",
       "      <td>2020</td>\n",
       "      <td>H2Ontario Inc.       Jeviso Construction Corpo...</td>\n",
       "    </tr>\n",
       "    <tr>\n",
       "      <th>7244</th>\n",
       "      <td>York Region</td>\n",
       "      <td>Yrt/Viva 2021-2025 Strategic Plan And 2017-202...</td>\n",
       "      <td>NaN</td>\n",
       "      <td>Services</td>\n",
       "      <td>Request for Proposal(RFP)</td>\n",
       "      <td>P-15-189</td>\n",
       "      <td>24-May</td>\n",
       "      <td>2016</td>\n",
       "      <td>AECOM Canada Ltd.       Dillon Consulting Limi...</td>\n",
       "    </tr>\n",
       "    <tr>\n",
       "      <th>7245</th>\n",
       "      <td>York Region</td>\n",
       "      <td>Yrt/Viva Mapping Services</td>\n",
       "      <td>Consulting - Software Services</td>\n",
       "      <td>Services</td>\n",
       "      <td>Request for Proposal(RFP)</td>\n",
       "      <td>P-16-161</td>\n",
       "      <td>03-Jan</td>\n",
       "      <td>2017</td>\n",
       "      <td>Lets Bus It Publications Inc.       Lucidmap I...</td>\n",
       "    </tr>\n",
       "  </tbody>\n",
       "</table>\n",
       "<p>7246 rows × 9 columns</p>\n",
       "</div>"
      ],
      "text/plain": [
       "       client_name                                       project_name  \\\n",
       "0     Brant County  1 (One) 1 Ton Heavy Duty 4Wd, Cab And Chassis ...   \n",
       "1     Brant County               1 (One) Seven (7) Passenger Mini-Van   \n",
       "2     Brant County            1 (One) Seven (7) Passenger Van / Wagon   \n",
       "3     Brant County  1 (One) ½ Ton 8 Cyl Standard Cab 2Wd Pickup Truck   \n",
       "4     Brant County        1 (One) ¾ Ton 4Wd Standard Cab Pickup Truck   \n",
       "...            ...                                                ...   \n",
       "7241   York Region  York Telecom Network Construction And Maintena...   \n",
       "7242   York Region  York-Durham Line Concrete Box Culvert Replacem...   \n",
       "7243   York Region  York-Peel 900Mm Twin Forcemains Combined Air R...   \n",
       "7244   York Region  Yrt/Viva 2021-2025 Strategic Plan And 2017-202...   \n",
       "7245   York Region                          Yrt/Viva Mapping Services   \n",
       "\n",
       "                                    Category bid_classification  \\\n",
       "0                          Producer/Supplier              Goods   \n",
       "1                          Producer/Supplier              Goods   \n",
       "2                          Producer/Supplier              Goods   \n",
       "3                          Producer/Supplier              Goods   \n",
       "4                          Producer/Supplier              Goods   \n",
       "...                                      ...                ...   \n",
       "7241        Construction - Fibre Optic Cable              Goods   \n",
       "7242                                     NaN       Construction   \n",
       "7243  Construction - Water Wastewater Linear       Construction   \n",
       "7244                                     NaN           Services   \n",
       "7245          Consulting - Software Services           Services   \n",
       "\n",
       "                        bid_type         bid_ID     awarded_date  \\\n",
       "0     Request for Quotation(RFQ)  OPS-RFQ-20-07  2021-03-26 0:00   \n",
       "1     Request for Quotation(RFQ)  OPS-RFQ-20-04  2021-03-26 0:00   \n",
       "2     Request for Quotation(RFQ)  OPS-RFQ-20-10  2021-03-26 0:00   \n",
       "3     Request for Quotation(RFQ)  OPS-RFQ-20-08  2021-03-26 0:00   \n",
       "4     Request for Quotation(RFQ)  OPS-RFQ-20-09  2021-03-26 0:00   \n",
       "...                          ...            ...              ...   \n",
       "7241     Request for Tender(RFT)       T-16-118           08-May   \n",
       "7242     Request for Tender(RFT)         16-122           19-Aug   \n",
       "7243     Request for Tender(RFT)       T-19-129           08-Jul   \n",
       "7244   Request for Proposal(RFP)       P-15-189           24-May   \n",
       "7245   Request for Proposal(RFP)       P-16-161           03-Jan   \n",
       "\n",
       "      awarded_year                                       company_name  \n",
       "0             2020  Finch Auto Group       GORD ANDERSON AUTOMOTIV...  \n",
       "1             2020            Oxford Dodge Chrysler (1992) LTD         \n",
       "2             2020  East Court Ford Lincoln       Oxford Dodge Chr...  \n",
       "3             2020  Finch Auto Group       GORD ANDERSON AUTOMOTIV...  \n",
       "4             2020  East Court Ford Lincoln       Finch Auto Group...  \n",
       "...            ...                                                ...  \n",
       "7241          2017  Aecon Utilities       Black & McDonald Limited...  \n",
       "7242          2016  Primrose Contracting (Ont.) Inc.       Everstr...  \n",
       "7243          2020  H2Ontario Inc.       Jeviso Construction Corpo...  \n",
       "7244          2016  AECOM Canada Ltd.       Dillon Consulting Limi...  \n",
       "7245          2017  Lets Bus It Publications Inc.       Lucidmap I...  \n",
       "\n",
       "[7246 rows x 9 columns]"
      ]
     },
     "execution_count": 33,
     "metadata": {},
     "output_type": "execute_result"
    }
   ],
   "source": [
    "df"
   ]
  },
  {
   "cell_type": "markdown",
   "id": "7ee0cc62",
   "metadata": {},
   "source": [
    "### 1.1.3 Data Exploration - bid_classification"
   ]
  },
  {
   "cell_type": "code",
   "execution_count": 34,
   "id": "fc60d6e0",
   "metadata": {},
   "outputs": [
    {
     "data": {
      "text/plain": [
       "array(['Goods', 'Construction', 'Services'], dtype=object)"
      ]
     },
     "execution_count": 34,
     "metadata": {},
     "output_type": "execute_result"
    }
   ],
   "source": [
    "df.bid_classification.unique()"
   ]
  },
  {
   "cell_type": "code",
   "execution_count": 35,
   "id": "b309462d",
   "metadata": {
    "scrolled": true
   },
   "outputs": [
    {
     "data": {
      "text/plain": [
       "Services        3381\n",
       "Construction    2672\n",
       "Goods           1193\n",
       "Name: bid_classification, dtype: int64"
      ]
     },
     "execution_count": 35,
     "metadata": {},
     "output_type": "execute_result"
    }
   ],
   "source": [
    "df.bid_classification.value_counts(dropna = False)"
   ]
  },
  {
   "cell_type": "markdown",
   "id": "a62aeb83",
   "metadata": {},
   "source": [
    "There are three type of bid classification: \"Services\", \"Construction\", and \"Goods\"."
   ]
  },
  {
   "cell_type": "markdown",
   "id": "bfd374f5",
   "metadata": {},
   "source": [
    "### 1.1.4 Data Exploration - bid_ID"
   ]
  },
  {
   "cell_type": "code",
   "execution_count": 36,
   "id": "a8889f74",
   "metadata": {},
   "outputs": [
    {
     "data": {
      "text/plain": [
       "C12-06-18    39\n",
       "17-151        3\n",
       "17-126        3\n",
       "19-181        2\n",
       "17-142        2\n",
       "             ..\n",
       "P-15-189      1\n",
       "T-19-80       1\n",
       "T-17-02       1\n",
       "T-16-132      1\n",
       "P-16-161      1\n",
       "Name: bid_ID, Length: 7138, dtype: int64"
      ]
     },
     "execution_count": 36,
     "metadata": {},
     "output_type": "execute_result"
    }
   ],
   "source": [
    "df.bid_ID.value_counts().sort_values(ascending=False)"
   ]
  },
  {
   "cell_type": "code",
   "execution_count": 37,
   "id": "62f58914",
   "metadata": {},
   "outputs": [
    {
     "data": {
      "text/plain": [
       "7138"
      ]
     },
     "execution_count": 37,
     "metadata": {},
     "output_type": "execute_result"
    }
   ],
   "source": [
    "df.bid_ID.unique().size"
   ]
  },
  {
   "cell_type": "markdown",
   "id": "da379db7",
   "metadata": {},
   "source": [
    "Note that there are bid that have duplicates IDs."
   ]
  },
  {
   "cell_type": "markdown",
   "id": "5ba0abf6",
   "metadata": {},
   "source": [
    "### 1.1.5 Data Exploration - Category\n",
    "This is the target, \"Category\" had been manually added to the dataset for the model analysis."
   ]
  },
  {
   "cell_type": "code",
   "execution_count": 38,
   "id": "eb4b8b21",
   "metadata": {},
   "outputs": [
    {
     "data": {
      "text/plain": [
       "Producer/Supplier                            862\n",
       "Consulting - Water Wastewater Vertical       297\n",
       "Construction - Water Wastewater Linear       209\n",
       "Construction - Road                          207\n",
       "Construction - Water Wastewater Vertical     203\n",
       "Consulting - Transportation Road/Trainsit    201\n",
       "Consulting - Geotechnical/Environmental      147\n",
       "Consulting - Water Wastewater Linear          97\n",
       "Construction - Facility                       88\n",
       "Consulting - Facility                         85\n",
       "Consulting - Others                           65\n",
       "Construction - Landscaping                    63\n",
       "Consulting - Transportation Bridge            30\n",
       "Consulting - Software Services                17\n",
       "Construction - Fibre Optic Cable              13\n",
       "Consulting - Landscaping                       6\n",
       "Consulting- Geotechnical/Environmental         1\n",
       "Name: Category, dtype: int64"
      ]
     },
     "execution_count": 38,
     "metadata": {},
     "output_type": "execute_result"
    }
   ],
   "source": [
    "df.Category.value_counts().sort_values(ascending=False)"
   ]
  },
  {
   "cell_type": "code",
   "execution_count": 39,
   "id": "78900842",
   "metadata": {},
   "outputs": [
    {
     "data": {
      "text/plain": [
       "Producer/Supplier                            862\n",
       "Consulting - Water Wastewater Vertical       297\n",
       "Construction - Water Wastewater Linear       209\n",
       "Construction - Road                          207\n",
       "Construction - Water Wastewater Vertical     203\n",
       "Consulting - Transportation Road/Trainsit    201\n",
       "Consulting - Geotechnical/Environmental      148\n",
       "Consulting - Water Wastewater Linear          97\n",
       "Construction - Facility                       88\n",
       "Consulting - Facility                         85\n",
       "Consulting - Others                           65\n",
       "Construction - Landscaping                    63\n",
       "Consulting - Transportation Bridge            30\n",
       "Consulting - Software Services                17\n",
       "Construction - Fibre Optic Cable              13\n",
       "Consulting - Landscaping                       6\n",
       "Name: Category, dtype: int64"
      ]
     },
     "execution_count": 39,
     "metadata": {},
     "output_type": "execute_result"
    }
   ],
   "source": [
    "df.Category = df.Category.replace({'Consulting- Geotechnical/Environmental' : \"Consulting - Geotechnical/Environmental\"})\n",
    "df.Category.value_counts().sort_values(ascending=False)"
   ]
  },
  {
   "cell_type": "markdown",
   "id": "9ecdbe42",
   "metadata": {},
   "source": [
    "We only want to include the rows that contains \"Category\" in our dataset."
   ]
  },
  {
   "cell_type": "markdown",
   "id": "37f558fd",
   "metadata": {},
   "source": [
    "### 1.1.5 Remove Columns"
   ]
  },
  {
   "cell_type": "code",
   "execution_count": 41,
   "id": "dec951b8",
   "metadata": {},
   "outputs": [
    {
     "name": "stdout",
     "output_type": "stream",
     "text": [
      "<class 'pandas.core.frame.DataFrame'>\n",
      "Int64Index: 7246 entries, 0 to 7245\n",
      "Data columns (total 9 columns):\n",
      " #   Column              Non-Null Count  Dtype \n",
      "---  ------              --------------  ----- \n",
      " 0   client_name         7246 non-null   object\n",
      " 1   project_name        7246 non-null   object\n",
      " 2   Category            2591 non-null   object\n",
      " 3   bid_classification  7246 non-null   object\n",
      " 4   bid_type            7246 non-null   object\n",
      " 5   bid_ID              7246 non-null   object\n",
      " 6   awarded_date        7246 non-null   object\n",
      " 7   awarded_year        7246 non-null   int64 \n",
      " 8   company_name        7246 non-null   object\n",
      "dtypes: int64(1), object(8)\n",
      "memory usage: 566.1+ KB\n"
     ]
    }
   ],
   "source": [
    "df.info()"
   ]
  },
  {
   "cell_type": "code",
   "execution_count": 45,
   "id": "f4c51165",
   "metadata": {
    "scrolled": true
   },
   "outputs": [
    {
     "ename": "KeyError",
     "evalue": "'Category'",
     "output_type": "error",
     "traceback": [
      "\u001b[0;31m---------------------------------------------------------------------------\u001b[0m",
      "\u001b[0;31mKeyError\u001b[0m                                  Traceback (most recent call last)",
      "\u001b[0;32m~/opt/anaconda3/lib/python3.9/site-packages/pandas/core/indexes/base.py\u001b[0m in \u001b[0;36mget_loc\u001b[0;34m(self, key, method, tolerance)\u001b[0m\n\u001b[1;32m   3360\u001b[0m             \u001b[0;32mtry\u001b[0m\u001b[0;34m:\u001b[0m\u001b[0;34m\u001b[0m\u001b[0;34m\u001b[0m\u001b[0m\n\u001b[0;32m-> 3361\u001b[0;31m                 \u001b[0;32mreturn\u001b[0m \u001b[0mself\u001b[0m\u001b[0;34m.\u001b[0m\u001b[0m_engine\u001b[0m\u001b[0;34m.\u001b[0m\u001b[0mget_loc\u001b[0m\u001b[0;34m(\u001b[0m\u001b[0mcasted_key\u001b[0m\u001b[0;34m)\u001b[0m\u001b[0;34m\u001b[0m\u001b[0;34m\u001b[0m\u001b[0m\n\u001b[0m\u001b[1;32m   3362\u001b[0m             \u001b[0;32mexcept\u001b[0m \u001b[0mKeyError\u001b[0m \u001b[0;32mas\u001b[0m \u001b[0merr\u001b[0m\u001b[0;34m:\u001b[0m\u001b[0;34m\u001b[0m\u001b[0;34m\u001b[0m\u001b[0m\n",
      "\u001b[0;32m~/opt/anaconda3/lib/python3.9/site-packages/pandas/_libs/index.pyx\u001b[0m in \u001b[0;36mpandas._libs.index.IndexEngine.get_loc\u001b[0;34m()\u001b[0m\n",
      "\u001b[0;32mpandas/_libs/index_class_helper.pxi\u001b[0m in \u001b[0;36mpandas._libs.index.Int64Engine._check_type\u001b[0;34m()\u001b[0m\n",
      "\u001b[0;32mpandas/_libs/index_class_helper.pxi\u001b[0m in \u001b[0;36mpandas._libs.index.Int64Engine._check_type\u001b[0;34m()\u001b[0m\n",
      "\u001b[0;31mKeyError\u001b[0m: 'Category'",
      "\nThe above exception was the direct cause of the following exception:\n",
      "\u001b[0;31mKeyError\u001b[0m                                  Traceback (most recent call last)",
      "\u001b[0;32m/var/folders/q6/qwt53f_919g5hmzw0039h9100000gn/T/ipykernel_33308/3776539623.py\u001b[0m in \u001b[0;36m<module>\u001b[0;34m\u001b[0m\n\u001b[1;32m      1\u001b[0m \u001b[0;31m# columns to be removed, as they are not contribute to the category results\u001b[0m\u001b[0;34m\u001b[0m\u001b[0;34m\u001b[0m\u001b[0m\n\u001b[1;32m      2\u001b[0m \u001b[0mcolumns\u001b[0m \u001b[0;34m=\u001b[0m \u001b[0;34m[\u001b[0m\u001b[0;34m'client_name'\u001b[0m\u001b[0;34m,\u001b[0m \u001b[0;34m'bid_ID'\u001b[0m\u001b[0;34m,\u001b[0m \u001b[0;34m'awarded_date'\u001b[0m\u001b[0;34m,\u001b[0m \u001b[0;34m'awarded_year'\u001b[0m\u001b[0;34m,\u001b[0m \u001b[0;34m'bid_classification'\u001b[0m\u001b[0;34m]\u001b[0m\u001b[0;34m\u001b[0m\u001b[0;34m\u001b[0m\u001b[0m\n\u001b[0;32m----> 3\u001b[0;31m \u001b[0mdf\u001b[0m \u001b[0;34m=\u001b[0m \u001b[0mdf\u001b[0m\u001b[0;34m[\u001b[0m\u001b[0;34m'Category'\u001b[0m\u001b[0;34m]\u001b[0m \u001b[0;34m!=\u001b[0m \u001b[0mnp\u001b[0m\u001b[0;34m.\u001b[0m\u001b[0mnan\u001b[0m\u001b[0;34m\u001b[0m\u001b[0;34m\u001b[0m\u001b[0m\n\u001b[0m\u001b[1;32m      4\u001b[0m \u001b[0mdf\u001b[0m\u001b[0;34m\u001b[0m\u001b[0;34m\u001b[0m\u001b[0m\n",
      "\u001b[0;32m~/opt/anaconda3/lib/python3.9/site-packages/pandas/core/series.py\u001b[0m in \u001b[0;36m__getitem__\u001b[0;34m(self, key)\u001b[0m\n\u001b[1;32m    940\u001b[0m \u001b[0;34m\u001b[0m\u001b[0m\n\u001b[1;32m    941\u001b[0m         \u001b[0;32melif\u001b[0m \u001b[0mkey_is_scalar\u001b[0m\u001b[0;34m:\u001b[0m\u001b[0;34m\u001b[0m\u001b[0;34m\u001b[0m\u001b[0m\n\u001b[0;32m--> 942\u001b[0;31m             \u001b[0;32mreturn\u001b[0m \u001b[0mself\u001b[0m\u001b[0;34m.\u001b[0m\u001b[0m_get_value\u001b[0m\u001b[0;34m(\u001b[0m\u001b[0mkey\u001b[0m\u001b[0;34m)\u001b[0m\u001b[0;34m\u001b[0m\u001b[0;34m\u001b[0m\u001b[0m\n\u001b[0m\u001b[1;32m    943\u001b[0m \u001b[0;34m\u001b[0m\u001b[0m\n\u001b[1;32m    944\u001b[0m         \u001b[0;32mif\u001b[0m \u001b[0mis_hashable\u001b[0m\u001b[0;34m(\u001b[0m\u001b[0mkey\u001b[0m\u001b[0;34m)\u001b[0m\u001b[0;34m:\u001b[0m\u001b[0;34m\u001b[0m\u001b[0;34m\u001b[0m\u001b[0m\n",
      "\u001b[0;32m~/opt/anaconda3/lib/python3.9/site-packages/pandas/core/series.py\u001b[0m in \u001b[0;36m_get_value\u001b[0;34m(self, label, takeable)\u001b[0m\n\u001b[1;32m   1049\u001b[0m \u001b[0;34m\u001b[0m\u001b[0m\n\u001b[1;32m   1050\u001b[0m         \u001b[0;31m# Similar to Index.get_value, but we do not fall back to positional\u001b[0m\u001b[0;34m\u001b[0m\u001b[0;34m\u001b[0m\u001b[0m\n\u001b[0;32m-> 1051\u001b[0;31m         \u001b[0mloc\u001b[0m \u001b[0;34m=\u001b[0m \u001b[0mself\u001b[0m\u001b[0;34m.\u001b[0m\u001b[0mindex\u001b[0m\u001b[0;34m.\u001b[0m\u001b[0mget_loc\u001b[0m\u001b[0;34m(\u001b[0m\u001b[0mlabel\u001b[0m\u001b[0;34m)\u001b[0m\u001b[0;34m\u001b[0m\u001b[0;34m\u001b[0m\u001b[0m\n\u001b[0m\u001b[1;32m   1052\u001b[0m         \u001b[0;32mreturn\u001b[0m \u001b[0mself\u001b[0m\u001b[0;34m.\u001b[0m\u001b[0mindex\u001b[0m\u001b[0;34m.\u001b[0m\u001b[0m_get_values_for_loc\u001b[0m\u001b[0;34m(\u001b[0m\u001b[0mself\u001b[0m\u001b[0;34m,\u001b[0m \u001b[0mloc\u001b[0m\u001b[0;34m,\u001b[0m \u001b[0mlabel\u001b[0m\u001b[0;34m)\u001b[0m\u001b[0;34m\u001b[0m\u001b[0;34m\u001b[0m\u001b[0m\n\u001b[1;32m   1053\u001b[0m \u001b[0;34m\u001b[0m\u001b[0m\n",
      "\u001b[0;32m~/opt/anaconda3/lib/python3.9/site-packages/pandas/core/indexes/base.py\u001b[0m in \u001b[0;36mget_loc\u001b[0;34m(self, key, method, tolerance)\u001b[0m\n\u001b[1;32m   3361\u001b[0m                 \u001b[0;32mreturn\u001b[0m \u001b[0mself\u001b[0m\u001b[0;34m.\u001b[0m\u001b[0m_engine\u001b[0m\u001b[0;34m.\u001b[0m\u001b[0mget_loc\u001b[0m\u001b[0;34m(\u001b[0m\u001b[0mcasted_key\u001b[0m\u001b[0;34m)\u001b[0m\u001b[0;34m\u001b[0m\u001b[0;34m\u001b[0m\u001b[0m\n\u001b[1;32m   3362\u001b[0m             \u001b[0;32mexcept\u001b[0m \u001b[0mKeyError\u001b[0m \u001b[0;32mas\u001b[0m \u001b[0merr\u001b[0m\u001b[0;34m:\u001b[0m\u001b[0;34m\u001b[0m\u001b[0;34m\u001b[0m\u001b[0m\n\u001b[0;32m-> 3363\u001b[0;31m                 \u001b[0;32mraise\u001b[0m \u001b[0mKeyError\u001b[0m\u001b[0;34m(\u001b[0m\u001b[0mkey\u001b[0m\u001b[0;34m)\u001b[0m \u001b[0;32mfrom\u001b[0m \u001b[0merr\u001b[0m\u001b[0;34m\u001b[0m\u001b[0;34m\u001b[0m\u001b[0m\n\u001b[0m\u001b[1;32m   3364\u001b[0m \u001b[0;34m\u001b[0m\u001b[0m\n\u001b[1;32m   3365\u001b[0m         \u001b[0;32mif\u001b[0m \u001b[0mis_scalar\u001b[0m\u001b[0;34m(\u001b[0m\u001b[0mkey\u001b[0m\u001b[0;34m)\u001b[0m \u001b[0;32mand\u001b[0m \u001b[0misna\u001b[0m\u001b[0;34m(\u001b[0m\u001b[0mkey\u001b[0m\u001b[0;34m)\u001b[0m \u001b[0;32mand\u001b[0m \u001b[0;32mnot\u001b[0m \u001b[0mself\u001b[0m\u001b[0;34m.\u001b[0m\u001b[0mhasnans\u001b[0m\u001b[0;34m:\u001b[0m\u001b[0;34m\u001b[0m\u001b[0;34m\u001b[0m\u001b[0m\n",
      "\u001b[0;31mKeyError\u001b[0m: 'Category'"
     ]
    }
   ],
   "source": [
    "# columns to be removed, as they are not contribute to the category results\n",
    "columns = ['client_name', 'bid_ID', 'awarded_date', 'awarded_year', 'bid_classification']\n"
   ]
  },
  {
   "cell_type": "code",
   "execution_count": 47,
   "id": "27c5cce5",
   "metadata": {},
   "outputs": [
    {
     "ename": "KeyError",
     "evalue": "'Category'",
     "output_type": "error",
     "traceback": [
      "\u001b[0;31m---------------------------------------------------------------------------\u001b[0m",
      "\u001b[0;31mKeyError\u001b[0m                                  Traceback (most recent call last)",
      "\u001b[0;32m~/opt/anaconda3/lib/python3.9/site-packages/pandas/core/indexes/base.py\u001b[0m in \u001b[0;36mget_loc\u001b[0;34m(self, key, method, tolerance)\u001b[0m\n\u001b[1;32m   3360\u001b[0m             \u001b[0;32mtry\u001b[0m\u001b[0;34m:\u001b[0m\u001b[0;34m\u001b[0m\u001b[0;34m\u001b[0m\u001b[0m\n\u001b[0;32m-> 3361\u001b[0;31m                 \u001b[0;32mreturn\u001b[0m \u001b[0mself\u001b[0m\u001b[0;34m.\u001b[0m\u001b[0m_engine\u001b[0m\u001b[0;34m.\u001b[0m\u001b[0mget_loc\u001b[0m\u001b[0;34m(\u001b[0m\u001b[0mcasted_key\u001b[0m\u001b[0;34m)\u001b[0m\u001b[0;34m\u001b[0m\u001b[0;34m\u001b[0m\u001b[0m\n\u001b[0m\u001b[1;32m   3362\u001b[0m             \u001b[0;32mexcept\u001b[0m \u001b[0mKeyError\u001b[0m \u001b[0;32mas\u001b[0m \u001b[0merr\u001b[0m\u001b[0;34m:\u001b[0m\u001b[0;34m\u001b[0m\u001b[0;34m\u001b[0m\u001b[0m\n",
      "\u001b[0;32m~/opt/anaconda3/lib/python3.9/site-packages/pandas/_libs/index.pyx\u001b[0m in \u001b[0;36mpandas._libs.index.IndexEngine.get_loc\u001b[0;34m()\u001b[0m\n",
      "\u001b[0;32mpandas/_libs/index_class_helper.pxi\u001b[0m in \u001b[0;36mpandas._libs.index.Int64Engine._check_type\u001b[0;34m()\u001b[0m\n",
      "\u001b[0;32mpandas/_libs/index_class_helper.pxi\u001b[0m in \u001b[0;36mpandas._libs.index.Int64Engine._check_type\u001b[0;34m()\u001b[0m\n",
      "\u001b[0;31mKeyError\u001b[0m: 'Category'",
      "\nThe above exception was the direct cause of the following exception:\n",
      "\u001b[0;31mKeyError\u001b[0m                                  Traceback (most recent call last)",
      "\u001b[0;32m/var/folders/q6/qwt53f_919g5hmzw0039h9100000gn/T/ipykernel_33308/1849184931.py\u001b[0m in \u001b[0;36m<module>\u001b[0;34m\u001b[0m\n\u001b[0;32m----> 1\u001b[0;31m \u001b[0mdf\u001b[0m \u001b[0;34m=\u001b[0m \u001b[0mdf\u001b[0m\u001b[0;34m[\u001b[0m\u001b[0;34m'Category'\u001b[0m\u001b[0;34m]\u001b[0m \u001b[0;34m!=\u001b[0m \u001b[0mnp\u001b[0m\u001b[0;34m.\u001b[0m\u001b[0mnan\u001b[0m\u001b[0;34m\u001b[0m\u001b[0;34m\u001b[0m\u001b[0m\n\u001b[0m",
      "\u001b[0;32m~/opt/anaconda3/lib/python3.9/site-packages/pandas/core/series.py\u001b[0m in \u001b[0;36m__getitem__\u001b[0;34m(self, key)\u001b[0m\n\u001b[1;32m    940\u001b[0m \u001b[0;34m\u001b[0m\u001b[0m\n\u001b[1;32m    941\u001b[0m         \u001b[0;32melif\u001b[0m \u001b[0mkey_is_scalar\u001b[0m\u001b[0;34m:\u001b[0m\u001b[0;34m\u001b[0m\u001b[0;34m\u001b[0m\u001b[0m\n\u001b[0;32m--> 942\u001b[0;31m             \u001b[0;32mreturn\u001b[0m \u001b[0mself\u001b[0m\u001b[0;34m.\u001b[0m\u001b[0m_get_value\u001b[0m\u001b[0;34m(\u001b[0m\u001b[0mkey\u001b[0m\u001b[0;34m)\u001b[0m\u001b[0;34m\u001b[0m\u001b[0;34m\u001b[0m\u001b[0m\n\u001b[0m\u001b[1;32m    943\u001b[0m \u001b[0;34m\u001b[0m\u001b[0m\n\u001b[1;32m    944\u001b[0m         \u001b[0;32mif\u001b[0m \u001b[0mis_hashable\u001b[0m\u001b[0;34m(\u001b[0m\u001b[0mkey\u001b[0m\u001b[0;34m)\u001b[0m\u001b[0;34m:\u001b[0m\u001b[0;34m\u001b[0m\u001b[0;34m\u001b[0m\u001b[0m\n",
      "\u001b[0;32m~/opt/anaconda3/lib/python3.9/site-packages/pandas/core/series.py\u001b[0m in \u001b[0;36m_get_value\u001b[0;34m(self, label, takeable)\u001b[0m\n\u001b[1;32m   1049\u001b[0m \u001b[0;34m\u001b[0m\u001b[0m\n\u001b[1;32m   1050\u001b[0m         \u001b[0;31m# Similar to Index.get_value, but we do not fall back to positional\u001b[0m\u001b[0;34m\u001b[0m\u001b[0;34m\u001b[0m\u001b[0m\n\u001b[0;32m-> 1051\u001b[0;31m         \u001b[0mloc\u001b[0m \u001b[0;34m=\u001b[0m \u001b[0mself\u001b[0m\u001b[0;34m.\u001b[0m\u001b[0mindex\u001b[0m\u001b[0;34m.\u001b[0m\u001b[0mget_loc\u001b[0m\u001b[0;34m(\u001b[0m\u001b[0mlabel\u001b[0m\u001b[0;34m)\u001b[0m\u001b[0;34m\u001b[0m\u001b[0;34m\u001b[0m\u001b[0m\n\u001b[0m\u001b[1;32m   1052\u001b[0m         \u001b[0;32mreturn\u001b[0m \u001b[0mself\u001b[0m\u001b[0;34m.\u001b[0m\u001b[0mindex\u001b[0m\u001b[0;34m.\u001b[0m\u001b[0m_get_values_for_loc\u001b[0m\u001b[0;34m(\u001b[0m\u001b[0mself\u001b[0m\u001b[0;34m,\u001b[0m \u001b[0mloc\u001b[0m\u001b[0;34m,\u001b[0m \u001b[0mlabel\u001b[0m\u001b[0;34m)\u001b[0m\u001b[0;34m\u001b[0m\u001b[0;34m\u001b[0m\u001b[0m\n\u001b[1;32m   1053\u001b[0m \u001b[0;34m\u001b[0m\u001b[0m\n",
      "\u001b[0;32m~/opt/anaconda3/lib/python3.9/site-packages/pandas/core/indexes/base.py\u001b[0m in \u001b[0;36mget_loc\u001b[0;34m(self, key, method, tolerance)\u001b[0m\n\u001b[1;32m   3361\u001b[0m                 \u001b[0;32mreturn\u001b[0m \u001b[0mself\u001b[0m\u001b[0;34m.\u001b[0m\u001b[0m_engine\u001b[0m\u001b[0;34m.\u001b[0m\u001b[0mget_loc\u001b[0m\u001b[0;34m(\u001b[0m\u001b[0mcasted_key\u001b[0m\u001b[0;34m)\u001b[0m\u001b[0;34m\u001b[0m\u001b[0;34m\u001b[0m\u001b[0m\n\u001b[1;32m   3362\u001b[0m             \u001b[0;32mexcept\u001b[0m \u001b[0mKeyError\u001b[0m \u001b[0;32mas\u001b[0m \u001b[0merr\u001b[0m\u001b[0;34m:\u001b[0m\u001b[0;34m\u001b[0m\u001b[0;34m\u001b[0m\u001b[0m\n\u001b[0;32m-> 3363\u001b[0;31m                 \u001b[0;32mraise\u001b[0m \u001b[0mKeyError\u001b[0m\u001b[0;34m(\u001b[0m\u001b[0mkey\u001b[0m\u001b[0;34m)\u001b[0m \u001b[0;32mfrom\u001b[0m \u001b[0merr\u001b[0m\u001b[0;34m\u001b[0m\u001b[0;34m\u001b[0m\u001b[0m\n\u001b[0m\u001b[1;32m   3364\u001b[0m \u001b[0;34m\u001b[0m\u001b[0m\n\u001b[1;32m   3365\u001b[0m         \u001b[0;32mif\u001b[0m \u001b[0mis_scalar\u001b[0m\u001b[0;34m(\u001b[0m\u001b[0mkey\u001b[0m\u001b[0;34m)\u001b[0m \u001b[0;32mand\u001b[0m \u001b[0misna\u001b[0m\u001b[0;34m(\u001b[0m\u001b[0mkey\u001b[0m\u001b[0;34m)\u001b[0m \u001b[0;32mand\u001b[0m \u001b[0;32mnot\u001b[0m \u001b[0mself\u001b[0m\u001b[0;34m.\u001b[0m\u001b[0mhasnans\u001b[0m\u001b[0;34m:\u001b[0m\u001b[0;34m\u001b[0m\u001b[0;34m\u001b[0m\u001b[0m\n",
      "\u001b[0;31mKeyError\u001b[0m: 'Category'"
     ]
    }
   ],
   "source": [
    "df = df['Category'] != np.nan"
   ]
  },
  {
   "cell_type": "markdown",
   "id": "1cea9e9f",
   "metadata": {},
   "source": [
    "## 3.0 Data Observation"
   ]
  },
  {
   "cell_type": "markdown",
   "id": "d7ab8afb",
   "metadata": {},
   "source": [
    "### 3.1 Obtain data\n",
    "Use pandas to read the data I scrapped."
   ]
  },
  {
   "cell_type": "code",
   "execution_count": 84,
   "id": "1d573063",
   "metadata": {},
   "outputs": [
    {
     "ename": "FileNotFoundError",
     "evalue": "[Errno 2] No such file or directory: '/Users/delinmu/Documents/GitHub/BidTing/result/data.xlsx'",
     "output_type": "error",
     "traceback": [
      "\u001b[0;31m---------------------------------------------------------------------------\u001b[0m",
      "\u001b[0;31mFileNotFoundError\u001b[0m                         Traceback (most recent call last)",
      "\u001b[0;32m/var/folders/q6/qwt53f_919g5hmzw0039h9100000gn/T/ipykernel_10887/4138431175.py\u001b[0m in \u001b[0;36m<module>\u001b[0;34m\u001b[0m\n\u001b[1;32m      1\u001b[0m \u001b[0mexcel_path\u001b[0m \u001b[0;34m=\u001b[0m \u001b[0;34m'/Users/delinmu/Documents/GitHub/BidTing/result/data.xlsx'\u001b[0m\u001b[0;34m\u001b[0m\u001b[0;34m\u001b[0m\u001b[0m\n\u001b[0;32m----> 2\u001b[0;31m \u001b[0mbidding_info\u001b[0m \u001b[0;34m=\u001b[0m \u001b[0mpd\u001b[0m\u001b[0;34m.\u001b[0m\u001b[0mread_excel\u001b[0m\u001b[0;34m(\u001b[0m\u001b[0mexcel_path\u001b[0m\u001b[0;34m,\u001b[0m \u001b[0msheet_name\u001b[0m\u001b[0;34m=\u001b[0m\u001b[0;34m'Ori'\u001b[0m\u001b[0;34m)\u001b[0m\u001b[0;34m\u001b[0m\u001b[0;34m\u001b[0m\u001b[0m\n\u001b[0m",
      "\u001b[0;32m~/opt/anaconda3/lib/python3.9/site-packages/pandas/util/_decorators.py\u001b[0m in \u001b[0;36mwrapper\u001b[0;34m(*args, **kwargs)\u001b[0m\n\u001b[1;32m    309\u001b[0m                     \u001b[0mstacklevel\u001b[0m\u001b[0;34m=\u001b[0m\u001b[0mstacklevel\u001b[0m\u001b[0;34m,\u001b[0m\u001b[0;34m\u001b[0m\u001b[0;34m\u001b[0m\u001b[0m\n\u001b[1;32m    310\u001b[0m                 )\n\u001b[0;32m--> 311\u001b[0;31m             \u001b[0;32mreturn\u001b[0m \u001b[0mfunc\u001b[0m\u001b[0;34m(\u001b[0m\u001b[0;34m*\u001b[0m\u001b[0margs\u001b[0m\u001b[0;34m,\u001b[0m \u001b[0;34m**\u001b[0m\u001b[0mkwargs\u001b[0m\u001b[0;34m)\u001b[0m\u001b[0;34m\u001b[0m\u001b[0;34m\u001b[0m\u001b[0m\n\u001b[0m\u001b[1;32m    312\u001b[0m \u001b[0;34m\u001b[0m\u001b[0m\n\u001b[1;32m    313\u001b[0m         \u001b[0;32mreturn\u001b[0m \u001b[0mwrapper\u001b[0m\u001b[0;34m\u001b[0m\u001b[0;34m\u001b[0m\u001b[0m\n",
      "\u001b[0;32m~/opt/anaconda3/lib/python3.9/site-packages/pandas/io/excel/_base.py\u001b[0m in \u001b[0;36mread_excel\u001b[0;34m(io, sheet_name, header, names, index_col, usecols, squeeze, dtype, engine, converters, true_values, false_values, skiprows, nrows, na_values, keep_default_na, na_filter, verbose, parse_dates, date_parser, thousands, comment, skipfooter, convert_float, mangle_dupe_cols, storage_options)\u001b[0m\n\u001b[1;32m    362\u001b[0m     \u001b[0;32mif\u001b[0m \u001b[0;32mnot\u001b[0m \u001b[0misinstance\u001b[0m\u001b[0;34m(\u001b[0m\u001b[0mio\u001b[0m\u001b[0;34m,\u001b[0m \u001b[0mExcelFile\u001b[0m\u001b[0;34m)\u001b[0m\u001b[0;34m:\u001b[0m\u001b[0;34m\u001b[0m\u001b[0;34m\u001b[0m\u001b[0m\n\u001b[1;32m    363\u001b[0m         \u001b[0mshould_close\u001b[0m \u001b[0;34m=\u001b[0m \u001b[0;32mTrue\u001b[0m\u001b[0;34m\u001b[0m\u001b[0;34m\u001b[0m\u001b[0m\n\u001b[0;32m--> 364\u001b[0;31m         \u001b[0mio\u001b[0m \u001b[0;34m=\u001b[0m \u001b[0mExcelFile\u001b[0m\u001b[0;34m(\u001b[0m\u001b[0mio\u001b[0m\u001b[0;34m,\u001b[0m \u001b[0mstorage_options\u001b[0m\u001b[0;34m=\u001b[0m\u001b[0mstorage_options\u001b[0m\u001b[0;34m,\u001b[0m \u001b[0mengine\u001b[0m\u001b[0;34m=\u001b[0m\u001b[0mengine\u001b[0m\u001b[0;34m)\u001b[0m\u001b[0;34m\u001b[0m\u001b[0;34m\u001b[0m\u001b[0m\n\u001b[0m\u001b[1;32m    365\u001b[0m     \u001b[0;32melif\u001b[0m \u001b[0mengine\u001b[0m \u001b[0;32mand\u001b[0m \u001b[0mengine\u001b[0m \u001b[0;34m!=\u001b[0m \u001b[0mio\u001b[0m\u001b[0;34m.\u001b[0m\u001b[0mengine\u001b[0m\u001b[0;34m:\u001b[0m\u001b[0;34m\u001b[0m\u001b[0;34m\u001b[0m\u001b[0m\n\u001b[1;32m    366\u001b[0m         raise ValueError(\n",
      "\u001b[0;32m~/opt/anaconda3/lib/python3.9/site-packages/pandas/io/excel/_base.py\u001b[0m in \u001b[0;36m__init__\u001b[0;34m(self, path_or_buffer, engine, storage_options)\u001b[0m\n\u001b[1;32m   1189\u001b[0m                 \u001b[0mext\u001b[0m \u001b[0;34m=\u001b[0m \u001b[0;34m\"xls\"\u001b[0m\u001b[0;34m\u001b[0m\u001b[0;34m\u001b[0m\u001b[0m\n\u001b[1;32m   1190\u001b[0m             \u001b[0;32melse\u001b[0m\u001b[0;34m:\u001b[0m\u001b[0;34m\u001b[0m\u001b[0;34m\u001b[0m\u001b[0m\n\u001b[0;32m-> 1191\u001b[0;31m                 ext = inspect_excel_format(\n\u001b[0m\u001b[1;32m   1192\u001b[0m                     \u001b[0mcontent_or_path\u001b[0m\u001b[0;34m=\u001b[0m\u001b[0mpath_or_buffer\u001b[0m\u001b[0;34m,\u001b[0m \u001b[0mstorage_options\u001b[0m\u001b[0;34m=\u001b[0m\u001b[0mstorage_options\u001b[0m\u001b[0;34m\u001b[0m\u001b[0;34m\u001b[0m\u001b[0m\n\u001b[1;32m   1193\u001b[0m                 )\n",
      "\u001b[0;32m~/opt/anaconda3/lib/python3.9/site-packages/pandas/io/excel/_base.py\u001b[0m in \u001b[0;36minspect_excel_format\u001b[0;34m(content_or_path, storage_options)\u001b[0m\n\u001b[1;32m   1068\u001b[0m         \u001b[0mcontent_or_path\u001b[0m \u001b[0;34m=\u001b[0m \u001b[0mBytesIO\u001b[0m\u001b[0;34m(\u001b[0m\u001b[0mcontent_or_path\u001b[0m\u001b[0;34m)\u001b[0m\u001b[0;34m\u001b[0m\u001b[0;34m\u001b[0m\u001b[0m\n\u001b[1;32m   1069\u001b[0m \u001b[0;34m\u001b[0m\u001b[0m\n\u001b[0;32m-> 1070\u001b[0;31m     with get_handle(\n\u001b[0m\u001b[1;32m   1071\u001b[0m         \u001b[0mcontent_or_path\u001b[0m\u001b[0;34m,\u001b[0m \u001b[0;34m\"rb\"\u001b[0m\u001b[0;34m,\u001b[0m \u001b[0mstorage_options\u001b[0m\u001b[0;34m=\u001b[0m\u001b[0mstorage_options\u001b[0m\u001b[0;34m,\u001b[0m \u001b[0mis_text\u001b[0m\u001b[0;34m=\u001b[0m\u001b[0;32mFalse\u001b[0m\u001b[0;34m\u001b[0m\u001b[0;34m\u001b[0m\u001b[0m\n\u001b[1;32m   1072\u001b[0m     ) as handle:\n",
      "\u001b[0;32m~/opt/anaconda3/lib/python3.9/site-packages/pandas/io/common.py\u001b[0m in \u001b[0;36mget_handle\u001b[0;34m(path_or_buf, mode, encoding, compression, memory_map, is_text, errors, storage_options)\u001b[0m\n\u001b[1;32m    709\u001b[0m         \u001b[0;32melse\u001b[0m\u001b[0;34m:\u001b[0m\u001b[0;34m\u001b[0m\u001b[0;34m\u001b[0m\u001b[0m\n\u001b[1;32m    710\u001b[0m             \u001b[0;31m# Binary mode\u001b[0m\u001b[0;34m\u001b[0m\u001b[0;34m\u001b[0m\u001b[0m\n\u001b[0;32m--> 711\u001b[0;31m             \u001b[0mhandle\u001b[0m \u001b[0;34m=\u001b[0m \u001b[0mopen\u001b[0m\u001b[0;34m(\u001b[0m\u001b[0mhandle\u001b[0m\u001b[0;34m,\u001b[0m \u001b[0mioargs\u001b[0m\u001b[0;34m.\u001b[0m\u001b[0mmode\u001b[0m\u001b[0;34m)\u001b[0m\u001b[0;34m\u001b[0m\u001b[0;34m\u001b[0m\u001b[0m\n\u001b[0m\u001b[1;32m    712\u001b[0m         \u001b[0mhandles\u001b[0m\u001b[0;34m.\u001b[0m\u001b[0mappend\u001b[0m\u001b[0;34m(\u001b[0m\u001b[0mhandle\u001b[0m\u001b[0;34m)\u001b[0m\u001b[0;34m\u001b[0m\u001b[0;34m\u001b[0m\u001b[0m\n\u001b[1;32m    713\u001b[0m \u001b[0;34m\u001b[0m\u001b[0m\n",
      "\u001b[0;31mFileNotFoundError\u001b[0m: [Errno 2] No such file or directory: '/Users/delinmu/Documents/GitHub/BidTing/result/data.xlsx'"
     ]
    }
   ],
   "source": [
    "excel_path = '/Users/delinmu/Documents/GitHub/BidTing/result/data.xlsx'\n",
    "bidding_info = pd.read_excel(excel_path, sheet_name='Ori')"
   ]
  },
  {
   "cell_type": "code",
   "execution_count": null,
   "id": "20196bdc",
   "metadata": {
    "pycharm": {
     "is_executing": true
    }
   },
   "outputs": [],
   "source": [
    "# a quick view of bidding_info dataframe\n",
    "bidding_info.head()"
   ]
  },
  {
   "cell_type": "markdown",
   "id": "2c711b2b",
   "metadata": {},
   "source": [
    "### 3.2 Dataframe Observation\n",
    "A couple of questions I want to know here. \n",
    "1. How many unique clients in the dataframe?\n",
    "2. How many unique projects in the dataframe?\n",
    "3. A table includes 3 columns: client_name, bid_id, project_name, and awarded_year for me to tell how many projects were on the project over the time span"
   ]
  },
  {
   "cell_type": "markdown",
   "id": "475de5e0",
   "metadata": {},
   "source": [
    "### 3.2.1 Unique Clients\n",
    "A simple value_counts() method is used to reveal the information. Alternatively, nunique() can also reveal the information."
   ]
  },
  {
   "cell_type": "code",
   "execution_count": null,
   "id": "28c82a66",
   "metadata": {},
   "outputs": [],
   "source": [
    "# view of the data type of my dataframe\n",
    "bidding_info.client_name.value_counts()"
   ]
  },
  {
   "cell_type": "markdown",
   "id": "638d91c7",
   "metadata": {},
   "source": [
    "Note that value count for each client does not represent number of unique projects."
   ]
  },
  {
   "cell_type": "code",
   "execution_count": null,
   "id": "267eb0f4",
   "metadata": {},
   "outputs": [],
   "source": [
    "len(bidding_info.client_name.value_counts())"
   ]
  },
  {
   "cell_type": "markdown",
   "id": "99af72d9",
   "metadata": {},
   "source": [
    "In total, we have 19 clients collected in the dataframe. This is good to know how many geographical segementtation  we "
   ]
  },
  {
   "cell_type": "code",
   "execution_count": null,
   "id": "f1235214",
   "metadata": {},
   "outputs": [],
   "source": []
  }
 ],
 "metadata": {
  "kernelspec": {
   "display_name": "Python 3 (ipykernel)",
   "language": "python",
   "name": "python3"
  },
  "language_info": {
   "codemirror_mode": {
    "name": "ipython",
    "version": 3
   },
   "file_extension": ".py",
   "mimetype": "text/x-python",
   "name": "python",
   "nbconvert_exporter": "python",
   "pygments_lexer": "ipython3",
   "version": "3.9.7"
  }
 },
 "nbformat": 4,
 "nbformat_minor": 5
}
