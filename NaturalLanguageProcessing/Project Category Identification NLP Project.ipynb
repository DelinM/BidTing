{
 "cells": [
  {
   "cell_type": "markdown",
   "id": "edaa51b5",
   "metadata": {},
   "source": [
    "# Project Category Identification NLP Project <a id='Data Overview'></a>"
   ]
  },
  {
   "cell_type": "markdown",
   "id": "ed2fc34f",
   "metadata": {},
   "source": [
    "## Table of Contents <a id='2.1_Contents'></a>\n",
    "* [0. Background](#0)\n",
    "* [1. Data Import - Building Dataset](#1)\n",
    "* [2. Target Location Selection](#2)\n",
    "* [3. Data Understanding](#3)\n",
    "    * [3.1 Missing Values](#3.1)\n",
    "    * [3.2 Meter Type Observation](#3.2)\n",
    "    * [3.3 Building Area Observation](#3.3)\n",
    "    * [3.4 Building Category Observation](#3.4)\n",
    "    * [3.5 Building Energy Use Intensity](#3.5)\n",
    "    * [3.6 Other Building Parameters](#3.6)\n",
    "* [4.0 Save Data](#4.0)"
   ]
  },
  {
   "cell_type": "markdown",
   "id": "0e7fb739",
   "metadata": {},
   "source": [
    "## 0. Background"
   ]
  },
  {
   "cell_type": "markdown",
   "id": "4a53e29d",
   "metadata": {},
   "source": [
    "I built a web scrapping tool that scraps biding and tendering information from public sectors in Ontario. The public sectors includes regions such as York Region, Peel Region, Halton Region, and cities such as City of Mississauga.\n",
    "\n",
    "The intend of the project is to use DATA to tell a story about the Competitiveness of the public sector. The collected information are used to conduct the following analysis:\n",
    "\n",
    "* **Public Sector Market Understanding**: an overview of the public sector markets (services, construction, and goods), how the market changes over time.\n",
    "\n",
    "* **Competitive Information**: an overview of the performance of private companies in different public sectors. What is their wining rate comparing with their competitors. The private companies includes construction companies such as Maple Reinders Constructors Ltd. and Kenaidan Contracting Ltd., consulting companies such WSP Canada Inc., Hatch Ltd., and good supplying companies.\n",
    "\n",
    "* **Competitiveness by Category** Different private companies in the public sectors have overlapping skill sets in the public sectors, they may also specialize a niche that company leaders and strategist may not be aware off. The tool intends to use DATA to show competitiveness of each companies in different sectors such as consulting in water & wastewater, construction in civil engineering works, etc.\n",
    "\n",
    "The collected information includes project names and a generic category information. In order to understand \"Competitiveness by Category\", the original \"generic category\" needs to further broken down into detailed categories. There are almost 10k project collected, it is not practical to provide a detailed category to each of the project,. Further more, as more projects be collected, manual tagging the category is timing consuming.\n",
    "\n",
    "Therefore, Natural Language Processing (NLP) is used to do the category task for current projects and any future projects."
   ]
  },
  {
   "cell_type": "markdown",
   "id": "acf449cf",
   "metadata": {},
   "source": [
    "## 0.1 Import Libraries"
   ]
  },
  {
   "cell_type": "code",
   "execution_count": 217,
   "id": "064e029c",
   "metadata": {},
   "outputs": [],
   "source": [
    "import pandas as pd\n",
    "import numpy as np\n",
    "import datacleaning as datacleaning"
   ]
  },
  {
   "cell_type": "markdown",
   "id": "b98a791e",
   "metadata": {},
   "source": [
    "## 0.2 Import Original Dataset"
   ]
  },
  {
   "cell_type": "code",
   "execution_count": 218,
   "id": "09dd0fec",
   "metadata": {},
   "outputs": [],
   "source": [
    "path = \"../NaturalLanguageProcessing/DataUpdate.csv\"\n",
    "df = pd.read_csv(path)\n",
    "df.drop_duplicates(inplace=True)"
   ]
  },
  {
   "cell_type": "markdown",
   "id": "99c5cfea",
   "metadata": {},
   "source": [
    "## 1. Data Wrangling"
   ]
  },
  {
   "cell_type": "code",
   "execution_count": 219,
   "id": "069f6fe6",
   "metadata": {},
   "outputs": [
    {
     "name": "stdout",
     "output_type": "stream",
     "text": [
      "<class 'pandas.core.frame.DataFrame'>\n",
      "Int64Index: 7246 entries, 0 to 7245\n",
      "Data columns (total 10 columns):\n",
      " #   Column              Non-Null Count  Dtype \n",
      "---  ------              --------------  ----- \n",
      " 0   Unnamed: 0          7246 non-null   int64 \n",
      " 1   client_name         7246 non-null   object\n",
      " 2   project_name        7246 non-null   object\n",
      " 3   Category            2591 non-null   object\n",
      " 4   bid_classification  7246 non-null   object\n",
      " 5   bid_type            7246 non-null   object\n",
      " 6   bid_ID              7246 non-null   object\n",
      " 7   awarded_date        7246 non-null   object\n",
      " 8   awarded_year        7246 non-null   int64 \n",
      " 9   company_name        7246 non-null   object\n",
      "dtypes: int64(2), object(8)\n",
      "memory usage: 622.7+ KB\n"
     ]
    }
   ],
   "source": [
    "df.info()"
   ]
  },
  {
   "cell_type": "code",
   "execution_count": 220,
   "id": "bf996b86",
   "metadata": {},
   "outputs": [
    {
     "data": {
      "text/html": [
       "<div>\n",
       "<style scoped>\n",
       "    .dataframe tbody tr th:only-of-type {\n",
       "        vertical-align: middle;\n",
       "    }\n",
       "\n",
       "    .dataframe tbody tr th {\n",
       "        vertical-align: top;\n",
       "    }\n",
       "\n",
       "    .dataframe thead th {\n",
       "        text-align: right;\n",
       "    }\n",
       "</style>\n",
       "<table border=\"1\" class=\"dataframe\">\n",
       "  <thead>\n",
       "    <tr style=\"text-align: right;\">\n",
       "      <th></th>\n",
       "      <th>client_name</th>\n",
       "      <th>project_name</th>\n",
       "      <th>Category</th>\n",
       "      <th>bid_classification</th>\n",
       "      <th>bid_type</th>\n",
       "      <th>bid_ID</th>\n",
       "      <th>awarded_date</th>\n",
       "      <th>awarded_year</th>\n",
       "      <th>company_name</th>\n",
       "    </tr>\n",
       "  </thead>\n",
       "  <tbody>\n",
       "    <tr>\n",
       "      <th>0</th>\n",
       "      <td>Brant County</td>\n",
       "      <td>1 (One) 1 Ton Heavy Duty 4Wd, Cab And Chassis ...</td>\n",
       "      <td>Producer/Supplier</td>\n",
       "      <td>Goods</td>\n",
       "      <td>RFQ</td>\n",
       "      <td>OPS-RFQ-20-07</td>\n",
       "      <td>2021-03-26 0:00</td>\n",
       "      <td>2020</td>\n",
       "      <td>Finch Auto Group       GORD ANDERSON AUTOMOTIV...</td>\n",
       "    </tr>\n",
       "    <tr>\n",
       "      <th>1</th>\n",
       "      <td>Brant County</td>\n",
       "      <td>1 (One) Seven (7) Passenger Mini-Van</td>\n",
       "      <td>Producer/Supplier</td>\n",
       "      <td>Goods</td>\n",
       "      <td>RFQ</td>\n",
       "      <td>OPS-RFQ-20-04</td>\n",
       "      <td>2021-03-26 0:00</td>\n",
       "      <td>2020</td>\n",
       "      <td>Oxford Dodge Chrysler (1992) LTD</td>\n",
       "    </tr>\n",
       "    <tr>\n",
       "      <th>2</th>\n",
       "      <td>Brant County</td>\n",
       "      <td>1 (One) Seven (7) Passenger Van / Wagon</td>\n",
       "      <td>Producer/Supplier</td>\n",
       "      <td>Goods</td>\n",
       "      <td>RFQ</td>\n",
       "      <td>OPS-RFQ-20-10</td>\n",
       "      <td>2021-03-26 0:00</td>\n",
       "      <td>2020</td>\n",
       "      <td>East Court Ford Lincoln       Oxford Dodge Chr...</td>\n",
       "    </tr>\n",
       "    <tr>\n",
       "      <th>3</th>\n",
       "      <td>Brant County</td>\n",
       "      <td>1 (One) ½ Ton 8 Cyl Standard Cab 2Wd Pickup Truck</td>\n",
       "      <td>Producer/Supplier</td>\n",
       "      <td>Goods</td>\n",
       "      <td>RFQ</td>\n",
       "      <td>OPS-RFQ-20-08</td>\n",
       "      <td>2021-03-26 0:00</td>\n",
       "      <td>2020</td>\n",
       "      <td>Finch Auto Group       GORD ANDERSON AUTOMOTIV...</td>\n",
       "    </tr>\n",
       "    <tr>\n",
       "      <th>4</th>\n",
       "      <td>Brant County</td>\n",
       "      <td>1 (One) ¾ Ton 4Wd Standard Cab Pickup Truck</td>\n",
       "      <td>Producer/Supplier</td>\n",
       "      <td>Goods</td>\n",
       "      <td>RFQ</td>\n",
       "      <td>OPS-RFQ-20-09</td>\n",
       "      <td>2021-03-26 0:00</td>\n",
       "      <td>2020</td>\n",
       "      <td>East Court Ford Lincoln       Finch Auto Group...</td>\n",
       "    </tr>\n",
       "  </tbody>\n",
       "</table>\n",
       "</div>"
      ],
      "text/plain": [
       "    client_name                                       project_name  \\\n",
       "0  Brant County  1 (One) 1 Ton Heavy Duty 4Wd, Cab And Chassis ...   \n",
       "1  Brant County               1 (One) Seven (7) Passenger Mini-Van   \n",
       "2  Brant County            1 (One) Seven (7) Passenger Van / Wagon   \n",
       "3  Brant County  1 (One) ½ Ton 8 Cyl Standard Cab 2Wd Pickup Truck   \n",
       "4  Brant County        1 (One) ¾ Ton 4Wd Standard Cab Pickup Truck   \n",
       "\n",
       "            Category bid_classification bid_type         bid_ID  \\\n",
       "0  Producer/Supplier              Goods      RFQ  OPS-RFQ-20-07   \n",
       "1  Producer/Supplier              Goods      RFQ  OPS-RFQ-20-04   \n",
       "2  Producer/Supplier              Goods      RFQ  OPS-RFQ-20-10   \n",
       "3  Producer/Supplier              Goods      RFQ  OPS-RFQ-20-08   \n",
       "4  Producer/Supplier              Goods      RFQ  OPS-RFQ-20-09   \n",
       "\n",
       "      awarded_date  awarded_year  \\\n",
       "0  2021-03-26 0:00          2020   \n",
       "1  2021-03-26 0:00          2020   \n",
       "2  2021-03-26 0:00          2020   \n",
       "3  2021-03-26 0:00          2020   \n",
       "4  2021-03-26 0:00          2020   \n",
       "\n",
       "                                        company_name  \n",
       "0  Finch Auto Group       GORD ANDERSON AUTOMOTIV...  \n",
       "1            Oxford Dodge Chrysler (1992) LTD         \n",
       "2  East Court Ford Lincoln       Oxford Dodge Chr...  \n",
       "3  Finch Auto Group       GORD ANDERSON AUTOMOTIV...  \n",
       "4  East Court Ford Lincoln       Finch Auto Group...  "
      ]
     },
     "execution_count": 220,
     "metadata": {},
     "output_type": "execute_result"
    }
   ],
   "source": [
    "df.drop(columns='Unnamed: 0', inplace=True)\n",
    "df.head()"
   ]
  },
  {
   "cell_type": "markdown",
   "id": "bcc8a272",
   "metadata": {},
   "source": [
    "## 1.1 Data Exploration"
   ]
  },
  {
   "cell_type": "markdown",
   "id": "b4b80f43",
   "metadata": {},
   "source": [
    "### 1.1.1 Data Exploration - client_name"
   ]
  },
  {
   "cell_type": "code",
   "execution_count": 221,
   "id": "f82004eb",
   "metadata": {},
   "outputs": [
    {
     "data": {
      "text/plain": [
       "19"
      ]
     },
     "execution_count": 221,
     "metadata": {},
     "output_type": "execute_result"
    }
   ],
   "source": [
    "client_list = df.client_name.unique().tolist()\n",
    "len(client_list)"
   ]
  },
  {
   "cell_type": "code",
   "execution_count": 222,
   "id": "0e3f2339",
   "metadata": {},
   "outputs": [
    {
     "data": {
      "text/plain": [
       "['Brant County',\n",
       " 'City Of Peterborough',\n",
       " 'City of Barrie',\n",
       " 'City of Brantford',\n",
       " 'City of Guelph',\n",
       " 'City of Hamilton',\n",
       " 'City of Kawartha Lakes',\n",
       " 'City of London',\n",
       " 'City of Orillia',\n",
       " 'Dufferin County',\n",
       " 'Durham Region',\n",
       " 'Haldimand County',\n",
       " 'Halton Region',\n",
       " 'Niagara Region',\n",
       " 'Peel Region',\n",
       " 'Peterborough County',\n",
       " 'Simcoe County',\n",
       " 'Waterloo Region',\n",
       " 'York Region']"
      ]
     },
     "execution_count": 222,
     "metadata": {},
     "output_type": "execute_result"
    }
   ],
   "source": [
    "client_list"
   ]
  },
  {
   "cell_type": "code",
   "execution_count": 223,
   "id": "6ba877b0",
   "metadata": {},
   "outputs": [
    {
     "data": {
      "text/plain": [
       "<AxesSubplot:>"
      ]
     },
     "execution_count": 223,
     "metadata": {},
     "output_type": "execute_result"
    },
    {
     "data": {
      "image/png": "[encoded data removed]",
      "text/plain": [
       "<Figure size 432x288 with 1 Axes>"
      ]
     },
     "metadata": {
      "needs_background": "light"
     },
     "output_type": "display_data"
    }
   ],
   "source": [
    "df.client_name.value_counts().plot.bar()"
   ]
  },
  {
   "cell_type": "markdown",
   "id": "4b67f66b",
   "metadata": {},
   "source": [
    "There are 19 clients included in the dataset. The client name will not be used as an input for NLP because the client name does not have any affect on the project name and project category.York Region has a good record of their public projects online."
   ]
  },
  {
   "cell_type": "markdown",
   "id": "7657f516",
   "metadata": {},
   "source": [
    "### 1.1.2 Data Exploration - bid_type"
   ]
  },
  {
   "cell_type": "markdown",
   "id": "d7b13302",
   "metadata": {},
   "source": [
    "There are a couple of bid types in the business of the public sector: Request for Tender(RFT), Request for Proposal(RFP), Request for Quotation(RFQ), Request for Information (RFI), and Request for Pre-Qualification(RFPQ)."
   ]
  },
  {
   "cell_type": "code",
   "execution_count": 224,
   "id": "852e87ae",
   "metadata": {},
   "outputs": [
    {
     "data": {
      "text/plain": [
       "count     7246\n",
       "unique      58\n",
       "top        RFT\n",
       "freq      1207\n",
       "Name: bid_type, dtype: object"
      ]
     },
     "execution_count": 224,
     "metadata": {},
     "output_type": "execute_result"
    }
   ],
   "source": [
    "df.bid_type.describe()"
   ]
  },
  {
   "cell_type": "code",
   "execution_count": 225,
   "id": "673209dd",
   "metadata": {
    "scrolled": false
   },
   "outputs": [
    {
     "data": {
      "text/plain": [
       "['RFQ',\n",
       " 'Tender',\n",
       " 'RFP',\n",
       " 'ITT',\n",
       " 'RFSQ',\n",
       " 'RFQ – High Score',\n",
       " 'RFQ – Low Bid',\n",
       " 'RFP – Consecutive Negotiation',\n",
       " 'Non-Standard Procurement',\n",
       " 'RFSQ – Prequalification',\n",
       " 'Notice',\n",
       " 'RFT',\n",
       " 'RFQ (<)',\n",
       " 'RFD (Disposal)',\n",
       " 'RFPQ',\n",
       " 'RFRC',\n",
       " 'RFP - Revenue Generating',\n",
       " 'RFP - Goods and Services',\n",
       " 'RFP - Prime Consultant',\n",
       " 'RFT - Construction - Stipulated Price - CCDC',\n",
       " 'RFT - Public Works',\n",
       " 'RFT - Construction - Unit Price',\n",
       " 'RFT - Goods and Services',\n",
       " 'RFT - Revenue Generating',\n",
       " 'RFT - Vehicle',\n",
       " 'Request For Quotation',\n",
       " 'Request For Proposal',\n",
       " 'Request For Supplier Qualification',\n",
       " 'Request for Tender',\n",
       " 'Request for Proposal',\n",
       " 'Request for Qualifications',\n",
       " 'Request for Quotation (Formal)',\n",
       " 'Request for Information',\n",
       " 'Informal Request for Quotation',\n",
       " 'RFEOI',\n",
       " 'Request for Supplier Pre-qualification',\n",
       " 'Request For Quotations',\n",
       " 'N',\n",
       " 'NRFP',\n",
       " 'Request For Tender',\n",
       " 'Request For PreQualification',\n",
       " 'Request for Proposal(N)',\n",
       " 'DN',\n",
       " 'VOR',\n",
       " 'RFO',\n",
       " 'Request for Offer',\n",
       " 'Request for Quotation',\n",
       " 'Request for Quote',\n",
       " 'Pre-Qualification',\n",
       " 'Consultant Selection Stage 1',\n",
       " 'Consultant Selection',\n",
       " 'Request for Tender (Carpentry)',\n",
       " 'Cooperative Tender',\n",
       " 'Consultant Selection Stage 2',\n",
       " 'Expression of Interest',\n",
       " 'RFI',\n",
       " 'EOI',\n",
       " 'Notice of Contract Award']"
      ]
     },
     "execution_count": 225,
     "metadata": {},
     "output_type": "execute_result"
    }
   ],
   "source": [
    "df.bid_type.unique().tolist()"
   ]
  },
  {
   "cell_type": "code",
   "execution_count": 226,
   "id": "460f86ba",
   "metadata": {},
   "outputs": [
    {
     "data": {
      "text/plain": [
       "RFT                                             1207\n",
       "Tender                                          1200\n",
       "RFP                                             1188\n",
       "Request for Tender                               671\n",
       "RFQ                                              332\n",
       "Request For Proposal                             295\n",
       "Pre-Qualification                                223\n",
       "Request For Quotation                            195\n",
       "Request For Tender                               176\n",
       "Request for Proposal                             176\n",
       "RFT - Goods and Services                         157\n",
       "RFT - Public Works                               152\n",
       "RFPQ                                             123\n",
       "RFP - Goods and Services                         104\n",
       "RFQ – Low Bid                                    101\n",
       "ITT                                               97\n",
       "RFT - Construction - Stipulated Price - CCDC      91\n",
       "Request for Quotation (Formal)                    85\n",
       "RFP – Consecutive Negotiation                     77\n",
       "Consultant Selection                              76\n",
       "RFQ – High Score                                  57\n",
       "RFT - Construction - Unit Price                   52\n",
       "RFI                                               51\n",
       "RFRC                                              40\n",
       "Request for Qualifications                        36\n",
       "DN                                                31\n",
       "RFQ (<)                                           31\n",
       "Request For PreQualification                      28\n",
       "RFT - Vehicle                                     19\n",
       "Request for Tender (Carpentry)                    19\n",
       "Consultant Selection Stage 1                      18\n",
       "Request for Quotation                             17\n",
       "N                                                 14\n",
       "Non-Standard Procurement                          13\n",
       "RFSQ                                              13\n",
       "Request for Quote                                 11\n",
       "RFSQ – Prequalification                           11\n",
       "Request For Supplier Qualification                 9\n",
       "Informal Request for Quotation                     7\n",
       "Cooperative Tender                                 5\n",
       "RFD (Disposal)                                     4\n",
       "RFP - Prime Consultant                             4\n",
       "Notice                                             4\n",
       "Notice of Contract Award                           3\n",
       "VOR                                                3\n",
       "NRFP                                               3\n",
       "Request for Proposal(N)                            2\n",
       "Request for Supplier Pre-qualification             2\n",
       "Expression of Interest                             2\n",
       "RFP - Revenue Generating                           2\n",
       "EOI                                                2\n",
       "RFO                                                1\n",
       "Request for Offer                                  1\n",
       "Request For Quotations                             1\n",
       "Request for Information                            1\n",
       "RFT - Revenue Generating                           1\n",
       "Consultant Selection Stage 2                       1\n",
       "RFEOI                                              1\n",
       "Name: bid_type, dtype: int64"
      ]
     },
     "execution_count": 226,
     "metadata": {},
     "output_type": "execute_result"
    }
   ],
   "source": [
    "df.bid_type.value_counts(dropna = False)"
   ]
  },
  {
   "cell_type": "markdown",
   "id": "9844af25",
   "metadata": {},
   "source": [
    "As we can see the bid types are not unified across different regions/cities, a hashmap is developed to revise values."
   ]
  },
  {
   "cell_type": "code",
   "execution_count": 227,
   "id": "f4946fd9",
   "metadata": {},
   "outputs": [],
   "source": [
    "df.bid_type = df.bid_type.apply(lambda x : datacleaning.get_bidType(x))"
   ]
  },
  {
   "cell_type": "code",
   "execution_count": 228,
   "id": "4b742168",
   "metadata": {
    "scrolled": true
   },
   "outputs": [
    {
     "data": {
      "text/html": [
       "<div>\n",
       "<style scoped>\n",
       "    .dataframe tbody tr th:only-of-type {\n",
       "        vertical-align: middle;\n",
       "    }\n",
       "\n",
       "    .dataframe tbody tr th {\n",
       "        vertical-align: top;\n",
       "    }\n",
       "\n",
       "    .dataframe thead th {\n",
       "        text-align: right;\n",
       "    }\n",
       "</style>\n",
       "<table border=\"1\" class=\"dataframe\">\n",
       "  <thead>\n",
       "    <tr style=\"text-align: right;\">\n",
       "      <th></th>\n",
       "      <th>client_name</th>\n",
       "      <th>project_name</th>\n",
       "      <th>Category</th>\n",
       "      <th>bid_classification</th>\n",
       "      <th>bid_type</th>\n",
       "      <th>bid_ID</th>\n",
       "      <th>awarded_date</th>\n",
       "      <th>awarded_year</th>\n",
       "      <th>company_name</th>\n",
       "    </tr>\n",
       "  </thead>\n",
       "  <tbody>\n",
       "    <tr>\n",
       "      <th>0</th>\n",
       "      <td>Brant County</td>\n",
       "      <td>1 (One) 1 Ton Heavy Duty 4Wd, Cab And Chassis ...</td>\n",
       "      <td>Producer/Supplier</td>\n",
       "      <td>Goods</td>\n",
       "      <td>Request for Quotation(RFQ)</td>\n",
       "      <td>OPS-RFQ-20-07</td>\n",
       "      <td>2021-03-26 0:00</td>\n",
       "      <td>2020</td>\n",
       "      <td>Finch Auto Group       GORD ANDERSON AUTOMOTIV...</td>\n",
       "    </tr>\n",
       "    <tr>\n",
       "      <th>1</th>\n",
       "      <td>Brant County</td>\n",
       "      <td>1 (One) Seven (7) Passenger Mini-Van</td>\n",
       "      <td>Producer/Supplier</td>\n",
       "      <td>Goods</td>\n",
       "      <td>Request for Quotation(RFQ)</td>\n",
       "      <td>OPS-RFQ-20-04</td>\n",
       "      <td>2021-03-26 0:00</td>\n",
       "      <td>2020</td>\n",
       "      <td>Oxford Dodge Chrysler (1992) LTD</td>\n",
       "    </tr>\n",
       "    <tr>\n",
       "      <th>2</th>\n",
       "      <td>Brant County</td>\n",
       "      <td>1 (One) Seven (7) Passenger Van / Wagon</td>\n",
       "      <td>Producer/Supplier</td>\n",
       "      <td>Goods</td>\n",
       "      <td>Request for Quotation(RFQ)</td>\n",
       "      <td>OPS-RFQ-20-10</td>\n",
       "      <td>2021-03-26 0:00</td>\n",
       "      <td>2020</td>\n",
       "      <td>East Court Ford Lincoln       Oxford Dodge Chr...</td>\n",
       "    </tr>\n",
       "    <tr>\n",
       "      <th>3</th>\n",
       "      <td>Brant County</td>\n",
       "      <td>1 (One) ½ Ton 8 Cyl Standard Cab 2Wd Pickup Truck</td>\n",
       "      <td>Producer/Supplier</td>\n",
       "      <td>Goods</td>\n",
       "      <td>Request for Quotation(RFQ)</td>\n",
       "      <td>OPS-RFQ-20-08</td>\n",
       "      <td>2021-03-26 0:00</td>\n",
       "      <td>2020</td>\n",
       "      <td>Finch Auto Group       GORD ANDERSON AUTOMOTIV...</td>\n",
       "    </tr>\n",
       "    <tr>\n",
       "      <th>4</th>\n",
       "      <td>Brant County</td>\n",
       "      <td>1 (One) ¾ Ton 4Wd Standard Cab Pickup Truck</td>\n",
       "      <td>Producer/Supplier</td>\n",
       "      <td>Goods</td>\n",
       "      <td>Request for Quotation(RFQ)</td>\n",
       "      <td>OPS-RFQ-20-09</td>\n",
       "      <td>2021-03-26 0:00</td>\n",
       "      <td>2020</td>\n",
       "      <td>East Court Ford Lincoln       Finch Auto Group...</td>\n",
       "    </tr>\n",
       "    <tr>\n",
       "      <th>...</th>\n",
       "      <td>...</td>\n",
       "      <td>...</td>\n",
       "      <td>...</td>\n",
       "      <td>...</td>\n",
       "      <td>...</td>\n",
       "      <td>...</td>\n",
       "      <td>...</td>\n",
       "      <td>...</td>\n",
       "      <td>...</td>\n",
       "    </tr>\n",
       "    <tr>\n",
       "      <th>7241</th>\n",
       "      <td>York Region</td>\n",
       "      <td>York Telecom Network Construction And Maintena...</td>\n",
       "      <td>Construction - Fibre Optic Cable</td>\n",
       "      <td>Goods</td>\n",
       "      <td>Request for Tender(RFT)</td>\n",
       "      <td>T-16-118</td>\n",
       "      <td>08-May</td>\n",
       "      <td>2017</td>\n",
       "      <td>Aecon Utilities       Black &amp; McDonald Limited...</td>\n",
       "    </tr>\n",
       "    <tr>\n",
       "      <th>7242</th>\n",
       "      <td>York Region</td>\n",
       "      <td>York-Durham Line Concrete Box Culvert Replacem...</td>\n",
       "      <td>NaN</td>\n",
       "      <td>Construction</td>\n",
       "      <td>Request for Tender(RFT)</td>\n",
       "      <td>16-122</td>\n",
       "      <td>19-Aug</td>\n",
       "      <td>2016</td>\n",
       "      <td>Primrose Contracting (Ont.) Inc.       Everstr...</td>\n",
       "    </tr>\n",
       "    <tr>\n",
       "      <th>7243</th>\n",
       "      <td>York Region</td>\n",
       "      <td>York-Peel 900Mm Twin Forcemains Combined Air R...</td>\n",
       "      <td>Construction - Water Wastewater Linear</td>\n",
       "      <td>Construction</td>\n",
       "      <td>Request for Tender(RFT)</td>\n",
       "      <td>T-19-129</td>\n",
       "      <td>08-Jul</td>\n",
       "      <td>2020</td>\n",
       "      <td>H2Ontario Inc.       Jeviso Construction Corpo...</td>\n",
       "    </tr>\n",
       "    <tr>\n",
       "      <th>7244</th>\n",
       "      <td>York Region</td>\n",
       "      <td>Yrt/Viva 2021-2025 Strategic Plan And 2017-202...</td>\n",
       "      <td>NaN</td>\n",
       "      <td>Services</td>\n",
       "      <td>Request for Proposal(RFP)</td>\n",
       "      <td>P-15-189</td>\n",
       "      <td>24-May</td>\n",
       "      <td>2016</td>\n",
       "      <td>AECOM Canada Ltd.       Dillon Consulting Limi...</td>\n",
       "    </tr>\n",
       "    <tr>\n",
       "      <th>7245</th>\n",
       "      <td>York Region</td>\n",
       "      <td>Yrt/Viva Mapping Services</td>\n",
       "      <td>Consulting - Software Services</td>\n",
       "      <td>Services</td>\n",
       "      <td>Request for Proposal(RFP)</td>\n",
       "      <td>P-16-161</td>\n",
       "      <td>03-Jan</td>\n",
       "      <td>2017</td>\n",
       "      <td>Lets Bus It Publications Inc.       Lucidmap I...</td>\n",
       "    </tr>\n",
       "  </tbody>\n",
       "</table>\n",
       "<p>7246 rows × 9 columns</p>\n",
       "</div>"
      ],
      "text/plain": [
       "       client_name                                       project_name  \\\n",
       "0     Brant County  1 (One) 1 Ton Heavy Duty 4Wd, Cab And Chassis ...   \n",
       "1     Brant County               1 (One) Seven (7) Passenger Mini-Van   \n",
       "2     Brant County            1 (One) Seven (7) Passenger Van / Wagon   \n",
       "3     Brant County  1 (One) ½ Ton 8 Cyl Standard Cab 2Wd Pickup Truck   \n",
       "4     Brant County        1 (One) ¾ Ton 4Wd Standard Cab Pickup Truck   \n",
       "...            ...                                                ...   \n",
       "7241   York Region  York Telecom Network Construction And Maintena...   \n",
       "7242   York Region  York-Durham Line Concrete Box Culvert Replacem...   \n",
       "7243   York Region  York-Peel 900Mm Twin Forcemains Combined Air R...   \n",
       "7244   York Region  Yrt/Viva 2021-2025 Strategic Plan And 2017-202...   \n",
       "7245   York Region                          Yrt/Viva Mapping Services   \n",
       "\n",
       "                                    Category bid_classification  \\\n",
       "0                          Producer/Supplier              Goods   \n",
       "1                          Producer/Supplier              Goods   \n",
       "2                          Producer/Supplier              Goods   \n",
       "3                          Producer/Supplier              Goods   \n",
       "4                          Producer/Supplier              Goods   \n",
       "...                                      ...                ...   \n",
       "7241        Construction - Fibre Optic Cable              Goods   \n",
       "7242                                     NaN       Construction   \n",
       "7243  Construction - Water Wastewater Linear       Construction   \n",
       "7244                                     NaN           Services   \n",
       "7245          Consulting - Software Services           Services   \n",
       "\n",
       "                        bid_type         bid_ID     awarded_date  \\\n",
       "0     Request for Quotation(RFQ)  OPS-RFQ-20-07  2021-03-26 0:00   \n",
       "1     Request for Quotation(RFQ)  OPS-RFQ-20-04  2021-03-26 0:00   \n",
       "2     Request for Quotation(RFQ)  OPS-RFQ-20-10  2021-03-26 0:00   \n",
       "3     Request for Quotation(RFQ)  OPS-RFQ-20-08  2021-03-26 0:00   \n",
       "4     Request for Quotation(RFQ)  OPS-RFQ-20-09  2021-03-26 0:00   \n",
       "...                          ...            ...              ...   \n",
       "7241     Request for Tender(RFT)       T-16-118           08-May   \n",
       "7242     Request for Tender(RFT)         16-122           19-Aug   \n",
       "7243     Request for Tender(RFT)       T-19-129           08-Jul   \n",
       "7244   Request for Proposal(RFP)       P-15-189           24-May   \n",
       "7245   Request for Proposal(RFP)       P-16-161           03-Jan   \n",
       "\n",
       "      awarded_year                                       company_name  \n",
       "0             2020  Finch Auto Group       GORD ANDERSON AUTOMOTIV...  \n",
       "1             2020            Oxford Dodge Chrysler (1992) LTD         \n",
       "2             2020  East Court Ford Lincoln       Oxford Dodge Chr...  \n",
       "3             2020  Finch Auto Group       GORD ANDERSON AUTOMOTIV...  \n",
       "4             2020  East Court Ford Lincoln       Finch Auto Group...  \n",
       "...            ...                                                ...  \n",
       "7241          2017  Aecon Utilities       Black & McDonald Limited...  \n",
       "7242          2016  Primrose Contracting (Ont.) Inc.       Everstr...  \n",
       "7243          2020  H2Ontario Inc.       Jeviso Construction Corpo...  \n",
       "7244          2016  AECOM Canada Ltd.       Dillon Consulting Limi...  \n",
       "7245          2017  Lets Bus It Publications Inc.       Lucidmap I...  \n",
       "\n",
       "[7246 rows x 9 columns]"
      ]
     },
     "execution_count": 228,
     "metadata": {},
     "output_type": "execute_result"
    }
   ],
   "source": [
    "df"
   ]
  },
  {
   "cell_type": "markdown",
   "id": "7ee0cc62",
   "metadata": {},
   "source": [
    "### 1.1.3 Data Exploration - bid_classification"
   ]
  },
  {
   "cell_type": "code",
   "execution_count": 229,
   "id": "fc60d6e0",
   "metadata": {},
   "outputs": [
    {
     "data": {
      "text/plain": [
       "array(['Goods', 'Construction', 'Services'], dtype=object)"
      ]
     },
     "execution_count": 229,
     "metadata": {},
     "output_type": "execute_result"
    }
   ],
   "source": [
    "df.bid_classification.unique()"
   ]
  },
  {
   "cell_type": "code",
   "execution_count": 230,
   "id": "b309462d",
   "metadata": {
    "scrolled": true
   },
   "outputs": [
    {
     "data": {
      "text/plain": [
       "Services        3381\n",
       "Construction    2672\n",
       "Goods           1193\n",
       "Name: bid_classification, dtype: int64"
      ]
     },
     "execution_count": 230,
     "metadata": {},
     "output_type": "execute_result"
    }
   ],
   "source": [
    "df.bid_classification.value_counts(dropna = False)"
   ]
  },
  {
   "cell_type": "markdown",
   "id": "a62aeb83",
   "metadata": {},
   "source": [
    "There are three type of bid classification: \"Services\", \"Construction\", and \"Goods\"."
   ]
  },
  {
   "cell_type": "markdown",
   "id": "bfd374f5",
   "metadata": {},
   "source": [
    "### 1.1.4 Data Exploration - bid_ID"
   ]
  },
  {
   "cell_type": "code",
   "execution_count": 231,
   "id": "a8889f74",
   "metadata": {},
   "outputs": [
    {
     "data": {
      "text/plain": [
       "C12-06-18    39\n",
       "17-151        3\n",
       "17-126        3\n",
       "19-181        2\n",
       "17-142        2\n",
       "             ..\n",
       "P-15-189      1\n",
       "T-19-80       1\n",
       "T-17-02       1\n",
       "T-16-132      1\n",
       "P-16-161      1\n",
       "Name: bid_ID, Length: 7138, dtype: int64"
      ]
     },
     "execution_count": 231,
     "metadata": {},
     "output_type": "execute_result"
    }
   ],
   "source": [
    "df.bid_ID.value_counts().sort_values(ascending=False)"
   ]
  },
  {
   "cell_type": "code",
   "execution_count": 232,
   "id": "62f58914",
   "metadata": {},
   "outputs": [
    {
     "data": {
      "text/plain": [
       "7138"
      ]
     },
     "execution_count": 232,
     "metadata": {},
     "output_type": "execute_result"
    }
   ],
   "source": [
    "df.bid_ID.unique().size"
   ]
  },
  {
   "cell_type": "markdown",
   "id": "da379db7",
   "metadata": {},
   "source": [
    "Note that there are bid that have duplicates IDs."
   ]
  },
  {
   "cell_type": "markdown",
   "id": "5ba0abf6",
   "metadata": {},
   "source": [
    "### 1.1.5 Data Exploration - Category\n",
    "This is the target, \"Category\" had been manually added to the dataset for the model analysis."
   ]
  },
  {
   "cell_type": "code",
   "execution_count": 233,
   "id": "eb4b8b21",
   "metadata": {},
   "outputs": [
    {
     "data": {
      "text/plain": [
       "Producer/Supplier                            862\n",
       "Consulting - Water Wastewater Vertical       297\n",
       "Construction - Water Wastewater Linear       209\n",
       "Construction - Road                          207\n",
       "Construction - Water Wastewater Vertical     203\n",
       "Consulting - Transportation Road/Trainsit    201\n",
       "Consulting - Geotechnical/Environmental      147\n",
       "Consulting - Water Wastewater Linear          97\n",
       "Construction - Facility                       88\n",
       "Consulting - Facility                         85\n",
       "Consulting - Others                           65\n",
       "Construction - Landscaping                    63\n",
       "Consulting - Transportation Bridge            30\n",
       "Consulting - Software Services                17\n",
       "Construction - Fibre Optic Cable              13\n",
       "Consulting - Landscaping                       6\n",
       "Consulting- Geotechnical/Environmental         1\n",
       "Name: Category, dtype: int64"
      ]
     },
     "execution_count": 233,
     "metadata": {},
     "output_type": "execute_result"
    }
   ],
   "source": [
    "df.Category.value_counts().sort_values(ascending=False)"
   ]
  },
  {
   "cell_type": "code",
   "execution_count": 234,
   "id": "78900842",
   "metadata": {},
   "outputs": [
    {
     "data": {
      "text/plain": [
       "Producer/Supplier                            862\n",
       "Consulting - Water Wastewater Vertical       297\n",
       "Construction - Water Wastewater Linear       209\n",
       "Construction - Road                          207\n",
       "Construction - Water Wastewater Vertical     203\n",
       "Consulting - Transportation Road/Trainsit    201\n",
       "Consulting - Geotechnical/Environmental      148\n",
       "Consulting - Water Wastewater Linear          97\n",
       "Construction - Facility                       88\n",
       "Consulting - Facility                         85\n",
       "Consulting - Others                           65\n",
       "Construction - Landscaping                    63\n",
       "Consulting - Transportation Bridge            30\n",
       "Consulting - Software Services                17\n",
       "Construction - Fibre Optic Cable              13\n",
       "Consulting - Landscaping                       6\n",
       "Name: Category, dtype: int64"
      ]
     },
     "execution_count": 234,
     "metadata": {},
     "output_type": "execute_result"
    }
   ],
   "source": [
    "df.Category = df.Category.replace({'Consulting- Geotechnical/Environmental' : \"Consulting - Geotechnical/Environmental\"})\n",
    "df.Category.value_counts().sort_values(ascending=False)"
   ]
  },
  {
   "cell_type": "markdown",
   "id": "9ecdbe42",
   "metadata": {},
   "source": [
    "We only want to include the rows that contains \"Category\" in our dataset."
   ]
  },
  {
   "cell_type": "markdown",
   "id": "37f558fd",
   "metadata": {},
   "source": [
    "### 1.1.6 Remove Columns"
   ]
  },
  {
   "cell_type": "code",
   "execution_count": 235,
   "id": "dec951b8",
   "metadata": {},
   "outputs": [
    {
     "name": "stdout",
     "output_type": "stream",
     "text": [
      "<class 'pandas.core.frame.DataFrame'>\n",
      "Int64Index: 7246 entries, 0 to 7245\n",
      "Data columns (total 9 columns):\n",
      " #   Column              Non-Null Count  Dtype \n",
      "---  ------              --------------  ----- \n",
      " 0   client_name         7246 non-null   object\n",
      " 1   project_name        7246 non-null   object\n",
      " 2   Category            2591 non-null   object\n",
      " 3   bid_classification  7246 non-null   object\n",
      " 4   bid_type            7246 non-null   object\n",
      " 5   bid_ID              7246 non-null   object\n",
      " 6   awarded_date        7246 non-null   object\n",
      " 7   awarded_year        7246 non-null   int64 \n",
      " 8   company_name        7246 non-null   object\n",
      "dtypes: int64(1), object(8)\n",
      "memory usage: 566.1+ KB\n"
     ]
    }
   ],
   "source": [
    "df.info()"
   ]
  },
  {
   "cell_type": "code",
   "execution_count": 236,
   "id": "358ea201",
   "metadata": {},
   "outputs": [
    {
     "data": {
      "text/html": [
       "<div>\n",
       "<style scoped>\n",
       "    .dataframe tbody tr th:only-of-type {\n",
       "        vertical-align: middle;\n",
       "    }\n",
       "\n",
       "    .dataframe tbody tr th {\n",
       "        vertical-align: top;\n",
       "    }\n",
       "\n",
       "    .dataframe thead th {\n",
       "        text-align: right;\n",
       "    }\n",
       "</style>\n",
       "<table border=\"1\" class=\"dataframe\">\n",
       "  <thead>\n",
       "    <tr style=\"text-align: right;\">\n",
       "      <th></th>\n",
       "      <th>client_name</th>\n",
       "      <th>project_name</th>\n",
       "      <th>Category</th>\n",
       "      <th>bid_classification</th>\n",
       "      <th>bid_type</th>\n",
       "      <th>bid_ID</th>\n",
       "      <th>awarded_date</th>\n",
       "      <th>awarded_year</th>\n",
       "      <th>company_name</th>\n",
       "    </tr>\n",
       "  </thead>\n",
       "  <tbody>\n",
       "    <tr>\n",
       "      <th>0</th>\n",
       "      <td>Brant County</td>\n",
       "      <td>1 (One) 1 Ton Heavy Duty 4Wd, Cab And Chassis ...</td>\n",
       "      <td>Producer/Supplier</td>\n",
       "      <td>Goods</td>\n",
       "      <td>Request for Quotation(RFQ)</td>\n",
       "      <td>OPS-RFQ-20-07</td>\n",
       "      <td>2021-03-26 0:00</td>\n",
       "      <td>2020</td>\n",
       "      <td>Finch Auto Group       GORD ANDERSON AUTOMOTIV...</td>\n",
       "    </tr>\n",
       "    <tr>\n",
       "      <th>1</th>\n",
       "      <td>Brant County</td>\n",
       "      <td>1 (One) Seven (7) Passenger Mini-Van</td>\n",
       "      <td>Producer/Supplier</td>\n",
       "      <td>Goods</td>\n",
       "      <td>Request for Quotation(RFQ)</td>\n",
       "      <td>OPS-RFQ-20-04</td>\n",
       "      <td>2021-03-26 0:00</td>\n",
       "      <td>2020</td>\n",
       "      <td>Oxford Dodge Chrysler (1992) LTD</td>\n",
       "    </tr>\n",
       "    <tr>\n",
       "      <th>2</th>\n",
       "      <td>Brant County</td>\n",
       "      <td>1 (One) Seven (7) Passenger Van / Wagon</td>\n",
       "      <td>Producer/Supplier</td>\n",
       "      <td>Goods</td>\n",
       "      <td>Request for Quotation(RFQ)</td>\n",
       "      <td>OPS-RFQ-20-10</td>\n",
       "      <td>2021-03-26 0:00</td>\n",
       "      <td>2020</td>\n",
       "      <td>East Court Ford Lincoln       Oxford Dodge Chr...</td>\n",
       "    </tr>\n",
       "    <tr>\n",
       "      <th>3</th>\n",
       "      <td>Brant County</td>\n",
       "      <td>1 (One) ½ Ton 8 Cyl Standard Cab 2Wd Pickup Truck</td>\n",
       "      <td>Producer/Supplier</td>\n",
       "      <td>Goods</td>\n",
       "      <td>Request for Quotation(RFQ)</td>\n",
       "      <td>OPS-RFQ-20-08</td>\n",
       "      <td>2021-03-26 0:00</td>\n",
       "      <td>2020</td>\n",
       "      <td>Finch Auto Group       GORD ANDERSON AUTOMOTIV...</td>\n",
       "    </tr>\n",
       "    <tr>\n",
       "      <th>4</th>\n",
       "      <td>Brant County</td>\n",
       "      <td>1 (One) ¾ Ton 4Wd Standard Cab Pickup Truck</td>\n",
       "      <td>Producer/Supplier</td>\n",
       "      <td>Goods</td>\n",
       "      <td>Request for Quotation(RFQ)</td>\n",
       "      <td>OPS-RFQ-20-09</td>\n",
       "      <td>2021-03-26 0:00</td>\n",
       "      <td>2020</td>\n",
       "      <td>East Court Ford Lincoln       Finch Auto Group...</td>\n",
       "    </tr>\n",
       "  </tbody>\n",
       "</table>\n",
       "</div>"
      ],
      "text/plain": [
       "    client_name                                       project_name  \\\n",
       "0  Brant County  1 (One) 1 Ton Heavy Duty 4Wd, Cab And Chassis ...   \n",
       "1  Brant County               1 (One) Seven (7) Passenger Mini-Van   \n",
       "2  Brant County            1 (One) Seven (7) Passenger Van / Wagon   \n",
       "3  Brant County  1 (One) ½ Ton 8 Cyl Standard Cab 2Wd Pickup Truck   \n",
       "4  Brant County        1 (One) ¾ Ton 4Wd Standard Cab Pickup Truck   \n",
       "\n",
       "            Category bid_classification                    bid_type  \\\n",
       "0  Producer/Supplier              Goods  Request for Quotation(RFQ)   \n",
       "1  Producer/Supplier              Goods  Request for Quotation(RFQ)   \n",
       "2  Producer/Supplier              Goods  Request for Quotation(RFQ)   \n",
       "3  Producer/Supplier              Goods  Request for Quotation(RFQ)   \n",
       "4  Producer/Supplier              Goods  Request for Quotation(RFQ)   \n",
       "\n",
       "          bid_ID     awarded_date  awarded_year  \\\n",
       "0  OPS-RFQ-20-07  2021-03-26 0:00          2020   \n",
       "1  OPS-RFQ-20-04  2021-03-26 0:00          2020   \n",
       "2  OPS-RFQ-20-10  2021-03-26 0:00          2020   \n",
       "3  OPS-RFQ-20-08  2021-03-26 0:00          2020   \n",
       "4  OPS-RFQ-20-09  2021-03-26 0:00          2020   \n",
       "\n",
       "                                        company_name  \n",
       "0  Finch Auto Group       GORD ANDERSON AUTOMOTIV...  \n",
       "1            Oxford Dodge Chrysler (1992) LTD         \n",
       "2  East Court Ford Lincoln       Oxford Dodge Chr...  \n",
       "3  Finch Auto Group       GORD ANDERSON AUTOMOTIV...  \n",
       "4  East Court Ford Lincoln       Finch Auto Group...  "
      ]
     },
     "execution_count": 236,
     "metadata": {},
     "output_type": "execute_result"
    }
   ],
   "source": [
    "df.head(5)"
   ]
  },
  {
   "cell_type": "code",
   "execution_count": 237,
   "id": "f4c51165",
   "metadata": {
    "scrolled": true
   },
   "outputs": [],
   "source": [
    "# columns to be removed, as they are not contribute to the category results\n",
    "columns = ['client_name', 'bid_ID', 'awarded_date', 'awarded_year', 'bid_classification']\n",
    "df = df.drop(columns=columns)"
   ]
  },
  {
   "cell_type": "markdown",
   "id": "9aae65b3",
   "metadata": {},
   "source": [
    "### 1.2 Data Cleaning"
   ]
  },
  {
   "cell_type": "markdown",
   "id": "5310c1d6",
   "metadata": {},
   "source": [
    "The category of the projects were manually added by me. We will ignore all the rows that missing category information."
   ]
  },
  {
   "cell_type": "code",
   "execution_count": 238,
   "id": "9c457dce",
   "metadata": {},
   "outputs": [
    {
     "name": "stdout",
     "output_type": "stream",
     "text": [
      "<class 'pandas.core.frame.DataFrame'>\n",
      "Int64Index: 2591 entries, 0 to 7245\n",
      "Data columns (total 4 columns):\n",
      " #   Column        Non-Null Count  Dtype \n",
      "---  ------        --------------  ----- \n",
      " 0   project_name  2591 non-null   object\n",
      " 1   Category      2591 non-null   object\n",
      " 2   bid_type      2591 non-null   object\n",
      " 3   company_name  2591 non-null   object\n",
      "dtypes: object(4)\n",
      "memory usage: 101.2+ KB\n"
     ]
    }
   ],
   "source": [
    "df = df.dropna(subset=['Category'])\n",
    "df.info()"
   ]
  },
  {
   "cell_type": "code",
   "execution_count": 239,
   "id": "447555e8",
   "metadata": {},
   "outputs": [
    {
     "data": {
      "text/html": [
       "<div>\n",
       "<style scoped>\n",
       "    .dataframe tbody tr th:only-of-type {\n",
       "        vertical-align: middle;\n",
       "    }\n",
       "\n",
       "    .dataframe tbody tr th {\n",
       "        vertical-align: top;\n",
       "    }\n",
       "\n",
       "    .dataframe thead th {\n",
       "        text-align: right;\n",
       "    }\n",
       "</style>\n",
       "<table border=\"1\" class=\"dataframe\">\n",
       "  <thead>\n",
       "    <tr style=\"text-align: right;\">\n",
       "      <th></th>\n",
       "      <th>project_name</th>\n",
       "      <th>Category</th>\n",
       "      <th>bid_type</th>\n",
       "      <th>company_name</th>\n",
       "    </tr>\n",
       "  </thead>\n",
       "  <tbody>\n",
       "    <tr>\n",
       "      <th>0</th>\n",
       "      <td>1 (One) 1 Ton Heavy Duty 4Wd, Cab And Chassis ...</td>\n",
       "      <td>Producer/Supplier</td>\n",
       "      <td>Request for Quotation(RFQ)</td>\n",
       "      <td>Finch Auto Group       GORD ANDERSON AUTOMOTIV...</td>\n",
       "    </tr>\n",
       "    <tr>\n",
       "      <th>1</th>\n",
       "      <td>1 (One) Seven (7) Passenger Mini-Van</td>\n",
       "      <td>Producer/Supplier</td>\n",
       "      <td>Request for Quotation(RFQ)</td>\n",
       "      <td>Oxford Dodge Chrysler (1992) LTD</td>\n",
       "    </tr>\n",
       "    <tr>\n",
       "      <th>2</th>\n",
       "      <td>1 (One) Seven (7) Passenger Van / Wagon</td>\n",
       "      <td>Producer/Supplier</td>\n",
       "      <td>Request for Quotation(RFQ)</td>\n",
       "      <td>East Court Ford Lincoln       Oxford Dodge Chr...</td>\n",
       "    </tr>\n",
       "    <tr>\n",
       "      <th>3</th>\n",
       "      <td>1 (One) ½ Ton 8 Cyl Standard Cab 2Wd Pickup Truck</td>\n",
       "      <td>Producer/Supplier</td>\n",
       "      <td>Request for Quotation(RFQ)</td>\n",
       "      <td>Finch Auto Group       GORD ANDERSON AUTOMOTIV...</td>\n",
       "    </tr>\n",
       "    <tr>\n",
       "      <th>4</th>\n",
       "      <td>1 (One) ¾ Ton 4Wd Standard Cab Pickup Truck</td>\n",
       "      <td>Producer/Supplier</td>\n",
       "      <td>Request for Quotation(RFQ)</td>\n",
       "      <td>East Court Ford Lincoln       Finch Auto Group...</td>\n",
       "    </tr>\n",
       "  </tbody>\n",
       "</table>\n",
       "</div>"
      ],
      "text/plain": [
       "                                        project_name           Category  \\\n",
       "0  1 (One) 1 Ton Heavy Duty 4Wd, Cab And Chassis ...  Producer/Supplier   \n",
       "1               1 (One) Seven (7) Passenger Mini-Van  Producer/Supplier   \n",
       "2            1 (One) Seven (7) Passenger Van / Wagon  Producer/Supplier   \n",
       "3  1 (One) ½ Ton 8 Cyl Standard Cab 2Wd Pickup Truck  Producer/Supplier   \n",
       "4        1 (One) ¾ Ton 4Wd Standard Cab Pickup Truck  Producer/Supplier   \n",
       "\n",
       "                     bid_type  \\\n",
       "0  Request for Quotation(RFQ)   \n",
       "1  Request for Quotation(RFQ)   \n",
       "2  Request for Quotation(RFQ)   \n",
       "3  Request for Quotation(RFQ)   \n",
       "4  Request for Quotation(RFQ)   \n",
       "\n",
       "                                        company_name  \n",
       "0  Finch Auto Group       GORD ANDERSON AUTOMOTIV...  \n",
       "1            Oxford Dodge Chrysler (1992) LTD         \n",
       "2  East Court Ford Lincoln       Oxford Dodge Chr...  \n",
       "3  Finch Auto Group       GORD ANDERSON AUTOMOTIV...  \n",
       "4  East Court Ford Lincoln       Finch Auto Group...  "
      ]
     },
     "execution_count": 239,
     "metadata": {},
     "output_type": "execute_result"
    }
   ],
   "source": [
    "df.head()"
   ]
  },
  {
   "cell_type": "markdown",
   "id": "c9d04a01",
   "metadata": {},
   "source": [
    "#### 1.2.1 Category - Data Cleaning"
   ]
  },
  {
   "cell_type": "markdown",
   "id": "71f3f2a5",
   "metadata": {},
   "source": [
    "Category is our target. We have 17 category of data. We have around 2500 data points for our study.It is likely that we may not have a good accuracy of the data based on the sample size. We want to think some strategies to shrink 17 category further down into boarder categories.\n",
    "\n",
    "After some considerations, it is hard to to shrink down the categories, a soft shrink strategy is applied."
   ]
  },
  {
   "cell_type": "code",
   "execution_count": 240,
   "id": "ed3a5592",
   "metadata": {},
   "outputs": [
    {
     "data": {
      "text/plain": [
       "['Construction - Facility',\n",
       " 'Construction - Fibre Optic Cable',\n",
       " 'Construction - Landscaping',\n",
       " 'Construction - Road',\n",
       " 'Construction - Water Wastewater Linear',\n",
       " 'Construction - Water Wastewater Vertical',\n",
       " 'Consulting - Facility',\n",
       " 'Consulting - Geotechnical/Environmental',\n",
       " 'Consulting - Landscaping',\n",
       " 'Consulting - Others',\n",
       " 'Consulting - Software Services',\n",
       " 'Consulting - Transportation Bridge',\n",
       " 'Consulting - Transportation Road/Trainsit',\n",
       " 'Consulting - Water Wastewater Linear',\n",
       " 'Consulting - Water Wastewater Vertical',\n",
       " 'Producer/Supplier']"
      ]
     },
     "execution_count": 240,
     "metadata": {},
     "output_type": "execute_result"
    }
   ],
   "source": [
    "category_list = df.Category.unique().tolist()\n",
    "category_list.sort()\n",
    "category_list"
   ]
  },
  {
   "cell_type": "code",
   "execution_count": 241,
   "id": "c70e3369",
   "metadata": {},
   "outputs": [
    {
     "data": {
      "text/plain": [
       "<AxesSubplot:>"
      ]
     },
     "execution_count": 241,
     "metadata": {},
     "output_type": "execute_result"
    },
    {
     "data": {
      "image/png": "[encoded data removed]",
      "text/plain": [
       "<Figure size 432x288 with 1 Axes>"
      ]
     },
     "metadata": {
      "needs_background": "light"
     },
     "output_type": "display_data"
    }
   ],
   "source": [
    "df.Category = df.Category.apply(lambda x : datacleaning.get_category(x))\n",
    "df.Category.value_counts().plot.bar()"
   ]
  },
  {
   "cell_type": "markdown",
   "id": "0fa20e58",
   "metadata": {},
   "source": [
    "Note that we have lots of \"Producer/Supplier\", when we split the data, we have to make sure we this category will not affect the results due to large sample size - imbalanced data."
   ]
  },
  {
   "cell_type": "markdown",
   "id": "b8d1172a",
   "metadata": {},
   "source": [
    "#### 1.2.1.1 Category - Assign Number"
   ]
  },
  {
   "cell_type": "code",
   "execution_count": 242,
   "id": "32bb694f",
   "metadata": {},
   "outputs": [
    {
     "data": {
      "text/plain": [
       "<AxesSubplot:>"
      ]
     },
     "execution_count": 242,
     "metadata": {},
     "output_type": "execute_result"
    },
    {
     "data": {
      "image/png": "[encoded data removed]",
      "text/plain": [
       "<Figure size 432x288 with 1 Axes>"
      ]
     },
     "metadata": {
      "needs_background": "light"
     },
     "output_type": "display_data"
    }
   ],
   "source": [
    "bid_category_numbering = {'Construction - Facility': 1,\n",
    "                          'Construction - Fibre Optic Cable': 2,\n",
    "                          'Construction - Landscaping': 3,\n",
    "                          'Construction - Road': 4,\n",
    "                          'Construction - Water Wastewater Linear': 5,\n",
    "                          'Construction - Water Wastewater Vertical': 6,\n",
    "                          'Consulting - Facility': 7,\n",
    "                          'Consulting - Geotechnical/Environmental/Landscaping': 8,\n",
    "                          'Consulting - Others': 9,\n",
    "                          'Consulting - Transportation Bridge': 10,\n",
    "                          'Consulting - Transportation Road/Trainsit': 11,\n",
    "                          'Consulting - Water Wastewater Linear': 12,\n",
    "                          'Consulting - Water Wastewater Vertical': 13,\n",
    "                          'Producer/Supplier': 14\n",
    "                          }\n",
    "df.Category = df.Category.apply(lambda x : bid_category_numbering.get(x))\n",
    "df.Category.value_counts().plot.bar()"
   ]
  },
  {
   "cell_type": "markdown",
   "id": "7a7a1526",
   "metadata": {},
   "source": [
    "#### 1.2.2 bid_type - Data Cleaning"
   ]
  },
  {
   "cell_type": "code",
   "execution_count": 245,
   "id": "b205d936",
   "metadata": {},
   "outputs": [
    {
     "data": {
      "text/plain": [
       "Request for Tender(RFT)                1209\n",
       "Request for Proposal(RFP)               799\n",
       "Request for Pre-Qualification(RFPQ)     257\n",
       "Request for Quotation(RFQ)              232\n",
       "Request for Information (RFI)            52\n",
       "Others                                   42\n",
       "Name: bid_type, dtype: int64"
      ]
     },
     "execution_count": 245,
     "metadata": {},
     "output_type": "execute_result"
    }
   ],
   "source": [
    "df.bid_type.value_counts()"
   ]
  },
  {
   "cell_type": "markdown",
   "id": "2437583e",
   "metadata": {},
   "source": [
    "Note that almost all type has \"Request for\". This is not useful too much in terms of determine what category the project should belong to. Hence, only the information the round bracket.\n",
    "1. lower case the string\n",
    "2. if the string contains \"()\", then only include the information in the ()"
   ]
  },
  {
   "cell_type": "code",
   "execution_count": 250,
   "id": "3b73293c",
   "metadata": {},
   "outputs": [
    {
     "data": {
      "text/plain": [
       "'rfi'"
      ]
     },
     "execution_count": 250,
     "metadata": {},
     "output_type": "execute_result"
    }
   ],
   "source": [
    "def bid_type_cleaning(data):\n",
    "    data = data.lower()\n",
    "    temp_string = ''\n",
    "    if '(' in data:\n",
    "        data_list = data.split('(')\n",
    "        temp_string = data_list[1].strip()\n",
    "        temp_string = temp_string.replace(')', '')\n",
    "        data = temp_string\n",
    "    \n",
    "    return data"
   ]
  },
  {
   "cell_type": "code",
   "execution_count": 251,
   "id": "5454546a",
   "metadata": {},
   "outputs": [],
   "source": [
    "df.bid_type = df.bid_type.apply(lambda x : bid_type_cleaning(x))"
   ]
  },
  {
   "cell_type": "code",
   "execution_count": 252,
   "id": "514e1e37",
   "metadata": {},
   "outputs": [
    {
     "data": {
      "text/plain": [
       "rft       1209\n",
       "rfp        799\n",
       "rfpq       257\n",
       "rfq        232\n",
       "rfi         52\n",
       "others      42\n",
       "Name: bid_type, dtype: int64"
      ]
     },
     "execution_count": 252,
     "metadata": {},
     "output_type": "execute_result"
    }
   ],
   "source": [
    "df.bid_type.value_counts()"
   ]
  },
  {
   "cell_type": "markdown",
   "id": "497027fd",
   "metadata": {},
   "source": [
    "#### 1.2.2 company_name - Data Cleaning"
   ]
  },
  {
   "cell_type": "code",
   "execution_count": 267,
   "id": "56fa7f25",
   "metadata": {},
   "outputs": [
    {
     "name": "stdout",
     "output_type": "stream",
     "text": [
      "df.company_name[1]\n"
     ]
    }
   ],
   "source": [
    "\n",
    "print(r'df.company_name[1]')"
   ]
  },
  {
   "cell_type": "markdown",
   "id": "9203ecd6",
   "metadata": {},
   "source": [
    "Cleaning company names involves some thinking. Some obvious ones:\n",
    "1. lower case all\n",
    "2. remove unnecessary spaces\n",
    "3. "
   ]
  },
  {
   "cell_type": "code",
   "execution_count": null,
   "id": "a415d83c",
   "metadata": {},
   "outputs": [],
   "source": []
  }
 ],
 "metadata": {
  "kernelspec": {
   "display_name": "Python 3 (ipykernel)",
   "language": "python",
   "name": "python3"
  },
  "language_info": {
   "codemirror_mode": {
    "name": "ipython",
    "version": 3
   },
   "file_extension": ".py",
   "mimetype": "text/x-python",
   "name": "python",
   "nbconvert_exporter": "python",
   "pygments_lexer": "ipython3",
   "version": "3.9.7"
  }
 },
 "nbformat": 4,
 "nbformat_minor": 5
}
