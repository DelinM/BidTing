{
 "cells": [
  {
   "cell_type": "markdown",
   "id": "edaa51b5",
   "metadata": {},
   "source": [
    "# Project Category Identification NLP Project <a id='Data Overview'></a>"
   ]
  },
  {
   "cell_type": "markdown",
   "id": "ed2fc34f",
   "metadata": {},
   "source": [
    "## Table of Contents <a id='2.1_Contents'></a>\n",
    "* [0. Background](#0)\n",
    "* [1. Data Import - Building Dataset](#1)\n",
    "* [2. Target Location Selection](#2)\n",
    "* [3. Data Understanding](#3)\n",
    "    * [3.1 Missing Values](#3.1)\n",
    "    * [3.2 Meter Type Observation](#3.2)\n",
    "    * [3.3 Building Area Observation](#3.3)\n",
    "    * [3.4 Building Category Observation](#3.4)\n",
    "    * [3.5 Building Energy Use Intensity](#3.5)\n",
    "    * [3.6 Other Building Parameters](#3.6)\n",
    "* [4.0 Save Data](#4.0)"
   ]
  },
  {
   "cell_type": "markdown",
   "id": "0e7fb739",
   "metadata": {},
   "source": [
    "## 0. Background"
   ]
  },
  {
   "cell_type": "markdown",
   "id": "4a53e29d",
   "metadata": {},
   "source": [
    "I built a web scrapping tool that scraps biding and tendering information from public sectors in Ontario. The public sectors includes regions such as York Region, Peel Region, Halton Region, and cities such as City of Mississauga.\n",
    "\n",
    "The intend of the project is to use DATA to tell a story about the Competitiveness of the public sector. The collected information are used to conduct the following analysis:\n",
    "\n",
    "* **Public Sector Market Understanding**: an overview of the public sector markets (services, construction, and goods), how the market changes over time.\n",
    "\n",
    "* **Competitive Information**: an overview of the performance of private companies in different public sectors. What is their wining rate comparing with their competitors. The private companies includes construction companies such as Maple Reinders Constructors Ltd. and Kenaidan Contracting Ltd., consulting companies such WSP Canada Inc., Hatch Ltd., and good supplying companies.\n",
    "\n",
    "* **Competitiveness by Category** Different private companies in the public sectors have overlapping skill sets in the public sectors, they may also specialize a niche that company leaders and strategist may not be aware off. The tool intends to use DATA to show competitiveness of each companies in different sectors such as consulting in water & wastewater, construction in civil engineering works, etc.\n",
    "\n",
    "The collected information includes project names and a generic category information. In order to understand \"Competitiveness by Category\", the original \"generic category\" needs to further broken down into detailed categories. There are over 10k project collected, it is not practical to provide a detailed category to each of the project,. Further more, as more projects be collected, manual tagging the category is timing consuming.\n",
    "\n",
    "Therefore, Natural Language Processing (NLP) is used to do the category task for current projects and any future projects."
   ]
  },
  {
   "cell_type": "markdown",
   "id": "acf449cf",
   "metadata": {},
   "source": [
    "## 0.1 Import Libraries"
   ]
  },
  {
   "cell_type": "code",
   "execution_count": 59,
   "id": "064e029c",
   "metadata": {},
   "outputs": [],
   "source": [
    "import pandas as pd\n",
    "import numpy as np"
   ]
  },
  {
   "cell_type": "markdown",
   "id": "b98a791e",
   "metadata": {},
   "source": [
    "## 0.2 Import Original Dataset"
   ]
  },
  {
   "cell_type": "code",
   "execution_count": 62,
   "id": "09dd0fec",
   "metadata": {},
   "outputs": [],
   "source": [
    "path = \"../NaturalLanguageProcessing/Data.csv\"\n",
    "df = pd.read_csv(path)"
   ]
  },
  {
   "cell_type": "markdown",
   "id": "99c5cfea",
   "metadata": {},
   "source": [
    "## 1. Data Wrangling"
   ]
  },
  {
   "cell_type": "code",
   "execution_count": 63,
   "id": "069f6fe6",
   "metadata": {},
   "outputs": [
    {
     "name": "stdout",
     "output_type": "stream",
     "text": [
      "<class 'pandas.core.frame.DataFrame'>\n",
      "RangeIndex: 48207 entries, 0 to 48206\n",
      "Data columns (total 11 columns):\n",
      " #   Column              Non-Null Count  Dtype  \n",
      "---  ------              --------------  -----  \n",
      " 0   client_name         48207 non-null  object \n",
      " 1   project_name        48207 non-null  object \n",
      " 2   Category            593 non-null    object \n",
      " 3   bid_classification  38805 non-null  object \n",
      " 4   bid_type            48114 non-null  object \n",
      " 5   bid_ID              48207 non-null  object \n",
      " 6   awarded_date        48202 non-null  object \n",
      " 7   awarded_year        48202 non-null  float64\n",
      " 8   company_name        48016 non-null  object \n",
      " 9   submitted_price     30430 non-null  object \n",
      " 10  winning_status      48016 non-null  float64\n",
      "dtypes: float64(2), object(9)\n",
      "memory usage: 4.0+ MB\n"
     ]
    }
   ],
   "source": [
    "df.info()"
   ]
  },
  {
   "cell_type": "code",
   "execution_count": 64,
   "id": "bf996b86",
   "metadata": {},
   "outputs": [
    {
     "data": {
      "text/html": [
       "<div>\n",
       "<style scoped>\n",
       "    .dataframe tbody tr th:only-of-type {\n",
       "        vertical-align: middle;\n",
       "    }\n",
       "\n",
       "    .dataframe tbody tr th {\n",
       "        vertical-align: top;\n",
       "    }\n",
       "\n",
       "    .dataframe thead th {\n",
       "        text-align: right;\n",
       "    }\n",
       "</style>\n",
       "<table border=\"1\" class=\"dataframe\">\n",
       "  <thead>\n",
       "    <tr style=\"text-align: right;\">\n",
       "      <th></th>\n",
       "      <th>client_name</th>\n",
       "      <th>project_name</th>\n",
       "      <th>Category</th>\n",
       "      <th>bid_classification</th>\n",
       "      <th>bid_type</th>\n",
       "      <th>bid_ID</th>\n",
       "      <th>awarded_date</th>\n",
       "      <th>awarded_year</th>\n",
       "      <th>company_name</th>\n",
       "      <th>submitted_price</th>\n",
       "      <th>winning_status</th>\n",
       "    </tr>\n",
       "  </thead>\n",
       "  <tbody>\n",
       "    <tr>\n",
       "      <th>0</th>\n",
       "      <td>York Region</td>\n",
       "      <td>General Contractors And Subcontractors For Sen...</td>\n",
       "      <td>Construction - Restoration</td>\n",
       "      <td>Services</td>\n",
       "      <td>Pre-Qualification</td>\n",
       "      <td>PQ-20-156</td>\n",
       "      <td>Mar 5</td>\n",
       "      <td>2021.0</td>\n",
       "      <td>560789 Ontario Limited o/a R&amp;M Construction</td>\n",
       "      <td>NaN</td>\n",
       "      <td>1.0</td>\n",
       "    </tr>\n",
       "    <tr>\n",
       "      <th>1</th>\n",
       "      <td>York Region</td>\n",
       "      <td>General Contractors And Subcontractors For Sen...</td>\n",
       "      <td>Construction - Restoration</td>\n",
       "      <td>Services</td>\n",
       "      <td>Pre-Qualification</td>\n",
       "      <td>PQ-20-156</td>\n",
       "      <td>Mar 5</td>\n",
       "      <td>2021.0</td>\n",
       "      <td>Brinkman and Associates Reforestation Limited</td>\n",
       "      <td>NaN</td>\n",
       "      <td>0.0</td>\n",
       "    </tr>\n",
       "    <tr>\n",
       "      <th>2</th>\n",
       "      <td>York Region</td>\n",
       "      <td>General Contractors And Subcontractors For Sen...</td>\n",
       "      <td>Construction - Restoration</td>\n",
       "      <td>Services</td>\n",
       "      <td>Pre-Qualification</td>\n",
       "      <td>PQ-20-156</td>\n",
       "      <td>Mar 5</td>\n",
       "      <td>2021.0</td>\n",
       "      <td>Cambridge Landscaping &amp; Construction Ltd</td>\n",
       "      <td>NaN</td>\n",
       "      <td>1.0</td>\n",
       "    </tr>\n",
       "    <tr>\n",
       "      <th>3</th>\n",
       "      <td>York Region</td>\n",
       "      <td>General Contractors And Subcontractors For Sen...</td>\n",
       "      <td>Construction - Restoration</td>\n",
       "      <td>Services</td>\n",
       "      <td>Pre-Qualification</td>\n",
       "      <td>PQ-20-156</td>\n",
       "      <td>Mar 5</td>\n",
       "      <td>2021.0</td>\n",
       "      <td>CSL Group Ltd</td>\n",
       "      <td>NaN</td>\n",
       "      <td>0.0</td>\n",
       "    </tr>\n",
       "    <tr>\n",
       "      <th>4</th>\n",
       "      <td>York Region</td>\n",
       "      <td>General Contractors And Subcontractors For Sen...</td>\n",
       "      <td>Construction - Restoration</td>\n",
       "      <td>Services</td>\n",
       "      <td>Pre-Qualification</td>\n",
       "      <td>PQ-20-156</td>\n",
       "      <td>Mar 5</td>\n",
       "      <td>2021.0</td>\n",
       "      <td>Dynex Construction Inc.</td>\n",
       "      <td>NaN</td>\n",
       "      <td>1.0</td>\n",
       "    </tr>\n",
       "  </tbody>\n",
       "</table>\n",
       "</div>"
      ],
      "text/plain": [
       "   client_name                                       project_name  \\\n",
       "0  York Region  General Contractors And Subcontractors For Sen...   \n",
       "1  York Region  General Contractors And Subcontractors For Sen...   \n",
       "2  York Region  General Contractors And Subcontractors For Sen...   \n",
       "3  York Region  General Contractors And Subcontractors For Sen...   \n",
       "4  York Region  General Contractors And Subcontractors For Sen...   \n",
       "\n",
       "                     Category bid_classification           bid_type  \\\n",
       "0  Construction - Restoration           Services  Pre-Qualification   \n",
       "1  Construction - Restoration           Services  Pre-Qualification   \n",
       "2  Construction - Restoration           Services  Pre-Qualification   \n",
       "3  Construction - Restoration           Services  Pre-Qualification   \n",
       "4  Construction - Restoration           Services  Pre-Qualification   \n",
       "\n",
       "      bid_ID awarded_date  awarded_year  \\\n",
       "0  PQ-20-156        Mar 5        2021.0   \n",
       "1  PQ-20-156        Mar 5        2021.0   \n",
       "2  PQ-20-156        Mar 5        2021.0   \n",
       "3  PQ-20-156        Mar 5        2021.0   \n",
       "4  PQ-20-156        Mar 5        2021.0   \n",
       "\n",
       "                                    company_name submitted_price  \\\n",
       "0    560789 Ontario Limited o/a R&M Construction             NaN   \n",
       "1  Brinkman and Associates Reforestation Limited             NaN   \n",
       "2       Cambridge Landscaping & Construction Ltd             NaN   \n",
       "3                                  CSL Group Ltd             NaN   \n",
       "4                        Dynex Construction Inc.             NaN   \n",
       "\n",
       "   winning_status  \n",
       "0             1.0  \n",
       "1             0.0  \n",
       "2             1.0  \n",
       "3             0.0  \n",
       "4             1.0  "
      ]
     },
     "execution_count": 64,
     "metadata": {},
     "output_type": "execute_result"
    }
   ],
   "source": [
    "df.head()"
   ]
  },
  {
   "cell_type": "markdown",
   "id": "bcc8a272",
   "metadata": {},
   "source": [
    "## 1.1 Data Explanation"
   ]
  },
  {
   "cell_type": "markdown",
   "id": "b4b80f43",
   "metadata": {},
   "source": [
    "### 1.1.1 Data Explanation - client_name"
   ]
  },
  {
   "cell_type": "code",
   "execution_count": 42,
   "id": "f82004eb",
   "metadata": {},
   "outputs": [
    {
     "data": {
      "text/plain": [
       "19"
      ]
     },
     "execution_count": 42,
     "metadata": {},
     "output_type": "execute_result"
    }
   ],
   "source": [
    "client_list = df.client_name.unique().tolist()\n",
    "len(client_list)"
   ]
  },
  {
   "cell_type": "code",
   "execution_count": 43,
   "id": "0e3f2339",
   "metadata": {},
   "outputs": [
    {
     "data": {
      "text/plain": [
       "['York Region',\n",
       " 'Waterloo Region',\n",
       " 'Simcoe County',\n",
       " 'Peterborough County',\n",
       " 'Niagara Region',\n",
       " 'Halton Region',\n",
       " 'Haldimand County',\n",
       " 'Durham Region',\n",
       " 'Dufferin County',\n",
       " 'City Of Peterborough',\n",
       " 'City of Orillia',\n",
       " 'City of London',\n",
       " 'City of Kawartha Lakes',\n",
       " 'City of Hamilton',\n",
       " 'City of Guelph',\n",
       " 'City of Brantford',\n",
       " 'City of Barrie',\n",
       " 'Brant County',\n",
       " 'Peel Region']"
      ]
     },
     "execution_count": 43,
     "metadata": {},
     "output_type": "execute_result"
    }
   ],
   "source": [
    "client_list"
   ]
  },
  {
   "cell_type": "markdown",
   "id": "4b67f66b",
   "metadata": {},
   "source": [
    "There are 19 clients included in the dataset. The client name will not be used as an input for NLP because the client name does not have any affect on the project name and project category."
   ]
  },
  {
   "cell_type": "markdown",
   "id": "7657f516",
   "metadata": {},
   "source": [
    "### 1.1.2 Data Explanation - Category"
   ]
  },
  {
   "cell_type": "code",
   "execution_count": 44,
   "id": "852e87ae",
   "metadata": {},
   "outputs": [
    {
     "data": {
      "text/plain": [
       "count                      593\n",
       "unique                      11\n",
       "top       Construction - Civil\n",
       "freq                       155\n",
       "Name: Category, dtype: object"
      ]
     },
     "execution_count": 44,
     "metadata": {},
     "output_type": "execute_result"
    }
   ],
   "source": [
    "df.Category.describe()"
   ]
  },
  {
   "cell_type": "code",
   "execution_count": 45,
   "id": "673209dd",
   "metadata": {},
   "outputs": [
    {
     "data": {
      "text/plain": [
       "['Construction - Restoration',\n",
       " 'Supplier',\n",
       " 'Consulting - Water Wastewater Linear',\n",
       " 'Consulting - Transportation',\n",
       " 'Construction - Health',\n",
       " 'Construction - Transportation',\n",
       " 'Construction - Facility',\n",
       " 'Construction - Civil',\n",
       " 'Consulting - Water Wastewater Vertical',\n",
       " 'Construction - Water Wastewater',\n",
       " 'Consulting - Others',\n",
       " nan]"
      ]
     },
     "execution_count": 45,
     "metadata": {},
     "output_type": "execute_result"
    }
   ],
   "source": [
    "df.Category.unique().tolist()"
   ]
  },
  {
   "cell_type": "markdown",
   "id": "9844af25",
   "metadata": {},
   "source": [
    "The category is our target. All the existing values are added by me. We will remove them and add category later."
   ]
  },
  {
   "cell_type": "markdown",
   "id": "7ee0cc62",
   "metadata": {},
   "source": [
    "### 1.1.3 Data Explanation - bid_classification"
   ]
  },
  {
   "cell_type": "code",
   "execution_count": 46,
   "id": "fc60d6e0",
   "metadata": {},
   "outputs": [
    {
     "data": {
      "text/plain": [
       "array(['Services', 'Construction', 'Goods', nan], dtype=object)"
      ]
     },
     "execution_count": 46,
     "metadata": {},
     "output_type": "execute_result"
    }
   ],
   "source": [
    "df.bid_classification.unique()"
   ]
  },
  {
   "cell_type": "code",
   "execution_count": 50,
   "id": "b309462d",
   "metadata": {},
   "outputs": [
    {
     "data": {
      "text/plain": [
       "Services        16952\n",
       "Construction    16802\n",
       "NaN              9402\n",
       "Goods            5051\n",
       "Name: bid_classification, dtype: int64"
      ]
     },
     "execution_count": 50,
     "metadata": {},
     "output_type": "execute_result"
    }
   ],
   "source": [
    "df.bid_classification.value_counts(dropna = False)"
   ]
  },
  {
   "cell_type": "code",
   "execution_count": 55,
   "id": "33b202a0",
   "metadata": {},
   "outputs": [
    {
     "data": {
      "text/html": [
       "<div>\n",
       "<style scoped>\n",
       "    .dataframe tbody tr th:only-of-type {\n",
       "        vertical-align: middle;\n",
       "    }\n",
       "\n",
       "    .dataframe tbody tr th {\n",
       "        vertical-align: top;\n",
       "    }\n",
       "\n",
       "    .dataframe thead th {\n",
       "        text-align: right;\n",
       "    }\n",
       "</style>\n",
       "<table border=\"1\" class=\"dataframe\">\n",
       "  <thead>\n",
       "    <tr style=\"text-align: right;\">\n",
       "      <th></th>\n",
       "      <th>client_name</th>\n",
       "      <th>project_name</th>\n",
       "      <th>Category</th>\n",
       "      <th>bid_classification</th>\n",
       "      <th>bid_type</th>\n",
       "      <th>bid_ID</th>\n",
       "      <th>awarded_date</th>\n",
       "      <th>awarded_year</th>\n",
       "      <th>company_name</th>\n",
       "      <th>submitted_price</th>\n",
       "      <th>winning_status</th>\n",
       "    </tr>\n",
       "  </thead>\n",
       "  <tbody>\n",
       "    <tr>\n",
       "      <th>6433</th>\n",
       "      <td>York Region</td>\n",
       "      <td>Emergency Repairs To Roads And Related Road Fa...</td>\n",
       "      <td>NaN</td>\n",
       "      <td>NaN</td>\n",
       "      <td>Tender</td>\n",
       "      <td>T-15-94</td>\n",
       "      <td>Mar 15</td>\n",
       "      <td>2016.0</td>\n",
       "      <td>K.J. Beamish Construction Co., Limited</td>\n",
       "      <td>$2,979,666.00</td>\n",
       "      <td>0.0</td>\n",
       "    </tr>\n",
       "    <tr>\n",
       "      <th>6434</th>\n",
       "      <td>York Region</td>\n",
       "      <td>Emergency Repairs To Roads And Related Road Fa...</td>\n",
       "      <td>NaN</td>\n",
       "      <td>NaN</td>\n",
       "      <td>Tender</td>\n",
       "      <td>T-15-94</td>\n",
       "      <td>Mar 15</td>\n",
       "      <td>2016.0</td>\n",
       "      <td>614128 Ontario Ltd o/a Trisan Construction</td>\n",
       "      <td>$5,532,704.00</td>\n",
       "      <td>0.0</td>\n",
       "    </tr>\n",
       "    <tr>\n",
       "      <th>6571</th>\n",
       "      <td>York Region</td>\n",
       "      <td>Construction Of The Midblock Collector Road An...</td>\n",
       "      <td>NaN</td>\n",
       "      <td>NaN</td>\n",
       "      <td>Tender</td>\n",
       "      <td>T-14-53</td>\n",
       "      <td>Apr 12</td>\n",
       "      <td>2016.0</td>\n",
       "      <td>Aecon Construction and Materials Limited</td>\n",
       "      <td>$41,375,923.41</td>\n",
       "      <td>0.0</td>\n",
       "    </tr>\n",
       "    <tr>\n",
       "      <th>6572</th>\n",
       "      <td>York Region</td>\n",
       "      <td>Construction Of The Midblock Collector Road An...</td>\n",
       "      <td>NaN</td>\n",
       "      <td>NaN</td>\n",
       "      <td>Tender</td>\n",
       "      <td>T-14-53</td>\n",
       "      <td>Apr 12</td>\n",
       "      <td>2016.0</td>\n",
       "      <td>Brennan Paving &amp; Construction Ltd.</td>\n",
       "      <td>$35,811,814.16</td>\n",
       "      <td>1.0</td>\n",
       "    </tr>\n",
       "    <tr>\n",
       "      <th>6573</th>\n",
       "      <td>York Region</td>\n",
       "      <td>Construction Of The Midblock Collector Road An...</td>\n",
       "      <td>NaN</td>\n",
       "      <td>NaN</td>\n",
       "      <td>Tender</td>\n",
       "      <td>T-14-53</td>\n",
       "      <td>Apr 12</td>\n",
       "      <td>2016.0</td>\n",
       "      <td>Coco Paving Inc.</td>\n",
       "      <td>$41,589,331.45</td>\n",
       "      <td>0.0</td>\n",
       "    </tr>\n",
       "  </tbody>\n",
       "</table>\n",
       "</div>"
      ],
      "text/plain": [
       "      client_name                                       project_name Category  \\\n",
       "6433  York Region  Emergency Repairs To Roads And Related Road Fa...      NaN   \n",
       "6434  York Region  Emergency Repairs To Roads And Related Road Fa...      NaN   \n",
       "6571  York Region  Construction Of The Midblock Collector Road An...      NaN   \n",
       "6572  York Region  Construction Of The Midblock Collector Road An...      NaN   \n",
       "6573  York Region  Construction Of The Midblock Collector Road An...      NaN   \n",
       "\n",
       "     bid_classification bid_type   bid_ID awarded_date  awarded_year  \\\n",
       "6433                NaN   Tender  T-15-94       Mar 15        2016.0   \n",
       "6434                NaN   Tender  T-15-94       Mar 15        2016.0   \n",
       "6571                NaN   Tender  T-14-53       Apr 12        2016.0   \n",
       "6572                NaN   Tender  T-14-53       Apr 12        2016.0   \n",
       "6573                NaN   Tender  T-14-53       Apr 12        2016.0   \n",
       "\n",
       "                                    company_name  submitted_price  \\\n",
       "6433      K.J. Beamish Construction Co., Limited   $2,979,666.00    \n",
       "6434  614128 Ontario Ltd o/a Trisan Construction   $5,532,704.00    \n",
       "6571    Aecon Construction and Materials Limited  $41,375,923.41    \n",
       "6572          Brennan Paving & Construction Ltd.  $35,811,814.16    \n",
       "6573                            Coco Paving Inc.  $41,589,331.45    \n",
       "\n",
       "      winning_status  \n",
       "6433             0.0  \n",
       "6434             0.0  \n",
       "6571             0.0  \n",
       "6572             1.0  \n",
       "6573             0.0  "
      ]
     },
     "execution_count": 55,
     "metadata": {},
     "output_type": "execute_result"
    }
   ],
   "source": [
    "df[df.bid_classification.isnull()].head()"
   ]
  },
  {
   "cell_type": "code",
   "execution_count": null,
   "id": "c97384ba",
   "metadata": {},
   "outputs": [],
   "source": []
  },
  {
   "cell_type": "code",
   "execution_count": null,
   "id": "696c13c7",
   "metadata": {},
   "outputs": [],
   "source": []
  },
  {
   "cell_type": "code",
   "execution_count": null,
   "id": "048d56da",
   "metadata": {},
   "outputs": [],
   "source": []
  },
  {
   "cell_type": "code",
   "execution_count": null,
   "id": "eaa2cbd5",
   "metadata": {},
   "outputs": [],
   "source": []
  },
  {
   "cell_type": "code",
   "execution_count": null,
   "id": "db0a1c97",
   "metadata": {},
   "outputs": [],
   "source": []
  },
  {
   "cell_type": "code",
   "execution_count": null,
   "id": "df6726e9",
   "metadata": {},
   "outputs": [],
   "source": []
  },
  {
   "cell_type": "code",
   "execution_count": null,
   "id": "a8889f74",
   "metadata": {},
   "outputs": [],
   "source": []
  },
  {
   "cell_type": "code",
   "execution_count": null,
   "id": "19c57b20",
   "metadata": {},
   "outputs": [],
   "source": []
  },
  {
   "cell_type": "markdown",
   "id": "1cea9e9f",
   "metadata": {},
   "source": [
    "## 3.0 Data Observation"
   ]
  },
  {
   "cell_type": "markdown",
   "id": "d7ab8afb",
   "metadata": {},
   "source": [
    "### 3.1 Obtain data\n",
    "Use pandas to read the data I scrapped."
   ]
  },
  {
   "cell_type": "code",
   "execution_count": 28,
   "id": "1d573063",
   "metadata": {},
   "outputs": [],
   "source": [
    "excel_path = '/Users/delinmu/Documents/GitHub/BidTing/result/data.xlsx'\n",
    "bidding_info = pd.read_excel(excel_path, sheet_name='Ori')"
   ]
  },
  {
   "cell_type": "code",
   "execution_count": null,
   "id": "20196bdc",
   "metadata": {
    "pycharm": {
     "is_executing": true
    }
   },
   "outputs": [],
   "source": [
    "# a quick view of bidding_info dataframe\n",
    "bidding_info.head()"
   ]
  },
  {
   "cell_type": "markdown",
   "id": "2c711b2b",
   "metadata": {},
   "source": [
    "### 3.2 Dataframe Observation\n",
    "A couple of questions I want to know here. \n",
    "1. How many unique clients in the dataframe?\n",
    "2. How many unique projects in the dataframe?\n",
    "3. A table includes 3 columns: client_name, bid_id, project_name, and awarded_year for me to tell how many projects were on the project over the time span"
   ]
  },
  {
   "cell_type": "markdown",
   "id": "475de5e0",
   "metadata": {},
   "source": [
    "### 3.2.1 Unique Clients\n",
    "A simple value_counts() method is used to reveal the information. Alternatively, nunique() can also reveal the information."
   ]
  },
  {
   "cell_type": "code",
   "execution_count": 39,
   "id": "28c82a66",
   "metadata": {},
   "outputs": [
    {
     "data": {
      "text/plain": [
       "York Region               9726\n",
       "Peel Region               5519\n",
       "City of Guelph            5227\n",
       "Waterloo Region           5067\n",
       "City of Hamilton          3857\n",
       "City of Brantford         3111\n",
       "Halton Region             2521\n",
       "City of London            2453\n",
       "Durham Region             2401\n",
       "Niagara Region            1777\n",
       "City of Barrie            1463\n",
       "Simcoe County             1295\n",
       "Brant County              1004\n",
       "City of Kawartha Lakes     849\n",
       "City of Orillia            493\n",
       "Peterborough County        439\n",
       "City Of Peterborough       429\n",
       "Dufferin County            330\n",
       "Haldimand County           246\n",
       "Name: client_name, dtype: int64"
      ]
     },
     "execution_count": 39,
     "metadata": {},
     "output_type": "execute_result"
    }
   ],
   "source": [
    "# view of the data type of my dataframe\n",
    "bidding_info.client_name.value_counts()"
   ]
  },
  {
   "cell_type": "markdown",
   "id": "638d91c7",
   "metadata": {},
   "source": [
    "Note that value count for each client does not represent number of unique projects."
   ]
  },
  {
   "cell_type": "code",
   "execution_count": 40,
   "id": "267eb0f4",
   "metadata": {},
   "outputs": [
    {
     "data": {
      "text/plain": [
       "19"
      ]
     },
     "execution_count": 40,
     "metadata": {},
     "output_type": "execute_result"
    }
   ],
   "source": [
    "len(bidding_info.client_name.value_counts())"
   ]
  },
  {
   "cell_type": "markdown",
   "id": "99af72d9",
   "metadata": {},
   "source": [
    "In total, we have 19 clients collected in the dataframe. This is good to know how many geographical segementtation  we "
   ]
  }
 ],
 "metadata": {
  "kernelspec": {
   "display_name": "Python 3 (ipykernel)",
   "language": "python",
   "name": "python3"
  },
  "language_info": {
   "codemirror_mode": {
    "name": "ipython",
    "version": 3
   },
   "file_extension": ".py",
   "mimetype": "text/x-python",
   "name": "python",
   "nbconvert_exporter": "python",
   "pygments_lexer": "ipython3",
   "version": "3.9.7"
  }
 },
 "nbformat": 4,
 "nbformat_minor": 5
}
