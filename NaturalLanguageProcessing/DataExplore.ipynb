{
 "cells": [
  {
   "cell_type": "markdown",
   "id": "edaa51b5",
   "metadata": {},
   "source": [
    "# 1 Data Overview<a id='Data Overview'></a>"
   ]
  },
  {
   "cell_type": "markdown",
   "id": "0e7fb739",
   "metadata": {},
   "source": [
    "## 1.1 Introduction"
   ]
  },
  {
   "cell_type": "markdown",
   "id": "4a53e29d",
   "metadata": {},
   "source": [
    "I designed a web scrapping tool to collect all biding information. I want to use the opportunity to explore my data."
   ]
  },
  {
   "cell_type": "markdown",
   "id": "acf449cf",
   "metadata": {},
   "source": [
    "## 2.0 Imports"
   ]
  },
  {
   "cell_type": "code",
   "execution_count": 10,
   "id": "064e029c",
   "metadata": {},
   "outputs": [],
   "source": [
    "import pandas as pd\n",
    "import numpy as np"
   ]
  },
  {
   "cell_type": "markdown",
   "id": "1cea9e9f",
   "metadata": {},
   "source": [
    "## 3.0 Data Observation"
   ]
  },
  {
   "cell_type": "markdown",
   "id": "d7ab8afb",
   "metadata": {},
   "source": [
    "### 3.1 Obtain data\n",
    "Use pandas to read the data I scrapped."
   ]
  },
  {
   "cell_type": "code",
   "execution_count": 28,
   "id": "1d573063",
   "metadata": {},
   "outputs": [],
   "source": [
    "excel_path = '/Users/delinmu/Documents/GitHub/BidTing/result/data.xlsx'\n",
    "bidding_info = pd.read_excel(excel_path, sheet_name='Ori')"
   ]
  },
  {
   "cell_type": "code",
   "execution_count": 17,
   "id": "20196bdc",
   "metadata": {},
   "outputs": [
    {
     "data": {
      "text/html": [
       "<div>\n",
       "<style scoped>\n",
       "    .dataframe tbody tr th:only-of-type {\n",
       "        vertical-align: middle;\n",
       "    }\n",
       "\n",
       "    .dataframe tbody tr th {\n",
       "        vertical-align: top;\n",
       "    }\n",
       "\n",
       "    .dataframe thead th {\n",
       "        text-align: right;\n",
       "    }\n",
       "</style>\n",
       "<table border=\"1\" class=\"dataframe\">\n",
       "  <thead>\n",
       "    <tr style=\"text-align: right;\">\n",
       "      <th></th>\n",
       "      <th>client_name</th>\n",
       "      <th>project_name</th>\n",
       "      <th>bid_classification</th>\n",
       "      <th>bid_type</th>\n",
       "      <th>bid_ID</th>\n",
       "      <th>awarded_date</th>\n",
       "      <th>awarded_year</th>\n",
       "      <th>company_name</th>\n",
       "      <th>submitted_price</th>\n",
       "      <th>winning_status</th>\n",
       "    </tr>\n",
       "  </thead>\n",
       "  <tbody>\n",
       "    <tr>\n",
       "      <th>0</th>\n",
       "      <td>York Region</td>\n",
       "      <td>General Contractors And Subcontractors For Sen...</td>\n",
       "      <td>Services</td>\n",
       "      <td>Pre-Qualification</td>\n",
       "      <td>PQ-20-156</td>\n",
       "      <td>Mar 5</td>\n",
       "      <td>2021.0</td>\n",
       "      <td>560789 Ontario Limited o/a R&amp;M Construction</td>\n",
       "      <td>NaN</td>\n",
       "      <td>1.0</td>\n",
       "    </tr>\n",
       "    <tr>\n",
       "      <th>1</th>\n",
       "      <td>York Region</td>\n",
       "      <td>General Contractors And Subcontractors For Sen...</td>\n",
       "      <td>Services</td>\n",
       "      <td>Pre-Qualification</td>\n",
       "      <td>PQ-20-156</td>\n",
       "      <td>Mar 5</td>\n",
       "      <td>2021.0</td>\n",
       "      <td>Brinkman and Associates Reforestation Limited</td>\n",
       "      <td>NaN</td>\n",
       "      <td>0.0</td>\n",
       "    </tr>\n",
       "    <tr>\n",
       "      <th>2</th>\n",
       "      <td>York Region</td>\n",
       "      <td>General Contractors And Subcontractors For Sen...</td>\n",
       "      <td>Services</td>\n",
       "      <td>Pre-Qualification</td>\n",
       "      <td>PQ-20-156</td>\n",
       "      <td>Mar 5</td>\n",
       "      <td>2021.0</td>\n",
       "      <td>Cambridge Landscaping &amp; Construction Ltd</td>\n",
       "      <td>NaN</td>\n",
       "      <td>1.0</td>\n",
       "    </tr>\n",
       "    <tr>\n",
       "      <th>3</th>\n",
       "      <td>York Region</td>\n",
       "      <td>General Contractors And Subcontractors For Sen...</td>\n",
       "      <td>Services</td>\n",
       "      <td>Pre-Qualification</td>\n",
       "      <td>PQ-20-156</td>\n",
       "      <td>Mar 5</td>\n",
       "      <td>2021.0</td>\n",
       "      <td>CSL Group Ltd</td>\n",
       "      <td>NaN</td>\n",
       "      <td>0.0</td>\n",
       "    </tr>\n",
       "    <tr>\n",
       "      <th>4</th>\n",
       "      <td>York Region</td>\n",
       "      <td>General Contractors And Subcontractors For Sen...</td>\n",
       "      <td>Services</td>\n",
       "      <td>Pre-Qualification</td>\n",
       "      <td>PQ-20-156</td>\n",
       "      <td>Mar 5</td>\n",
       "      <td>2021.0</td>\n",
       "      <td>Dynex Construction Inc.</td>\n",
       "      <td>NaN</td>\n",
       "      <td>1.0</td>\n",
       "    </tr>\n",
       "  </tbody>\n",
       "</table>\n",
       "</div>"
      ],
      "text/plain": [
       "   client_name                                       project_name  \\\n",
       "0  York Region  General Contractors And Subcontractors For Sen...   \n",
       "1  York Region  General Contractors And Subcontractors For Sen...   \n",
       "2  York Region  General Contractors And Subcontractors For Sen...   \n",
       "3  York Region  General Contractors And Subcontractors For Sen...   \n",
       "4  York Region  General Contractors And Subcontractors For Sen...   \n",
       "\n",
       "  bid_classification           bid_type     bid_ID awarded_date  awarded_year  \\\n",
       "0           Services  Pre-Qualification  PQ-20-156        Mar 5        2021.0   \n",
       "1           Services  Pre-Qualification  PQ-20-156        Mar 5        2021.0   \n",
       "2           Services  Pre-Qualification  PQ-20-156        Mar 5        2021.0   \n",
       "3           Services  Pre-Qualification  PQ-20-156        Mar 5        2021.0   \n",
       "4           Services  Pre-Qualification  PQ-20-156        Mar 5        2021.0   \n",
       "\n",
       "                                    company_name submitted_price  \\\n",
       "0    560789 Ontario Limited o/a R&M Construction             NaN   \n",
       "1  Brinkman and Associates Reforestation Limited             NaN   \n",
       "2       Cambridge Landscaping & Construction Ltd             NaN   \n",
       "3                                  CSL Group Ltd             NaN   \n",
       "4                        Dynex Construction Inc.             NaN   \n",
       "\n",
       "   winning_status  \n",
       "0             1.0  \n",
       "1             0.0  \n",
       "2             1.0  \n",
       "3             0.0  \n",
       "4             1.0  "
      ]
     },
     "execution_count": 17,
     "metadata": {},
     "output_type": "execute_result"
    }
   ],
   "source": [
    "# a quick view of bidding_info dataframe\n",
    "bidding_info.head()"
   ]
  },
  {
   "cell_type": "markdown",
   "id": "2c711b2b",
   "metadata": {},
   "source": [
    "### 3.2 Dataframe Observation\n",
    "A couple of questions I want to know here. \n",
    "1. How many unique clients in the dataframe?\n",
    "2. How many unique projects in the dataframe?\n",
    "3. A table includes 3 columns: client_name, bid_id, project_name, and awarded_year for me to tell how many projects were on the project over the time span"
   ]
  },
  {
   "cell_type": "markdown",
   "id": "475de5e0",
   "metadata": {},
   "source": [
    "### 3.2.1 Unique Clients\n",
    "A simple value_counts() method is used to reveal the information. Alternatively, nunique() can also reveal the information."
   ]
  },
  {
   "cell_type": "code",
   "execution_count": 39,
   "id": "28c82a66",
   "metadata": {},
   "outputs": [
    {
     "data": {
      "text/plain": [
       "York Region               9726\n",
       "Peel Region               5519\n",
       "City of Guelph            5227\n",
       "Waterloo Region           5067\n",
       "City of Hamilton          3857\n",
       "City of Brantford         3111\n",
       "Halton Region             2521\n",
       "City of London            2453\n",
       "Durham Region             2401\n",
       "Niagara Region            1777\n",
       "City of Barrie            1463\n",
       "Simcoe County             1295\n",
       "Brant County              1004\n",
       "City of Kawartha Lakes     849\n",
       "City of Orillia            493\n",
       "Peterborough County        439\n",
       "City Of Peterborough       429\n",
       "Dufferin County            330\n",
       "Haldimand County           246\n",
       "Name: client_name, dtype: int64"
      ]
     },
     "execution_count": 39,
     "metadata": {},
     "output_type": "execute_result"
    }
   ],
   "source": [
    "# view of the data type of my dataframe\n",
    "bidding_info.client_name.value_counts()"
   ]
  },
  {
   "cell_type": "markdown",
   "id": "638d91c7",
   "metadata": {},
   "source": [
    "Note that value count for each client does not represent number of unique projects."
   ]
  },
  {
   "cell_type": "code",
   "execution_count": 40,
   "id": "267eb0f4",
   "metadata": {},
   "outputs": [
    {
     "data": {
      "text/plain": [
       "19"
      ]
     },
     "execution_count": 40,
     "metadata": {},
     "output_type": "execute_result"
    }
   ],
   "source": [
    "len(bidding_info.client_name.value_counts())"
   ]
  },
  {
   "cell_type": "markdown",
   "id": "99af72d9",
   "metadata": {},
   "source": [
    "In total, we have 19 clients collected in the dataframe. This is good to know how many geographical segementtation  we "
   ]
  }
 ],
 "metadata": {
  "kernelspec": {
   "display_name": "Python 3 (ipykernel)",
   "language": "python",
   "name": "python3"
  },
  "language_info": {
   "codemirror_mode": {
    "name": "ipython",
    "version": 3
   },
   "file_extension": ".py",
   "mimetype": "text/x-python",
   "name": "python",
   "nbconvert_exporter": "python",
   "pygments_lexer": "ipython3",
   "version": "3.9.7"
  }
 },
 "nbformat": 4,
 "nbformat_minor": 5
}
